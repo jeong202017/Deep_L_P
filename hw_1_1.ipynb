{
 "cells": [
  {
   "cell_type": "code",
   "id": "17936ffa",
   "metadata": {
    "ExecuteTime": {
     "end_time": "2024-09-24T14:18:25.805850Z",
     "start_time": "2024-09-24T14:18:24.206493Z"
    }
   },
   "source": [
    "import torch\n",
    "import numpy as np"
   ],
   "outputs": [],
   "execution_count": 1
  },
  {
   "cell_type": "code",
   "id": "fea9819b",
   "metadata": {
    "ExecuteTime": {
     "end_time": "2024-09-24T14:18:25.982139Z",
     "start_time": "2024-09-24T14:18:25.976551Z"
    }
   },
   "source": [
    "# torch.Tensor class\n",
    "t1 = torch.Tensor([1, 2, 3], device='cpu')\n",
    "print(t1.dtype)   # >>> torch.float32\n",
    "print(t1.device)  # >>> cpu\n",
    "print(t1.requires_grad)  # >>> False\n",
    "print(t1.size())  # torch.Size([3])\n",
    "print(t1.shape)   # torch.Size([3])"
   ],
   "outputs": [
    {
     "name": "stdout",
     "output_type": "stream",
     "text": [
      "torch.float32\n",
      "cpu\n",
      "False\n",
      "torch.Size([3])\n",
      "torch.Size([3])\n"
     ]
    }
   ],
   "execution_count": 2
  },
  {
   "metadata": {
    "ExecuteTime": {
     "end_time": "2024-09-24T14:18:26.192133Z",
     "start_time": "2024-09-24T14:18:26.188091Z"
    }
   },
   "cell_type": "code",
   "outputs": [
    {
     "name": "stdout",
     "output_type": "stream",
     "text": [
      "################################################## 1\n"
     ]
    }
   ],
   "source": [
    "# if you have gpu device\n",
    "# t1_cuda = t1.to(torch.device('cuda'))\n",
    "# or you can use shorthand\n",
    "# t1_cuda = t1.cuda()\n",
    "t1_cpu = t1.cpu()\n",
    "\n",
    "print(\"#\" * 50, 1)"
   ],
   "id": "ff5d7d64",
   "execution_count": null
  },
  {
   "cell_type": "code",
   "id": "fccc1402",
   "metadata": {
    "ExecuteTime": {
     "end_time": "2024-09-24T14:18:26.465312Z",
     "start_time": "2024-09-24T14:18:26.460880Z"
    }
   },
   "source": [
    "# torch.tensor function\n",
    "t2 = torch.tensor([1, 2, 3], device='cpu')\n",
    "print(t2.dtype)  # >>> torch.int64\n",
    "print(t2.device)  # >>> cpu\n",
    "print(t2.requires_grad)  # >>> False\n",
    "print(t2.size())  # torch.Size([3])\n",
    "print(t2.shape)  # torch.Size([3])"
   ],
   "outputs": [
    {
     "name": "stdout",
     "output_type": "stream",
     "text": [
      "torch.int64\n",
      "cpu\n",
      "False\n",
      "torch.Size([3])\n",
      "torch.Size([3])\n"
     ]
    }
   ],
   "execution_count": 4
  },
  {
   "metadata": {
    "ExecuteTime": {
     "end_time": "2024-09-24T14:18:26.639562Z",
     "start_time": "2024-09-24T14:18:26.635098Z"
    }
   },
   "cell_type": "code",
   "outputs": [
    {
     "name": "stdout",
     "output_type": "stream",
     "text": [
      "################################################## 2\n"
     ]
    }
   ],
   "source": [
    "# if you have gpu device\n",
    "# t2_cuda = t2.to(torch.device('cuda'))\n",
    "# or you can use shorthand\n",
    "# t2_cuda = t2.cuda()\n",
    "t2_cpu = t2.cpu()\n",
    "\n",
    "print(\"#\" * 50, 2)"
   ],
   "id": "f37ca96e",
   "execution_count": null
  },
  {
   "cell_type": "code",
   "id": "6f7dbccd",
   "metadata": {
    "ExecuteTime": {
     "end_time": "2024-09-24T14:18:26.809271Z",
     "start_time": "2024-09-24T14:18:26.803925Z"
    }
   },
   "source": [
    "a1 = torch.tensor(1)\t\t\t     # shape: torch.Size([]), ndims(=rank): 0\n",
    "print(a1.shape, a1.ndim)"
   ],
   "outputs": [
    {
     "name": "stdout",
     "output_type": "stream",
     "text": [
      "torch.Size([]) 0\n"
     ]
    }
   ],
   "execution_count": 6
  },
  {
   "cell_type": "code",
   "id": "56b42ff0",
   "metadata": {
    "ExecuteTime": {
     "end_time": "2024-09-24T14:18:26.951682Z",
     "start_time": "2024-09-24T14:18:26.946433Z"
    }
   },
   "source": [
    "a2 = torch.tensor([1])\t\t  \t     # shape: torch.Size([1]), ndims(=rank): 1\n",
    "print(a2.shape, a2.ndim)"
   ],
   "outputs": [
    {
     "name": "stdout",
     "output_type": "stream",
     "text": [
      "torch.Size([1]) 1\n"
     ]
    }
   ],
   "execution_count": 7
  },
  {
   "cell_type": "code",
   "id": "037ccb90",
   "metadata": {
    "ExecuteTime": {
     "end_time": "2024-09-24T14:18:27.133598Z",
     "start_time": "2024-09-24T14:18:27.129121Z"
    }
   },
   "source": [
    "a3 = torch.tensor([1, 2, 3, 4, 5])   # shape: torch.Size([5]), ndims(=rank): 1\n",
    "print(a3.shape, a3.ndim)"
   ],
   "outputs": [
    {
     "name": "stdout",
     "output_type": "stream",
     "text": [
      "torch.Size([5]) 1\n"
     ]
    }
   ],
   "execution_count": 8
  },
  {
   "cell_type": "code",
   "id": "70dae772",
   "metadata": {
    "ExecuteTime": {
     "end_time": "2024-09-24T14:18:27.559563Z",
     "start_time": "2024-09-24T14:18:27.554889Z"
    }
   },
   "source": [
    "a4 = torch.tensor([[1], [2], [3], [4], [5]])   # shape: torch.Size([5, 1]), ndims(=rank): 2\n",
    "print(a4.shape, a4.ndim)"
   ],
   "outputs": [
    {
     "name": "stdout",
     "output_type": "stream",
     "text": [
      "torch.Size([5, 1]) 2\n"
     ]
    }
   ],
   "execution_count": 9
  },
  {
   "cell_type": "code",
   "id": "c8e4ef86",
   "metadata": {
    "ExecuteTime": {
     "end_time": "2024-09-24T14:18:27.697245Z",
     "start_time": "2024-09-24T14:18:27.691807Z"
    }
   },
   "source": [
    "a5 = torch.tensor([                 # shape: torch.Size([3, 2]), ndims(=rank): 2\n",
    "    [1, 2],\n",
    "    [3, 4],\n",
    "    [5, 6]\n",
    "])\n",
    "print(a5.shape, a5.ndim)"
   ],
   "outputs": [
    {
     "name": "stdout",
     "output_type": "stream",
     "text": [
      "torch.Size([3, 2]) 2\n"
     ]
    }
   ],
   "execution_count": 10
  },
  {
   "cell_type": "code",
   "id": "04890d6a",
   "metadata": {
    "ExecuteTime": {
     "end_time": "2024-09-24T14:18:27.766211Z",
     "start_time": "2024-09-24T14:18:27.760151Z"
    }
   },
   "source": [
    "a6 = torch.tensor([                 # shape: torch.Size([3, 2, 1]), ndims(=rank): 3\n",
    "    [[1], [2]],\n",
    "    [[3], [4]],\n",
    "    [[5], [6]]\n",
    "])\n",
    "print(a6.shape, a6.ndim)"
   ],
   "outputs": [
    {
     "name": "stdout",
     "output_type": "stream",
     "text": [
      "torch.Size([3, 2, 1]) 3\n"
     ]
    }
   ],
   "execution_count": 11
  },
  {
   "cell_type": "code",
   "id": "67e02a9f",
   "metadata": {
    "ExecuteTime": {
     "end_time": "2024-09-24T14:18:27.854683Z",
     "start_time": "2024-09-24T14:18:27.848978Z"
    }
   },
   "source": [
    "a7 = torch.tensor([                 # shape: torch.Size([3, 1, 2, 1]), ndims(=rank): 4\n",
    "    [[[1], [2]]],\n",
    "    [[[3], [4]]],\n",
    "    [[[5], [6]]]\n",
    "])\n",
    "print(a7.shape, a7.ndim)"
   ],
   "outputs": [
    {
     "name": "stdout",
     "output_type": "stream",
     "text": [
      "torch.Size([3, 1, 2, 1]) 4\n"
     ]
    }
   ],
   "execution_count": 12
  },
  {
   "cell_type": "code",
   "id": "8a733b38",
   "metadata": {
    "ExecuteTime": {
     "end_time": "2024-09-24T14:18:27.901279Z",
     "start_time": "2024-09-24T14:18:27.895923Z"
    }
   },
   "source": [
    "a8 = torch.tensor([                 # shape: torch.Size([3, 1, 2, 3]), ndims(=rank): 4\n",
    "    [[[1, 2, 3], [2, 3, 4]]],\n",
    "    [[[3, 1, 1], [4, 4, 5]]],\n",
    "    [[[5, 6, 2], [6, 3, 1]]]\n",
    "])\n",
    "print(a8.shape, a8.ndim)"
   ],
   "outputs": [
    {
     "name": "stdout",
     "output_type": "stream",
     "text": [
      "torch.Size([3, 1, 2, 3]) 4\n"
     ]
    }
   ],
   "execution_count": 13
  },
  {
   "cell_type": "code",
   "id": "53a31fdf",
   "metadata": {
    "ExecuteTime": {
     "end_time": "2024-09-24T14:18:27.954831Z",
     "start_time": "2024-09-24T14:18:27.947779Z"
    }
   },
   "source": [
    "a9 = torch.tensor([                 # shape: torch.Size([3, 1, 2, 3, 1]), ndims(=rank): 5\n",
    "    [[[[1], [2], [3]], [[2], [3], [4]]]],\n",
    "    [[[[3], [1], [1]], [[4], [4], [5]]]],\n",
    "    [[[[5], [6], [2]], [[6], [3], [1]]]]\n",
    "])\n",
    "print(a9.shape, a9.ndim)"
   ],
   "outputs": [
    {
     "name": "stdout",
     "output_type": "stream",
     "text": [
      "torch.Size([3, 1, 2, 3, 1]) 5\n"
     ]
    }
   ],
   "execution_count": 14
  },
  {
   "cell_type": "code",
   "id": "6dbaabff",
   "metadata": {
    "ExecuteTime": {
     "end_time": "2024-09-24T14:18:28.010512Z",
     "start_time": "2024-09-24T14:18:28.003995Z"
    }
   },
   "source": [
    "a10 = torch.tensor([                 # shape: torch.Size([4, 5]), ndims(=rank): 2\n",
    "    [1, 2, 3, 4, 5],\n",
    "    [1, 2, 3, 4, 5],\n",
    "    [1, 2, 3, 4, 5],\n",
    "    [1, 2, 3, 4, 5],\n",
    "])\n",
    "print(a10.shape, a10.ndim)"
   ],
   "outputs": [
    {
     "name": "stdout",
     "output_type": "stream",
     "text": [
      "torch.Size([4, 5]) 2\n"
     ]
    }
   ],
   "execution_count": 15
  },
  {
   "cell_type": "code",
   "id": "210ba41c",
   "metadata": {
    "ExecuteTime": {
     "end_time": "2024-09-24T14:18:28.066289Z",
     "start_time": "2024-09-24T14:18:28.058675Z"
    }
   },
   "source": [
    "a10 = torch.tensor([                 # shape: torch.Size([4, 1, 5]), ndims(=rank): 3\n",
    "    [[1, 2, 3, 4, 5]],\n",
    "    [[1, 2, 3, 4, 5]],\n",
    "    [[1, 2, 3, 4, 5]],\n",
    "    [[1, 2, 3, 4, 5]],\n",
    "])\n",
    "print(a10.shape, a10.ndim)"
   ],
   "outputs": [
    {
     "name": "stdout",
     "output_type": "stream",
     "text": [
      "torch.Size([4, 1, 5]) 3\n"
     ]
    }
   ],
   "execution_count": 16
  },
  {
   "cell_type": "code",
   "id": "3a037df0",
   "metadata": {
    "ExecuteTime": {
     "end_time": "2024-09-24T14:18:28.562676Z",
     "start_time": "2024-09-24T14:18:28.135860Z"
    }
   },
   "source": [
    "a11 = torch.tensor([                 # ValueError: expected sequence of length 3 at dim 3 (got 2)\n",
    "    [[[1, 2, 3], [4, 5]]],\n",
    "    [[[1, 2, 3], [4, 5]]],\n",
    "    [[[1, 2, 3], [4, 5]]],\n",
    "    [[[1, 2, 3], [4, 5]]],\n",
    "])"
   ],
   "outputs": [
    {
     "ename": "ValueError",
     "evalue": "expected sequence of length 3 at dim 3 (got 2)",
     "output_type": "error",
     "traceback": [
      "\u001B[0;31m---------------------------------------------------------------------------\u001B[0m",
      "\u001B[0;31mValueError\u001B[0m                                Traceback (most recent call last)",
      "Cell \u001B[0;32mIn[17], line 1\u001B[0m\n\u001B[0;32m----> 1\u001B[0m a11 \u001B[38;5;241m=\u001B[39m \u001B[43mtorch\u001B[49m\u001B[38;5;241;43m.\u001B[39;49m\u001B[43mtensor\u001B[49m\u001B[43m(\u001B[49m\u001B[43m[\u001B[49m\u001B[43m                 \u001B[49m\u001B[38;5;66;43;03m# ValueError: expected sequence of length 3 at dim 3 (got 2)\u001B[39;49;00m\n\u001B[1;32m      2\u001B[0m \u001B[43m    \u001B[49m\u001B[43m[\u001B[49m\u001B[43m[\u001B[49m\u001B[43m[\u001B[49m\u001B[38;5;241;43m1\u001B[39;49m\u001B[43m,\u001B[49m\u001B[43m \u001B[49m\u001B[38;5;241;43m2\u001B[39;49m\u001B[43m,\u001B[49m\u001B[43m \u001B[49m\u001B[38;5;241;43m3\u001B[39;49m\u001B[43m]\u001B[49m\u001B[43m,\u001B[49m\u001B[43m \u001B[49m\u001B[43m[\u001B[49m\u001B[38;5;241;43m4\u001B[39;49m\u001B[43m,\u001B[49m\u001B[43m \u001B[49m\u001B[38;5;241;43m5\u001B[39;49m\u001B[43m]\u001B[49m\u001B[43m]\u001B[49m\u001B[43m]\u001B[49m\u001B[43m,\u001B[49m\n\u001B[1;32m      3\u001B[0m \u001B[43m    \u001B[49m\u001B[43m[\u001B[49m\u001B[43m[\u001B[49m\u001B[43m[\u001B[49m\u001B[38;5;241;43m1\u001B[39;49m\u001B[43m,\u001B[49m\u001B[43m \u001B[49m\u001B[38;5;241;43m2\u001B[39;49m\u001B[43m,\u001B[49m\u001B[43m \u001B[49m\u001B[38;5;241;43m3\u001B[39;49m\u001B[43m]\u001B[49m\u001B[43m,\u001B[49m\u001B[43m \u001B[49m\u001B[43m[\u001B[49m\u001B[38;5;241;43m4\u001B[39;49m\u001B[43m,\u001B[49m\u001B[43m \u001B[49m\u001B[38;5;241;43m5\u001B[39;49m\u001B[43m]\u001B[49m\u001B[43m]\u001B[49m\u001B[43m]\u001B[49m\u001B[43m,\u001B[49m\n\u001B[1;32m      4\u001B[0m \u001B[43m    \u001B[49m\u001B[43m[\u001B[49m\u001B[43m[\u001B[49m\u001B[43m[\u001B[49m\u001B[38;5;241;43m1\u001B[39;49m\u001B[43m,\u001B[49m\u001B[43m \u001B[49m\u001B[38;5;241;43m2\u001B[39;49m\u001B[43m,\u001B[49m\u001B[43m \u001B[49m\u001B[38;5;241;43m3\u001B[39;49m\u001B[43m]\u001B[49m\u001B[43m,\u001B[49m\u001B[43m \u001B[49m\u001B[43m[\u001B[49m\u001B[38;5;241;43m4\u001B[39;49m\u001B[43m,\u001B[49m\u001B[43m \u001B[49m\u001B[38;5;241;43m5\u001B[39;49m\u001B[43m]\u001B[49m\u001B[43m]\u001B[49m\u001B[43m]\u001B[49m\u001B[43m,\u001B[49m\n\u001B[1;32m      5\u001B[0m \u001B[43m    \u001B[49m\u001B[43m[\u001B[49m\u001B[43m[\u001B[49m\u001B[43m[\u001B[49m\u001B[38;5;241;43m1\u001B[39;49m\u001B[43m,\u001B[49m\u001B[43m \u001B[49m\u001B[38;5;241;43m2\u001B[39;49m\u001B[43m,\u001B[49m\u001B[43m \u001B[49m\u001B[38;5;241;43m3\u001B[39;49m\u001B[43m]\u001B[49m\u001B[43m,\u001B[49m\u001B[43m \u001B[49m\u001B[43m[\u001B[49m\u001B[38;5;241;43m4\u001B[39;49m\u001B[43m,\u001B[49m\u001B[43m \u001B[49m\u001B[38;5;241;43m5\u001B[39;49m\u001B[43m]\u001B[49m\u001B[43m]\u001B[49m\u001B[43m]\u001B[49m\u001B[43m,\u001B[49m\n\u001B[1;32m      6\u001B[0m \u001B[43m]\u001B[49m\u001B[43m)\u001B[49m\n",
      "\u001B[0;31mValueError\u001B[0m: expected sequence of length 3 at dim 3 (got 2)"
     ]
    }
   ],
   "execution_count": 17
  },
  {
   "metadata": {},
   "cell_type": "markdown",
   "source": [
    "텐서의 차원 불일치로 인한 에러 발생\n",
    "\n",
    "구체적으로는 각 텐서 내부의 리스트들이 서로 다른 길이를 가지고 있기 때문에 발생합니다. 텐서를 생성할 때, 모든 차원의 크기가 일관되어야 하지만, 제공된 코드에서 두 번째 차원 안의 리스트가 일관되지 않은 길이를 가지고 있습니다.\n",
    "\n",
    "지금 까지의 코드는 다양한 차원의 tensor의 shape와 ndim을 출력하는 내용을 다루고 있다."
   ],
   "id": "75149d38d5f3be33"
  },
  {
   "cell_type": "code",
   "id": "bd1c6eaf",
   "metadata": {
    "ExecuteTime": {
     "end_time": "2024-09-24T14:19:06.953773387Z",
     "start_time": "2024-09-23T16:17:22.660331Z"
    }
   },
   "source": [
    "l1 = [1, 2, 3]\n",
    "t1 = torch.Tensor(l1)\n",
    "l2 = [1, 2, 3]\n",
    "t2 = torch.tensor(l2)\n",
    "l3 = [1, 2, 3]\n",
    "t3 = torch.as_tensor(l3)\n",
    "\n",
    "l1[0] = 100\n",
    "l2[0] = 100\n",
    "l3[0] = 100\n",
    "\n",
    "print(t1)\n",
    "print(t2)\n",
    "print(t3)\n",
    "\n",
    "print(\"#\" * 100)"
   ],
   "outputs": [
    {
     "name": "stdout",
     "output_type": "stream",
     "text": [
      "tensor([1., 2., 3.])\n",
      "tensor([1, 2, 3])\n",
      "tensor([1, 2, 3])\n",
      "####################################################################################################\n"
     ]
    }
   ],
   "execution_count": 232
  },
  {
   "cell_type": "code",
   "id": "8741a9d0",
   "metadata": {
    "ExecuteTime": {
     "end_time": "2024-09-24T14:19:06.954109721Z",
     "start_time": "2024-09-23T16:15:40.885987Z"
    }
   },
   "source": [
    "l4 = np.array([1, 2, 3])\n",
    "t4 = torch.Tensor(l4)\n",
    "l5 = np.array([1, 2, 3])\n",
    "t5 = torch.tensor(l5)\n",
    "l6 = np.array([1, 2, 3])\n",
    "t6 = torch.as_tensor(l6)\n",
    "l4[0] = 100\n",
    "l5[0] = 100\n",
    "l6[0] = 100\n",
    "\n",
    "print(t4)\n",
    "print(t5)\n",
    "print(t6)"
   ],
   "outputs": [],
   "execution_count": 86
  },
  {
   "cell_type": "code",
   "id": "83c67adc",
   "metadata": {
    "ExecuteTime": {
     "end_time": "2024-09-24T14:19:06.954319050Z",
     "start_time": "2024-09-23T16:15:41.703175Z"
    }
   },
   "source": [
    "t1 = torch.ones(size=(5,))  # or torch.ones(5)\n",
    "t1_like = torch.ones_like(input=t1)\n",
    "print(t1)  # >>> tensor([1., 1., 1., 1., 1.])\n",
    "print(t1_like)  # >>> tensor([1., 1., 1., 1., 1.])"
   ],
   "outputs": [
    {
     "name": "stdout",
     "output_type": "stream",
     "text": [
      "tensor([1., 1., 1., 1., 1.])\n",
      "tensor([1., 1., 1., 1., 1.])\n"
     ]
    }
   ],
   "execution_count": 91
  },
  {
   "metadata": {},
   "cell_type": "markdown",
   "source": "모든 원소의 내용을 1로 만드는 ones 함",
   "id": "305113092809dcb"
  },
  {
   "cell_type": "code",
   "id": "ef2ff18e",
   "metadata": {
    "ExecuteTime": {
     "end_time": "2024-09-24T14:19:06.954488885Z",
     "start_time": "2024-09-23T16:15:41.927876Z"
    }
   },
   "source": [
    "t2 = torch.zeros(size=(6,))  # or torch.zeros(6)\n",
    "t2_like = torch.zeros_like(input=t2)\n",
    "print(t2)  # >>> tensor([0., 0., 0., 0., 0., 0.])\n",
    "print(t2_like)  # >>> tensor([0., 0., 0., 0., 0., 0.])"
   ],
   "outputs": [
    {
     "name": "stdout",
     "output_type": "stream",
     "text": [
      "tensor([0., 0., 0., 0., 0., 0.])\n",
      "tensor([0., 0., 0., 0., 0., 0.])\n"
     ]
    }
   ],
   "execution_count": 92
  },
  {
   "metadata": {},
   "cell_type": "markdown",
   "source": "모든 원소를 0으로 만드는 zeros 함수",
   "id": "a7d0b9fac3e76b0d"
  },
  {
   "cell_type": "code",
   "id": "3eb66ae0",
   "metadata": {
    "ExecuteTime": {
     "end_time": "2024-09-24T14:19:06.954651011Z",
     "start_time": "2024-09-23T16:15:42.210577Z"
    }
   },
   "source": [
    "t3 = torch.empty(size=(4,))  # or torch.zeros(4)\n",
    "t3_like = torch.empty_like(input=t3)\n",
    "print(t3)  # >>> tensor([0., 0., 0., 0.])\n",
    "print(t3_like)  # >>> tensor([0., 0., 0., 0.])"
   ],
   "outputs": [
    {
     "name": "stdout",
     "output_type": "stream",
     "text": [
      "tensor([-1.3466e+36,  4.2200e-41,  5.7907e-35,  0.0000e+00])\n",
      "tensor([7.2994e-35, 0.0000e+00, 7.9325e-35, 0.0000e+00])\n"
     ]
    }
   ],
   "execution_count": 93
  },
  {
   "metadata": {},
   "cell_type": "markdown",
   "source": "0에 가까운 수로 근사 하는 empty 함수",
   "id": "3fd8989bc6b5bd12"
  },
  {
   "cell_type": "code",
   "id": "127985fa",
   "metadata": {
    "ExecuteTime": {
     "end_time": "2024-09-24T14:19:07.088619Z",
     "start_time": "2024-09-24T14:19:07.083600Z"
    }
   },
   "source": [
    "t4 = torch.eye(n=3)\n",
    "print(t4)"
   ],
   "outputs": [
    {
     "name": "stdout",
     "output_type": "stream",
     "text": [
      "tensor([[1., 0., 0.],\n",
      "        [0., 1., 0.],\n",
      "        [0., 0., 1.]])\n"
     ]
    }
   ],
   "execution_count": 32
  },
  {
   "metadata": {},
   "cell_type": "markdown",
   "source": "단위 행렬을 만드는 eye 함수",
   "id": "707483bc08230b1e"
  },
  {
   "cell_type": "code",
   "id": "74414b9f",
   "metadata": {
    "ExecuteTime": {
     "end_time": "2024-09-24T14:19:07.286600Z",
     "start_time": "2024-09-24T14:19:07.280890Z"
    }
   },
   "source": [
    "t1 = torch.randint(low=10, high=20, size=(1, 2))\n",
    "print(t1)"
   ],
   "outputs": [
    {
     "name": "stdout",
     "output_type": "stream",
     "text": [
      "tensor([[10, 17]])\n"
     ]
    }
   ],
   "execution_count": 33
  },
  {
   "metadata": {},
   "cell_type": "markdown",
   "source": "low~high까지 랜덤한 정수를 size 차원으로 만드는 randint 함수",
   "id": "c6b70c92f52bcdfd"
  },
  {
   "cell_type": "code",
   "id": "f8cff813",
   "metadata": {
    "ExecuteTime": {
     "end_time": "2024-09-24T14:19:07.503984Z",
     "start_time": "2024-09-24T14:19:07.498293Z"
    }
   },
   "source": [
    "t2 = torch.rand(size=(1, 3))\n",
    "print(t2)"
   ],
   "outputs": [
    {
     "name": "stdout",
     "output_type": "stream",
     "text": [
      "tensor([[0.7050, 0.8899, 0.7441]])\n"
     ]
    }
   ],
   "execution_count": 34
  },
  {
   "metadata": {},
   "cell_type": "markdown",
   "source": "0~1 까지 랜덤한 숫자를 size 차원으로 만드는 rand 함수",
   "id": "11b5d8c9853c7dad"
  },
  {
   "cell_type": "code",
   "id": "f290b908",
   "metadata": {
    "ExecuteTime": {
     "end_time": "2024-09-24T14:19:07.708606Z",
     "start_time": "2024-09-24T14:19:07.701152Z"
    }
   },
   "source": [
    "t3 = torch.randn(size=(1, 3))\n",
    "print(t3)"
   ],
   "outputs": [
    {
     "name": "stdout",
     "output_type": "stream",
     "text": [
      "tensor([[-0.4692, -0.4446, -0.1618]])\n"
     ]
    }
   ],
   "execution_count": 35
  },
  {
   "metadata": {},
   "cell_type": "markdown",
   "source": "정규분포를 따르는 숫자에서 랜덤으로 뽑는 randn함수 ",
   "id": "aa3ea677650feaae"
  },
  {
   "cell_type": "code",
   "id": "a4bfd41f",
   "metadata": {
    "ExecuteTime": {
     "end_time": "2024-09-24T14:19:07.947044Z",
     "start_time": "2024-09-24T14:19:07.941354Z"
    }
   },
   "source": [
    "t4 = torch.normal(mean=10.0, std=1.0, size=(3, 2))\n",
    "print(t4)"
   ],
   "outputs": [
    {
     "name": "stdout",
     "output_type": "stream",
     "text": [
      "tensor([[ 9.8448,  9.9056],\n",
      "        [10.6603,  9.2114],\n",
      "        [ 8.8265, 11.3081]])\n"
     ]
    }
   ],
   "execution_count": 36
  },
  {
   "metadata": {},
   "cell_type": "markdown",
   "source": "평균, 표준 편차를 기준으로 만든 확률 분포에서 랜덤으로 뽑는 normal 함수 ",
   "id": "d9eb7efab06a5634"
  },
  {
   "cell_type": "code",
   "id": "44ff8667",
   "metadata": {
    "ExecuteTime": {
     "end_time": "2024-09-24T14:19:08.244157Z",
     "start_time": "2024-09-24T14:19:08.239208Z"
    }
   },
   "source": [
    "t5 = torch.linspace(start=0.0, end=5.0, steps=3)\n",
    "print(t5)"
   ],
   "outputs": [
    {
     "name": "stdout",
     "output_type": "stream",
     "text": [
      "tensor([0.0000, 2.5000, 5.0000])\n"
     ]
    }
   ],
   "execution_count": 37
  },
  {
   "cell_type": "code",
   "id": "fc9ea72d",
   "metadata": {
    "ExecuteTime": {
     "end_time": "2024-09-24T14:19:08.513599Z",
     "start_time": "2024-09-24T14:19:08.510312Z"
    }
   },
   "source": [
    "t6 = torch.arange(5)\n",
    "print(t6)"
   ],
   "outputs": [
    {
     "name": "stdout",
     "output_type": "stream",
     "text": [
      "tensor([0, 1, 2, 3, 4])\n"
     ]
    }
   ],
   "execution_count": 38
  },
  {
   "cell_type": "code",
   "id": "c8c4e237",
   "metadata": {
    "ExecuteTime": {
     "end_time": "2024-09-24T14:19:08.672490Z",
     "start_time": "2024-09-24T14:19:08.668414Z"
    }
   },
   "source": [
    "print(\"#\" * 30)"
   ],
   "outputs": [
    {
     "name": "stdout",
     "output_type": "stream",
     "text": [
      "##############################\n"
     ]
    }
   ],
   "execution_count": 39
  },
  {
   "cell_type": "code",
   "id": "85665bca",
   "metadata": {
    "ExecuteTime": {
     "end_time": "2024-09-24T14:19:08.920124Z",
     "start_time": "2024-09-24T14:19:08.908332Z"
    }
   },
   "source": [
    "torch.manual_seed(1729)\n",
    "random1 = torch.rand(2, 3)\n",
    "print(random1)"
   ],
   "outputs": [
    {
     "name": "stdout",
     "output_type": "stream",
     "text": [
      "tensor([[0.3126, 0.3791, 0.3087],\n",
      "        [0.0736, 0.4216, 0.0691]])\n"
     ]
    }
   ],
   "execution_count": 40
  },
  {
   "cell_type": "code",
   "id": "4d9e61dc",
   "metadata": {
    "ExecuteTime": {
     "end_time": "2024-09-24T14:19:09.090266Z",
     "start_time": "2024-09-24T14:19:09.083852Z"
    }
   },
   "source": [
    "random2 = torch.rand(2, 3)\n",
    "print(random2)"
   ],
   "outputs": [
    {
     "name": "stdout",
     "output_type": "stream",
     "text": [
      "tensor([[0.2332, 0.4047, 0.2162],\n",
      "        [0.9927, 0.4128, 0.5938]])\n"
     ]
    }
   ],
   "execution_count": 41
  },
  {
   "cell_type": "code",
   "id": "b95d0d95",
   "metadata": {
    "ExecuteTime": {
     "end_time": "2024-09-24T14:19:09.252914Z",
     "start_time": "2024-09-24T14:19:09.248137Z"
    }
   },
   "source": [
    "print()"
   ],
   "outputs": [
    {
     "name": "stdout",
     "output_type": "stream",
     "text": [
      "\n"
     ]
    }
   ],
   "execution_count": 42
  },
  {
   "cell_type": "code",
   "id": "51b4660c",
   "metadata": {
    "ExecuteTime": {
     "end_time": "2024-09-24T14:19:09.416366Z",
     "start_time": "2024-09-24T14:19:09.408104Z"
    }
   },
   "source": [
    "torch.manual_seed(1729)\n",
    "random3 = torch.rand(2, 3)\n",
    "print(random3)"
   ],
   "outputs": [
    {
     "name": "stdout",
     "output_type": "stream",
     "text": [
      "tensor([[0.3126, 0.3791, 0.3087],\n",
      "        [0.0736, 0.4216, 0.0691]])\n"
     ]
    }
   ],
   "execution_count": 43
  },
  {
   "cell_type": "code",
   "id": "be5b23b9",
   "metadata": {
    "ExecuteTime": {
     "end_time": "2024-09-24T14:19:09.554377Z",
     "start_time": "2024-09-24T14:19:09.546835Z"
    }
   },
   "source": [
    "random4 = torch.rand(2, 3)\n",
    "print(random4)"
   ],
   "outputs": [
    {
     "name": "stdout",
     "output_type": "stream",
     "text": [
      "tensor([[0.2332, 0.4047, 0.2162],\n",
      "        [0.9927, 0.4128, 0.5938]])\n"
     ]
    }
   ],
   "execution_count": 44
  },
  {
   "cell_type": "code",
   "id": "38d910d8",
   "metadata": {
    "ExecuteTime": {
     "end_time": "2024-09-24T14:19:09.772634Z",
     "start_time": "2024-09-24T14:19:09.767815Z"
    }
   },
   "source": [
    "a = torch.ones((2, 3))\n",
    "print(a.dtype)"
   ],
   "outputs": [
    {
     "name": "stdout",
     "output_type": "stream",
     "text": [
      "torch.float32\n"
     ]
    }
   ],
   "execution_count": 45
  },
  {
   "cell_type": "code",
   "id": "b15b9d15",
   "metadata": {
    "ExecuteTime": {
     "end_time": "2024-09-24T14:19:09.983045Z",
     "start_time": "2024-09-24T14:19:09.977040Z"
    }
   },
   "source": [
    "b = torch.ones((2, 3), dtype=torch.int16)\n",
    "print(b)"
   ],
   "outputs": [
    {
     "name": "stdout",
     "output_type": "stream",
     "text": [
      "tensor([[1, 1, 1],\n",
      "        [1, 1, 1]], dtype=torch.int16)\n"
     ]
    }
   ],
   "execution_count": 46
  },
  {
   "cell_type": "code",
   "id": "827d60eb",
   "metadata": {
    "ExecuteTime": {
     "end_time": "2024-09-24T14:19:10.161782Z",
     "start_time": "2024-09-24T14:19:10.154686Z"
    }
   },
   "source": [
    "c = torch.rand((2, 3), dtype=torch.float64) * 20.\n",
    "print(c)"
   ],
   "outputs": [
    {
     "name": "stdout",
     "output_type": "stream",
     "text": [
      "tensor([[18.0429,  7.2532, 19.6519],\n",
      "        [10.8626,  2.1505, 19.6913]], dtype=torch.float64)\n"
     ]
    }
   ],
   "execution_count": 47
  },
  {
   "cell_type": "code",
   "id": "2671cf93",
   "metadata": {
    "ExecuteTime": {
     "end_time": "2024-09-24T14:19:10.303982Z",
     "start_time": "2024-09-24T14:19:10.299424Z"
    }
   },
   "source": [
    "d = b.to(torch.int32)\n",
    "print(d)"
   ],
   "outputs": [
    {
     "name": "stdout",
     "output_type": "stream",
     "text": [
      "tensor([[1, 1, 1],\n",
      "        [1, 1, 1]], dtype=torch.int32)\n"
     ]
    }
   ],
   "execution_count": 48
  },
  {
   "cell_type": "code",
   "id": "0a9f83b2",
   "metadata": {
    "ExecuteTime": {
     "end_time": "2024-09-24T14:19:10.419840Z",
     "start_time": "2024-09-24T14:19:10.410987Z"
    }
   },
   "source": [
    "double_d = torch.ones(10, 2, dtype=torch.double)\n",
    "short_e = torch.tensor([[1, 2]], dtype=torch.short)\n",
    "double_d = torch.zeros(10, 2).double()\n",
    "short_e = torch.ones(10, 2).short()\n",
    "double_d = torch.zeros(10, 2).to(torch.double)\n",
    "short_e = torch.ones(10, 2).to(dtype=torch.short)\n",
    "double_d = torch.zeros(10, 2).type(torch.double)\n",
    "short_e = torch.ones(10, 2). type(dtype=torch.short)\n",
    "print(double_d.dtype)\n",
    "print(short_e.dtype)\n",
    "\n",
    "double_f = torch.rand(5, dtype=torch.double)\n",
    "short_g = double_f.to(torch.short)\n",
    "print((double_f * short_g).dtype)"
   ],
   "outputs": [
    {
     "name": "stdout",
     "output_type": "stream",
     "text": [
      "torch.float64\n",
      "torch.int16\n",
      "torch.float64\n"
     ]
    }
   ],
   "execution_count": 49
  },
  {
   "cell_type": "code",
   "id": "7268fee0",
   "metadata": {
    "ExecuteTime": {
     "end_time": "2024-09-24T14:19:10.552734Z",
     "start_time": "2024-09-24T14:19:10.544433Z"
    }
   },
   "source": [
    "t1 = torch.ones(size=(2, 3))\n",
    "t2 = torch.ones(size=(2, 3))\n",
    "t3 = torch.add(t1, t2)\n",
    "t4 = t1 + t2\n",
    "print(t3)\n",
    "print(t4)\n",
    "print(\"#\" * 30)"
   ],
   "outputs": [
    {
     "name": "stdout",
     "output_type": "stream",
     "text": [
      "tensor([[2., 2., 2.],\n",
      "        [2., 2., 2.]])\n",
      "tensor([[2., 2., 2.],\n",
      "        [2., 2., 2.]])\n",
      "##############################\n"
     ]
    }
   ],
   "execution_count": 50
  },
  {
   "metadata": {
    "ExecuteTime": {
     "end_time": "2024-09-24T14:19:10.693602Z",
     "start_time": "2024-09-24T14:19:10.688614Z"
    }
   },
   "cell_type": "code",
   "source": [
    "t5 = torch.sub(t1, t2)\n",
    "t6 = t1 - t2\n",
    "print(t5)\n",
    "print(t6)"
   ],
   "id": "784df048",
   "outputs": [
    {
     "name": "stdout",
     "output_type": "stream",
     "text": [
      "tensor([[0., 0., 0.],\n",
      "        [0., 0., 0.]])\n",
      "tensor([[0., 0., 0.],\n",
      "        [0., 0., 0.]])\n"
     ]
    }
   ],
   "execution_count": 51
  },
  {
   "cell_type": "code",
   "id": "1f893da9",
   "metadata": {
    "ExecuteTime": {
     "end_time": "2024-09-24T14:19:10.822858Z",
     "start_time": "2024-09-24T14:19:10.819267Z"
    }
   },
   "source": [
    "print(\"#\" * 30)"
   ],
   "outputs": [
    {
     "name": "stdout",
     "output_type": "stream",
     "text": [
      "##############################\n"
     ]
    }
   ],
   "execution_count": 52
  },
  {
   "cell_type": "code",
   "id": "1a7a234a",
   "metadata": {
    "ExecuteTime": {
     "end_time": "2024-09-24T14:19:10.941875Z",
     "start_time": "2024-09-24T14:19:10.934614Z"
    }
   },
   "source": [
    "t7 = torch.mul(t1, t2)\n",
    "t8 = t1 * t2\n",
    "print(t7)\n",
    "print(t8)"
   ],
   "outputs": [
    {
     "name": "stdout",
     "output_type": "stream",
     "text": [
      "tensor([[1., 1., 1.],\n",
      "        [1., 1., 1.]])\n",
      "tensor([[1., 1., 1.],\n",
      "        [1., 1., 1.]])\n"
     ]
    }
   ],
   "execution_count": 53
  },
  {
   "cell_type": "code",
   "id": "6439af1f",
   "metadata": {
    "ExecuteTime": {
     "end_time": "2024-09-24T14:19:11.090664Z",
     "start_time": "2024-09-24T14:19:11.085662Z"
    }
   },
   "source": [
    "print(\"#\" * 30)"
   ],
   "outputs": [
    {
     "name": "stdout",
     "output_type": "stream",
     "text": [
      "##############################\n"
     ]
    }
   ],
   "execution_count": 54
  },
  {
   "cell_type": "code",
   "id": "3155b9b6",
   "metadata": {
    "ExecuteTime": {
     "end_time": "2024-09-24T14:19:11.223540Z",
     "start_time": "2024-09-24T14:19:11.216304Z"
    }
   },
   "source": [
    "t9 = torch.div(t1, t2)\n",
    "t10 = t1 / t2\n",
    "print(t9)\n",
    "print(t10)"
   ],
   "outputs": [
    {
     "name": "stdout",
     "output_type": "stream",
     "text": [
      "tensor([[1., 1., 1.],\n",
      "        [1., 1., 1.]])\n",
      "tensor([[1., 1., 1.],\n",
      "        [1., 1., 1.]])\n"
     ]
    }
   ],
   "execution_count": 55
  },
  {
   "cell_type": "code",
   "id": "58fb4955",
   "metadata": {
    "ExecuteTime": {
     "end_time": "2024-09-24T14:19:11.369873Z",
     "start_time": "2024-09-24T14:19:11.365147Z"
    }
   },
   "source": [
    "t1 = torch.dot(\n",
    "  torch.tensor([2, 3]), torch.tensor([2, 1])\n",
    ")\n",
    "print(t1, t1.size())"
   ],
   "outputs": [
    {
     "name": "stdout",
     "output_type": "stream",
     "text": [
      "tensor(7) torch.Size([])\n"
     ]
    }
   ],
   "execution_count": 56
  },
  {
   "cell_type": "code",
   "id": "23bb850d",
   "metadata": {
    "ExecuteTime": {
     "end_time": "2024-09-24T14:19:11.511494Z",
     "start_time": "2024-09-24T14:19:11.506905Z"
    }
   },
   "source": [
    "t2 = torch.randn(2, 3)\n",
    "t3 = torch.randn(3, 2)\n",
    "t4 = torch.mm(t2, t3)\n",
    "print(t4, t4.size())"
   ],
   "outputs": [
    {
     "name": "stdout",
     "output_type": "stream",
     "text": [
      "tensor([[1.6750, 2.2840],\n",
      "        [0.0956, 1.0294]]) torch.Size([2, 2])\n"
     ]
    }
   ],
   "execution_count": 57
  },
  {
   "cell_type": "code",
   "id": "87f10438",
   "metadata": {
    "ExecuteTime": {
     "end_time": "2024-09-24T14:19:11.660804Z",
     "start_time": "2024-09-24T14:19:11.656646Z"
    }
   },
   "source": [
    "t5 = torch.randn(10, 3, 4)\n",
    "t6 = torch.randn(10, 4, 5)\n",
    "t7 = torch.bmm(t5, t6)\n",
    "print(t7.size())"
   ],
   "outputs": [
    {
     "name": "stdout",
     "output_type": "stream",
     "text": [
      "torch.Size([10, 3, 5])\n"
     ]
    }
   ],
   "execution_count": 58
  },
  {
   "cell_type": "code",
   "id": "50be4671",
   "metadata": {
    "ExecuteTime": {
     "end_time": "2024-09-24T14:19:11.811507Z",
     "start_time": "2024-09-24T14:19:11.807095Z"
    }
   },
   "source": [
    "# vector x vector: dot product\n",
    "t1 = torch.randn(3)\n",
    "t2 = torch.randn(3)\n",
    "print(torch.matmul(t1, t2).size())  # torch.Size([])"
   ],
   "outputs": [
    {
     "name": "stdout",
     "output_type": "stream",
     "text": [
      "torch.Size([])\n"
     ]
    }
   ],
   "execution_count": 59
  },
  {
   "cell_type": "code",
   "id": "0167e556",
   "metadata": {
    "ExecuteTime": {
     "end_time": "2024-09-24T14:19:11.971567Z",
     "start_time": "2024-09-24T14:19:11.966143Z"
    }
   },
   "source": [
    "# matrix x vector: broadcasted dot\n",
    "t3 = torch.randn(3, 4)\n",
    "t4 = torch.randn(4)\n",
    "print(torch.matmul(t3, t4).size())  # torch.Size([3])"
   ],
   "outputs": [
    {
     "name": "stdout",
     "output_type": "stream",
     "text": [
      "torch.Size([3])\n"
     ]
    }
   ],
   "execution_count": 60
  },
  {
   "cell_type": "code",
   "id": "a23f9965",
   "metadata": {
    "ExecuteTime": {
     "end_time": "2024-09-24T14:19:12.107052Z",
     "start_time": "2024-09-24T14:19:12.100620Z"
    }
   },
   "source": [
    "# batched matrix x vector: broadcasted dot\n",
    "t5 = torch.randn(10, 3, 4)\n",
    "t6 = torch.randn(4)\n",
    "print(torch.matmul(t5, t6).size())  # torch.Size([10, 3])"
   ],
   "outputs": [
    {
     "name": "stdout",
     "output_type": "stream",
     "text": [
      "torch.Size([10, 3])\n"
     ]
    }
   ],
   "execution_count": 61
  },
  {
   "cell_type": "code",
   "id": "53fe2d49",
   "metadata": {
    "ExecuteTime": {
     "end_time": "2024-09-24T14:19:12.229360Z",
     "start_time": "2024-09-24T14:19:12.222946Z"
    }
   },
   "source": [
    "# batched matrix x batched matrix: bmm\n",
    "t7 = torch.randn(10, 3, 4)\n",
    "t8 = torch.randn(10, 4, 5)\n",
    "print(torch.matmul(t7, t8).size())  # torch.Size([10, 3, 5])"
   ],
   "outputs": [
    {
     "name": "stdout",
     "output_type": "stream",
     "text": [
      "torch.Size([10, 3, 5])\n"
     ]
    }
   ],
   "execution_count": 62
  },
  {
   "cell_type": "code",
   "id": "65f51b9a",
   "metadata": {
    "ExecuteTime": {
     "end_time": "2024-09-24T14:19:12.356335Z",
     "start_time": "2024-09-24T14:19:12.352799Z"
    }
   },
   "source": [
    "# batched matrix x matrix: bmm\n",
    "t9 = torch.randn(10, 3, 4)\n",
    "t10 = torch.randn(4, 5)\n",
    "print(torch.matmul(t9, t10).size())  # torch.Size([10, 3, 5])"
   ],
   "outputs": [
    {
     "name": "stdout",
     "output_type": "stream",
     "text": [
      "torch.Size([10, 3, 5])\n"
     ]
    }
   ],
   "execution_count": 63
  },
  {
   "cell_type": "code",
   "id": "658f7f48",
   "metadata": {
    "ExecuteTime": {
     "end_time": "2024-09-24T14:19:12.566420Z",
     "start_time": "2024-09-24T14:19:12.560864Z"
    }
   },
   "source": [
    "t1 = torch.tensor([1.0, 2.0, 3.0])\n",
    "t2 = 2.0\n",
    "print(t1 * t2)"
   ],
   "outputs": [
    {
     "name": "stdout",
     "output_type": "stream",
     "text": [
      "tensor([2., 4., 6.])\n"
     ]
    }
   ],
   "execution_count": 64
  },
  {
   "cell_type": "code",
   "id": "c55339be",
   "metadata": {
    "ExecuteTime": {
     "end_time": "2024-09-24T14:19:12.729386Z",
     "start_time": "2024-09-24T14:19:12.725115Z"
    }
   },
   "source": [
    "print(\"#\" * 50, 1)"
   ],
   "outputs": [
    {
     "name": "stdout",
     "output_type": "stream",
     "text": [
      "################################################## 1\n"
     ]
    }
   ],
   "execution_count": 65
  },
  {
   "cell_type": "code",
   "id": "a1b75caf",
   "metadata": {
    "ExecuteTime": {
     "end_time": "2024-09-24T14:19:13.054925Z",
     "start_time": "2024-09-24T14:19:13.047123Z"
    }
   },
   "source": [
    "t3 = torch.tensor([[0, 1], [2, 4], [10, 10]])\n",
    "t4 = torch.tensor([4, 5])\n",
    "print(t3 - t4)"
   ],
   "outputs": [
    {
     "name": "stdout",
     "output_type": "stream",
     "text": [
      "tensor([[-4, -4],\n",
      "        [-2, -1],\n",
      "        [ 6,  5]])\n"
     ]
    }
   ],
   "execution_count": 66
  },
  {
   "cell_type": "code",
   "id": "e4a6f0da",
   "metadata": {
    "ExecuteTime": {
     "end_time": "2024-09-24T14:19:13.426965Z",
     "start_time": "2024-09-24T14:19:13.423665Z"
    }
   },
   "source": [
    "print(\"#\" * 50, 2)"
   ],
   "outputs": [
    {
     "name": "stdout",
     "output_type": "stream",
     "text": [
      "################################################## 2\n"
     ]
    }
   ],
   "execution_count": 67
  },
  {
   "cell_type": "code",
   "id": "faffe0a4",
   "metadata": {
    "ExecuteTime": {
     "end_time": "2024-09-24T14:19:13.607228Z",
     "start_time": "2024-09-24T14:19:13.598665Z"
    }
   },
   "source": [
    "t5 = torch.tensor([[1., 2.], [3., 4.]])\n",
    "print(t5 + 2.0)  # t5.add(2.0)\n",
    "print(t5 - 2.0)  # t5.sub(2.0)\n",
    "print(t5 * 2.0)  # t5.mul(2.0)\n",
    "print(t5 / 2.0)  # t5.div(2.0)"
   ],
   "outputs": [
    {
     "name": "stdout",
     "output_type": "stream",
     "text": [
      "tensor([[3., 4.],\n",
      "        [5., 6.]])\n",
      "tensor([[-1.,  0.],\n",
      "        [ 1.,  2.]])\n",
      "tensor([[2., 4.],\n",
      "        [6., 8.]])\n",
      "tensor([[0.5000, 1.0000],\n",
      "        [1.5000, 2.0000]])\n"
     ]
    }
   ],
   "execution_count": 68
  },
  {
   "cell_type": "code",
   "id": "b83929ed",
   "metadata": {
    "ExecuteTime": {
     "end_time": "2024-09-24T14:19:13.734451Z",
     "start_time": "2024-09-24T14:19:13.730634Z"
    }
   },
   "source": [
    "print(\"#\" * 50, 3)"
   ],
   "outputs": [
    {
     "name": "stdout",
     "output_type": "stream",
     "text": [
      "################################################## 3\n"
     ]
    }
   ],
   "execution_count": 69
  },
  {
   "cell_type": "code",
   "id": "e3e0ab0e",
   "metadata": {
    "ExecuteTime": {
     "end_time": "2024-09-24T14:19:13.851459Z",
     "start_time": "2024-09-24T14:19:13.847078Z"
    }
   },
   "source": [
    "\n",
    "def normalize(x):\n",
    "  return x / 255"
   ],
   "outputs": [],
   "execution_count": 70
  },
  {
   "cell_type": "code",
   "id": "fee29007",
   "metadata": {
    "ExecuteTime": {
     "end_time": "2024-09-24T14:19:13.935613Z",
     "start_time": "2024-09-24T14:19:13.930534Z"
    }
   },
   "source": [
    "\n",
    "t6 = torch.randn(3, 28, 28)\n",
    "print(normalize(t6).size())"
   ],
   "outputs": [
    {
     "name": "stdout",
     "output_type": "stream",
     "text": [
      "torch.Size([3, 28, 28])\n"
     ]
    }
   ],
   "execution_count": 71
  },
  {
   "cell_type": "code",
   "id": "c83a0c5d",
   "metadata": {
    "ExecuteTime": {
     "end_time": "2024-09-24T14:19:14.050083Z",
     "start_time": "2024-09-24T14:19:14.045269Z"
    }
   },
   "source": [
    "print(\"#\" * 50, 4)"
   ],
   "outputs": [
    {
     "name": "stdout",
     "output_type": "stream",
     "text": [
      "################################################## 4\n"
     ]
    }
   ],
   "execution_count": 72
  },
  {
   "cell_type": "code",
   "id": "8e60c426",
   "metadata": {
    "ExecuteTime": {
     "end_time": "2024-09-24T14:19:14.203720Z",
     "start_time": "2024-09-24T14:19:14.194632Z"
    }
   },
   "source": [
    "t7 = torch.tensor([[1, 2], [0, 3]])  # torch.Size([2, 2])\n",
    "t8 = torch.tensor([[3, 1]])  # torch.Size([1, 2])\n",
    "t9 = torch.tensor([[5], [2]])  # torch.Size([2, 1])\n",
    "t10 = torch.tensor([7])  # torch.Size([1])\n",
    "print(t7 + t8)   # >>> tensor([[4, 3], [3, 4]])\n",
    "print(t7 + t9)   # >>> tensor([[6, 7], [2, 5]])\n",
    "print(t8 + t9)   # >>> tensor([[8, 6], [5, 3]])\n",
    "print(t7 + t10)  # >>> tensor([[ 8, 9], [ 7, 10]])"
   ],
   "outputs": [
    {
     "name": "stdout",
     "output_type": "stream",
     "text": [
      "tensor([[4, 3],\n",
      "        [3, 4]])\n",
      "tensor([[6, 7],\n",
      "        [2, 5]])\n",
      "tensor([[8, 6],\n",
      "        [5, 3]])\n",
      "tensor([[ 8,  9],\n",
      "        [ 7, 10]])\n"
     ]
    }
   ],
   "execution_count": 73
  },
  {
   "cell_type": "code",
   "id": "cc134092",
   "metadata": {
    "ExecuteTime": {
     "end_time": "2024-09-24T14:19:14.311600Z",
     "start_time": "2024-09-24T14:19:14.306289Z"
    }
   },
   "source": [
    "print(\"#\" * 50, 5)"
   ],
   "outputs": [
    {
     "name": "stdout",
     "output_type": "stream",
     "text": [
      "################################################## 5\n"
     ]
    }
   ],
   "execution_count": 74
  },
  {
   "cell_type": "code",
   "id": "d4e1e04a",
   "metadata": {
    "ExecuteTime": {
     "end_time": "2024-09-24T14:19:14.423663Z",
     "start_time": "2024-09-24T14:19:14.418748Z"
    }
   },
   "source": [
    "t11 = torch.ones(4, 3, 2)\n",
    "t12 = t11 * torch.rand(3, 2)  # 3rd & 2nd dims identical to t11, dim 0 absent\n",
    "print(t12.shape)"
   ],
   "outputs": [
    {
     "name": "stdout",
     "output_type": "stream",
     "text": [
      "torch.Size([4, 3, 2])\n"
     ]
    }
   ],
   "execution_count": 75
  },
  {
   "cell_type": "code",
   "id": "92c74252",
   "metadata": {
    "ExecuteTime": {
     "end_time": "2024-09-24T14:19:14.556974Z",
     "start_time": "2024-09-24T14:19:14.552943Z"
    }
   },
   "source": [
    "t13 = torch.ones(4, 3, 2)\n",
    "t14 = t13 * torch.rand(3, 1)  # 3rd dim = 1, 2nd dim is identical to t13\n",
    "print(t14.shape)"
   ],
   "outputs": [
    {
     "name": "stdout",
     "output_type": "stream",
     "text": [
      "torch.Size([4, 3, 2])\n"
     ]
    }
   ],
   "execution_count": 76
  },
  {
   "cell_type": "code",
   "id": "ea5cfb2d",
   "metadata": {
    "ExecuteTime": {
     "end_time": "2024-09-24T14:19:14.657721Z",
     "start_time": "2024-09-24T14:19:14.653629Z"
    }
   },
   "source": [
    "t15 = torch.ones(4, 3, 2)\n",
    "t16 = t15 * torch.rand(1, 2)  # 3rd dim is identical to t15, 2nd dim is 1\n",
    "print(t16.shape)"
   ],
   "outputs": [
    {
     "name": "stdout",
     "output_type": "stream",
     "text": [
      "torch.Size([4, 3, 2])\n"
     ]
    }
   ],
   "execution_count": 77
  },
  {
   "cell_type": "code",
   "id": "f10741ad",
   "metadata": {
    "ExecuteTime": {
     "end_time": "2024-09-24T14:19:14.761869Z",
     "start_time": "2024-09-24T14:19:14.757343Z"
    }
   },
   "source": [
    "t17 = torch.ones(5, 3, 4, 1)\n",
    "t18 = torch.rand(3, 1, 1)  # 2nd dim is identical to t17, 3rd and 4th dims are 1\n",
    "print((t17 + t18).size())"
   ],
   "outputs": [
    {
     "name": "stdout",
     "output_type": "stream",
     "text": [
      "torch.Size([5, 3, 4, 1])\n"
     ]
    }
   ],
   "execution_count": 78
  },
  {
   "cell_type": "code",
   "id": "ee4e4ecd",
   "metadata": {
    "ExecuteTime": {
     "end_time": "2024-09-24T14:19:14.921001Z",
     "start_time": "2024-09-24T14:19:14.916744Z"
    }
   },
   "source": [
    "print(\"#\" * 50, 6)"
   ],
   "outputs": [
    {
     "name": "stdout",
     "output_type": "stream",
     "text": [
      "################################################## 6\n"
     ]
    }
   ],
   "execution_count": 79
  },
  {
   "cell_type": "code",
   "id": "70dd6763",
   "metadata": {
    "ExecuteTime": {
     "end_time": "2024-09-24T14:19:15.015932Z",
     "start_time": "2024-09-24T14:19:15.009771Z"
    }
   },
   "source": [
    "t19 = torch.empty(5, 1, 4, 1)\n",
    "t20 = torch.empty(3, 1, 1)\n",
    "print((t19 + t20).size())  # torch.Size([5, 3, 4, 1])"
   ],
   "outputs": [
    {
     "name": "stdout",
     "output_type": "stream",
     "text": [
      "torch.Size([5, 3, 4, 1])\n"
     ]
    }
   ],
   "execution_count": 80
  },
  {
   "cell_type": "code",
   "id": "d28d3d29",
   "metadata": {
    "ExecuteTime": {
     "end_time": "2024-09-24T14:19:15.236632Z",
     "start_time": "2024-09-24T14:19:15.231707Z"
    }
   },
   "source": [
    "t21 = torch.empty(1)\n",
    "t22 = torch.empty(3, 1, 7)\n",
    "print((t21 + t22).size())  # torch.Size([3, 1, 7])"
   ],
   "outputs": [
    {
     "name": "stdout",
     "output_type": "stream",
     "text": [
      "torch.Size([3, 1, 7])\n"
     ]
    }
   ],
   "execution_count": 81
  },
  {
   "cell_type": "code",
   "id": "33dc20f2",
   "metadata": {
    "ExecuteTime": {
     "end_time": "2024-09-24T14:19:15.544518Z",
     "start_time": "2024-09-24T14:19:15.538390Z"
    }
   },
   "source": [
    "t23 = torch.ones(3, 3, 3)\n",
    "t24 = torch.ones(3, 1, 3)\n",
    "print((t23 + t24).size())  # torch.Size([3, 3, 3])"
   ],
   "outputs": [
    {
     "name": "stdout",
     "output_type": "stream",
     "text": [
      "torch.Size([3, 3, 3])\n"
     ]
    }
   ],
   "execution_count": 82
  },
  {
   "cell_type": "code",
   "id": "42785070",
   "metadata": {
    "ExecuteTime": {
     "end_time": "2024-09-24T14:19:15.695797Z",
     "start_time": "2024-09-24T14:19:15.690573Z"
    }
   },
   "source": [
    "# t25 = torch.empty(5, 2, 4, 1)\n",
    "# t26 = torch.empty(3, 1, 1)\n",
    "# print((t25 + t26).size())\n",
    "# RuntimeError: The size of tensor a (2) must match\n",
    "# the size of tensor b (3) at non-singleton dimension 1"
   ],
   "outputs": [],
   "execution_count": 83
  },
  {
   "cell_type": "code",
   "id": "40621881",
   "metadata": {
    "ExecuteTime": {
     "end_time": "2024-09-24T14:19:15.765889Z",
     "start_time": "2024-09-24T14:19:15.760847Z"
    }
   },
   "source": [
    "print(\"#\" * 50, 7)"
   ],
   "outputs": [
    {
     "name": "stdout",
     "output_type": "stream",
     "text": [
      "################################################## 7\n"
     ]
    }
   ],
   "execution_count": 84
  },
  {
   "cell_type": "code",
   "id": "f05cab46",
   "metadata": {
    "ExecuteTime": {
     "end_time": "2024-09-24T14:19:15.897524Z",
     "start_time": "2024-09-24T14:19:15.892717Z"
    }
   },
   "source": [
    "t27 = torch.ones(4) * 5\n",
    "print(t27)  # >>> tensor([ 5, 5, 5, 5])"
   ],
   "outputs": [
    {
     "name": "stdout",
     "output_type": "stream",
     "text": [
      "tensor([5., 5., 5., 5.])\n"
     ]
    }
   ],
   "execution_count": 85
  },
  {
   "cell_type": "code",
   "id": "1556c87e",
   "metadata": {
    "ExecuteTime": {
     "end_time": "2024-09-24T14:19:16.023840Z",
     "start_time": "2024-09-24T14:19:16.019639Z"
    }
   },
   "source": [
    "t28 = torch.pow(t27, 2)\n",
    "print(t28)  # >>> tensor([ 25, 25, 25, 25])"
   ],
   "outputs": [
    {
     "name": "stdout",
     "output_type": "stream",
     "text": [
      "tensor([25., 25., 25., 25.])\n"
     ]
    }
   ],
   "execution_count": 86
  },
  {
   "cell_type": "code",
   "id": "a1b5e41b",
   "metadata": {
    "ExecuteTime": {
     "end_time": "2024-09-24T14:19:16.149048Z",
     "start_time": "2024-09-24T14:19:16.144317Z"
    }
   },
   "source": [
    "exp = torch.arange(1., 5.)  # tensor([ 1.,  2.,  3.,  4.])\n",
    "a = torch.arange(1., 5.)  # tensor([ 1.,  2.,  3.,  4.])\n",
    "t29 = torch.pow(a, exp)\n",
    "print(t29)  # >>> tensor([   1.,    4.,   27.,  256.])"
   ],
   "outputs": [
    {
     "name": "stdout",
     "output_type": "stream",
     "text": [
      "tensor([  1.,   4.,  27., 256.])\n"
     ]
    }
   ],
   "execution_count": 87
  },
  {
   "cell_type": "code",
   "id": "9b3362f1",
   "metadata": {
    "ExecuteTime": {
     "end_time": "2024-09-24T14:19:16.296639Z",
     "start_time": "2024-09-24T14:19:16.290937Z"
    }
   },
   "source": [
    "x = torch.tensor(\n",
    "  [[0, 1, 2, 3, 4],\n",
    "   [5, 6, 7, 8, 9],\n",
    "   [10, 11, 12, 13, 14]]\n",
    ")"
   ],
   "outputs": [],
   "execution_count": 88
  },
  {
   "cell_type": "code",
   "id": "6c4eee5e",
   "metadata": {
    "ExecuteTime": {
     "end_time": "2024-09-24T14:19:16.376104Z",
     "start_time": "2024-09-24T14:19:16.368865Z"
    }
   },
   "source": [
    "print(x[1])  # >>> tensor([5, 6, 7, 8, 9])\n",
    "print(x[:, 1])  # >>> tensor([1, 6, 11])\n",
    "print(x[1, 2])  # >>> tensor(7)\n",
    "print(x[:, -1])  # >>> tensor([4, 9, 14)"
   ],
   "outputs": [
    {
     "name": "stdout",
     "output_type": "stream",
     "text": [
      "tensor([5, 6, 7, 8, 9])\n",
      "tensor([ 1,  6, 11])\n",
      "tensor(7)\n",
      "tensor([ 4,  9, 14])\n"
     ]
    }
   ],
   "execution_count": 89
  },
  {
   "cell_type": "code",
   "id": "c7aeae01",
   "metadata": {
    "ExecuteTime": {
     "end_time": "2024-09-24T14:19:16.505297Z",
     "start_time": "2024-09-24T14:19:16.500245Z"
    }
   },
   "source": [
    "print(\"#\" * 50, 1)"
   ],
   "outputs": [
    {
     "name": "stdout",
     "output_type": "stream",
     "text": [
      "################################################## 1\n"
     ]
    }
   ],
   "execution_count": 90
  },
  {
   "cell_type": "code",
   "id": "cf5fadd0",
   "metadata": {
    "ExecuteTime": {
     "end_time": "2024-09-24T14:19:16.660532Z",
     "start_time": "2024-09-24T14:19:16.654892Z"
    }
   },
   "source": [
    "print(x[1:])  # >>> tensor([[ 5,  6,  7,  8,  9], [10, 11, 12, 13, 14]])\n",
    "print(x[1:, 3:])  # >>> tensor([[ 8,  9], [13, 14]])"
   ],
   "outputs": [
    {
     "name": "stdout",
     "output_type": "stream",
     "text": [
      "tensor([[ 5,  6,  7,  8,  9],\n",
      "        [10, 11, 12, 13, 14]])\n",
      "tensor([[ 8,  9],\n",
      "        [13, 14]])\n"
     ]
    }
   ],
   "execution_count": 91
  },
  {
   "cell_type": "code",
   "id": "2d49a7a2",
   "metadata": {
    "ExecuteTime": {
     "end_time": "2024-09-24T14:19:16.811100Z",
     "start_time": "2024-09-24T14:19:16.807626Z"
    }
   },
   "source": [
    "print(\"#\" * 50, 2)"
   ],
   "outputs": [
    {
     "name": "stdout",
     "output_type": "stream",
     "text": [
      "################################################## 2\n"
     ]
    }
   ],
   "execution_count": 92
  },
  {
   "cell_type": "code",
   "id": "4d235ed5",
   "metadata": {
    "ExecuteTime": {
     "end_time": "2024-09-24T14:19:16.948216Z",
     "start_time": "2024-09-24T14:19:16.941590Z"
    }
   },
   "source": [
    "y = torch.zeros((6, 6))\n",
    "y[1:4, 2] = 1\n",
    "print(y)"
   ],
   "outputs": [
    {
     "name": "stdout",
     "output_type": "stream",
     "text": [
      "tensor([[0., 0., 0., 0., 0., 0.],\n",
      "        [0., 0., 1., 0., 0., 0.],\n",
      "        [0., 0., 1., 0., 0., 0.],\n",
      "        [0., 0., 1., 0., 0., 0.],\n",
      "        [0., 0., 0., 0., 0., 0.],\n",
      "        [0., 0., 0., 0., 0., 0.]])\n"
     ]
    }
   ],
   "execution_count": 93
  },
  {
   "cell_type": "code",
   "id": "3b872572",
   "metadata": {
    "ExecuteTime": {
     "end_time": "2024-09-24T14:19:17.057686Z",
     "start_time": "2024-09-24T14:19:17.051277Z"
    }
   },
   "source": [
    "print(y[1:4, 1:4])"
   ],
   "outputs": [
    {
     "name": "stdout",
     "output_type": "stream",
     "text": [
      "tensor([[0., 1., 0.],\n",
      "        [0., 1., 0.],\n",
      "        [0., 1., 0.]])\n"
     ]
    }
   ],
   "execution_count": 94
  },
  {
   "cell_type": "code",
   "id": "77af4348",
   "metadata": {
    "ExecuteTime": {
     "end_time": "2024-09-24T14:19:17.152357Z",
     "start_time": "2024-09-24T14:19:17.145993Z"
    }
   },
   "source": [
    "print(\"#\" * 50, 3)"
   ],
   "outputs": [
    {
     "name": "stdout",
     "output_type": "stream",
     "text": [
      "################################################## 3\n"
     ]
    }
   ],
   "execution_count": 95
  },
  {
   "cell_type": "code",
   "id": "da925707",
   "metadata": {
    "ExecuteTime": {
     "end_time": "2024-09-24T14:19:17.276490Z",
     "start_time": "2024-09-24T14:19:17.267378Z"
    }
   },
   "source": [
    "z = torch.tensor(\n",
    "  [[1, 2, 3, 4],\n",
    "   [2, 3, 4, 5],\n",
    "   [5, 6, 7, 8]]\n",
    ")\n",
    "print(z[:2])\n",
    "print(z[1:, 1:3])\n",
    "print(z[:, 1:])"
   ],
   "outputs": [
    {
     "name": "stdout",
     "output_type": "stream",
     "text": [
      "tensor([[1, 2, 3, 4],\n",
      "        [2, 3, 4, 5]])\n",
      "tensor([[3, 4],\n",
      "        [6, 7]])\n",
      "tensor([[2, 3, 4],\n",
      "        [3, 4, 5],\n",
      "        [6, 7, 8]])\n"
     ]
    }
   ],
   "execution_count": 96
  },
  {
   "cell_type": "code",
   "id": "72b069db",
   "metadata": {
    "ExecuteTime": {
     "end_time": "2024-09-24T14:19:17.389908Z",
     "start_time": "2024-09-24T14:19:17.384035Z"
    }
   },
   "source": [
    "z[1:, 1:3] = 0\n",
    "print(z)"
   ],
   "outputs": [
    {
     "name": "stdout",
     "output_type": "stream",
     "text": [
      "tensor([[1, 2, 3, 4],\n",
      "        [2, 0, 0, 5],\n",
      "        [5, 0, 0, 8]])\n"
     ]
    }
   ],
   "execution_count": 97
  },
  {
   "cell_type": "code",
   "id": "6c0f2cd8",
   "metadata": {
    "ExecuteTime": {
     "end_time": "2024-09-24T14:19:17.484672Z",
     "start_time": "2024-09-24T14:19:17.478323Z"
    }
   },
   "source": [
    "t1 = torch.tensor([[1, 2, 3], [4, 5, 6]])\n",
    "t2 = t1.view(3, 2)  # Shape becomes (3, 2)\n",
    "t3 = t1.reshape(1, 6)  # Shape becomes (1, 6)\n",
    "print(t2)\n",
    "print(t3)"
   ],
   "outputs": [
    {
     "name": "stdout",
     "output_type": "stream",
     "text": [
      "tensor([[1, 2],\n",
      "        [3, 4],\n",
      "        [5, 6]])\n",
      "tensor([[1, 2, 3, 4, 5, 6]])\n"
     ]
    }
   ],
   "execution_count": 98
  },
  {
   "cell_type": "code",
   "id": "c6936f55",
   "metadata": {
    "ExecuteTime": {
     "end_time": "2024-09-24T14:19:17.611673Z",
     "start_time": "2024-09-24T14:19:17.606693Z"
    }
   },
   "source": [
    "t4 = torch.arange(8).view(2, 4)  # Shape becomes (2, 4)\n",
    "t5 = torch.arange(6).view(2, 3)  # Shape becomes (2, 3)\n",
    "print(t4)\n",
    "print(t5)"
   ],
   "outputs": [
    {
     "name": "stdout",
     "output_type": "stream",
     "text": [
      "tensor([[0, 1, 2, 3],\n",
      "        [4, 5, 6, 7]])\n",
      "tensor([[0, 1, 2],\n",
      "        [3, 4, 5]])\n"
     ]
    }
   ],
   "execution_count": 99
  },
  {
   "cell_type": "code",
   "id": "ac572292",
   "metadata": {
    "ExecuteTime": {
     "end_time": "2024-09-24T14:19:17.789266Z",
     "start_time": "2024-09-24T14:19:17.783624Z"
    }
   },
   "source": [
    "print(\"#\" * 50, 1)"
   ],
   "outputs": [
    {
     "name": "stdout",
     "output_type": "stream",
     "text": [
      "################################################## 1\n"
     ]
    }
   ],
   "execution_count": 100
  },
  {
   "cell_type": "code",
   "id": "cfcdb93f",
   "metadata": {
    "ExecuteTime": {
     "end_time": "2024-09-24T14:19:18.098071Z",
     "start_time": "2024-09-24T14:19:18.093571Z"
    }
   },
   "source": [
    "# Original tensor with shape (1, 3, 1)\n",
    "t6 = torch.tensor([[[1], [2], [3]]])"
   ],
   "outputs": [],
   "execution_count": 101
  },
  {
   "cell_type": "code",
   "id": "bcd3555d",
   "metadata": {
    "ExecuteTime": {
     "end_time": "2024-09-24T14:19:18.407526Z",
     "start_time": "2024-09-24T14:19:18.402989Z"
    }
   },
   "source": [
    "# Remove all dimensions of size 1\n",
    "t7 = t6.squeeze()  # Shape becomes (3,)"
   ],
   "outputs": [],
   "execution_count": 102
  },
  {
   "cell_type": "code",
   "id": "810727a5",
   "metadata": {
    "ExecuteTime": {
     "end_time": "2024-09-24T14:19:18.509983Z",
     "start_time": "2024-09-24T14:19:18.503462Z"
    }
   },
   "source": [
    "# Remove dimension at position 0\n",
    "t8 = t6.squeeze(0)  # Shape becomes (3, 1)\n",
    "print(t7)\n",
    "print(t8)"
   ],
   "outputs": [
    {
     "name": "stdout",
     "output_type": "stream",
     "text": [
      "tensor([1, 2, 3])\n",
      "tensor([[1],\n",
      "        [2],\n",
      "        [3]])\n"
     ]
    }
   ],
   "execution_count": 103
  },
  {
   "cell_type": "code",
   "id": "21d40047",
   "metadata": {
    "ExecuteTime": {
     "end_time": "2024-09-24T14:19:18.639075Z",
     "start_time": "2024-09-24T14:19:18.633700Z"
    }
   },
   "source": [
    "print(\"#\" * 50, 2)"
   ],
   "outputs": [
    {
     "name": "stdout",
     "output_type": "stream",
     "text": [
      "################################################## 2\n"
     ]
    }
   ],
   "execution_count": 104
  },
  {
   "cell_type": "code",
   "id": "5eb321f2",
   "metadata": {
    "ExecuteTime": {
     "end_time": "2024-09-24T14:19:18.732354Z",
     "start_time": "2024-09-24T14:19:18.728699Z"
    }
   },
   "source": [
    "# Original tensor with shape (3,)\n",
    "t9 = torch.tensor([1, 2, 3])"
   ],
   "outputs": [],
   "execution_count": 105
  },
  {
   "cell_type": "code",
   "id": "bc86306a",
   "metadata": {
    "ExecuteTime": {
     "end_time": "2024-09-24T14:19:18.828813Z",
     "start_time": "2024-09-24T14:19:18.821898Z"
    }
   },
   "source": [
    "# Add a new dimension at position 1\n",
    "t10 = t9.unsqueeze(1)  # Shape becomes (3, 1)\n",
    "print(t10)"
   ],
   "outputs": [
    {
     "name": "stdout",
     "output_type": "stream",
     "text": [
      "tensor([[1],\n",
      "        [2],\n",
      "        [3]])\n"
     ]
    }
   ],
   "execution_count": 106
  },
  {
   "cell_type": "code",
   "id": "d80a6549",
   "metadata": {
    "ExecuteTime": {
     "end_time": "2024-09-24T14:19:18.972674Z",
     "start_time": "2024-09-24T14:19:18.967031Z"
    }
   },
   "source": [
    "t11 = torch.tensor(\n",
    "  [[1, 2, 3],\n",
    "   [4, 5, 6]]\n",
    ")\n",
    "t12 = t11.unsqueeze(1)  # Shape becomes (2, 1, 3)\n",
    "print(t12, t12.shape)"
   ],
   "outputs": [
    {
     "name": "stdout",
     "output_type": "stream",
     "text": [
      "tensor([[[1, 2, 3]],\n",
      "\n",
      "        [[4, 5, 6]]]) torch.Size([2, 1, 3])\n"
     ]
    }
   ],
   "execution_count": 107
  },
  {
   "cell_type": "code",
   "id": "7566dbce",
   "metadata": {
    "ExecuteTime": {
     "end_time": "2024-09-24T14:19:19.254226Z",
     "start_time": "2024-09-24T14:19:19.249235Z"
    }
   },
   "source": [
    "print(\"#\" * 50, 3)"
   ],
   "outputs": [
    {
     "name": "stdout",
     "output_type": "stream",
     "text": [
      "################################################## 3\n"
     ]
    }
   ],
   "execution_count": 108
  },
  {
   "cell_type": "code",
   "id": "3c13fb73",
   "metadata": {
    "ExecuteTime": {
     "end_time": "2024-09-24T14:19:19.501541Z",
     "start_time": "2024-09-24T14:19:19.498458Z"
    }
   },
   "source": [
    "# Original tensor with shape (2, 3)\n",
    "t13 = torch.tensor([[1, 2, 3], [4, 5, 6]])"
   ],
   "outputs": [],
   "execution_count": 109
  },
  {
   "cell_type": "code",
   "id": "39f566c7",
   "metadata": {
    "ExecuteTime": {
     "end_time": "2024-09-24T14:19:19.604543Z",
     "start_time": "2024-09-24T14:19:19.600109Z"
    }
   },
   "source": [
    "# Flatten the tensor\n",
    "t14 = t13.flatten()  # Shape becomes (6,)"
   ],
   "outputs": [],
   "execution_count": 110
  },
  {
   "cell_type": "code",
   "id": "a99d01ce",
   "metadata": {
    "ExecuteTime": {
     "end_time": "2024-09-24T14:19:19.809200Z",
     "start_time": "2024-09-24T14:19:19.801936Z"
    }
   },
   "source": [
    "print(t14)"
   ],
   "outputs": [
    {
     "name": "stdout",
     "output_type": "stream",
     "text": [
      "tensor([1, 2, 3, 4, 5, 6])\n"
     ]
    }
   ],
   "execution_count": 111
  },
  {
   "cell_type": "code",
   "id": "75bb0d6b",
   "metadata": {
    "ExecuteTime": {
     "end_time": "2024-09-24T14:19:19.961407Z",
     "start_time": "2024-09-24T14:19:19.955704Z"
    }
   },
   "source": [
    "# Original tensor with shape (2, 2, 2)\n",
    "t15 = torch.tensor([[[1, 2],\n",
    "                     [3, 4]],\n",
    "                    [[5, 6],\n",
    "                     [7, 8]]])\n",
    "t16 = torch.flatten(t15)"
   ],
   "outputs": [],
   "execution_count": 112
  },
  {
   "cell_type": "code",
   "id": "ec44e7b6",
   "metadata": {
    "ExecuteTime": {
     "end_time": "2024-09-24T14:19:20.026097Z",
     "start_time": "2024-09-24T14:19:20.021991Z"
    }
   },
   "source": [
    "t17 = torch.flatten(t15, start_dim=1)"
   ],
   "outputs": [],
   "execution_count": 113
  },
  {
   "cell_type": "code",
   "id": "21f2699c",
   "metadata": {
    "ExecuteTime": {
     "end_time": "2024-09-24T14:19:20.097996Z",
     "start_time": "2024-09-24T14:19:20.090451Z"
    }
   },
   "source": [
    "print(t16)\n",
    "print(t17)"
   ],
   "outputs": [
    {
     "name": "stdout",
     "output_type": "stream",
     "text": [
      "tensor([1, 2, 3, 4, 5, 6, 7, 8])\n",
      "tensor([[1, 2, 3, 4],\n",
      "        [5, 6, 7, 8]])\n"
     ]
    }
   ],
   "execution_count": 114
  },
  {
   "cell_type": "code",
   "id": "053d047b",
   "metadata": {
    "ExecuteTime": {
     "end_time": "2024-09-24T14:19:20.327601Z",
     "start_time": "2024-09-24T14:19:20.321867Z"
    }
   },
   "source": [
    "print(\"#\" * 50, 4)"
   ],
   "outputs": [
    {
     "name": "stdout",
     "output_type": "stream",
     "text": [
      "################################################## 4\n"
     ]
    }
   ],
   "execution_count": 115
  },
  {
   "cell_type": "code",
   "id": "f884e94e",
   "metadata": {
    "ExecuteTime": {
     "end_time": "2024-09-24T14:19:20.468067Z",
     "start_time": "2024-09-24T14:19:20.464085Z"
    }
   },
   "source": [
    "t18 = torch.randn(2, 3, 5)\n",
    "print(t18.shape)  # >>> torch.Size([2, 3, 5])\n",
    "print(torch.permute(t18, (2, 0, 1)).size())  # >>> torch.Size([5, 2, 3])"
   ],
   "outputs": [
    {
     "name": "stdout",
     "output_type": "stream",
     "text": [
      "torch.Size([2, 3, 5])\n",
      "torch.Size([5, 2, 3])\n"
     ]
    }
   ],
   "execution_count": 116
  },
  {
   "cell_type": "code",
   "id": "2924f453",
   "metadata": {
    "ExecuteTime": {
     "end_time": "2024-09-24T14:19:20.589141Z",
     "start_time": "2024-09-24T14:19:20.582759Z"
    }
   },
   "source": [
    "# Original tensor with shape (2, 3)\n",
    "t19 = torch.tensor([[1, 2, 3], [4, 5, 6]])"
   ],
   "outputs": [],
   "execution_count": 117
  },
  {
   "cell_type": "code",
   "id": "96e44ed4",
   "metadata": {
    "ExecuteTime": {
     "end_time": "2024-09-24T14:19:20.665794Z",
     "start_time": "2024-09-24T14:19:20.659584Z"
    }
   },
   "source": [
    "# Permute the dimensions\n",
    "t20 = torch.permute(t19, dims=(0, 1))  # Shape becomes (2, 3) still\n",
    "t21 = torch.permute(t19, dims=(1, 0))  # Shape becomes (3, 2)\n",
    "print(t20)\n",
    "print(t21)"
   ],
   "outputs": [
    {
     "name": "stdout",
     "output_type": "stream",
     "text": [
      "tensor([[1, 2, 3],\n",
      "        [4, 5, 6]])\n",
      "tensor([[1, 4],\n",
      "        [2, 5],\n",
      "        [3, 6]])\n"
     ]
    }
   ],
   "execution_count": 118
  },
  {
   "cell_type": "code",
   "id": "fa3382aa",
   "metadata": {
    "ExecuteTime": {
     "end_time": "2024-09-24T14:19:20.861714Z",
     "start_time": "2024-09-24T14:19:20.856638Z"
    }
   },
   "source": [
    "# Transpose the tensor\n",
    "t22 = torch.transpose(t19, 0, 1)  # Shape becomes (3, 2)"
   ],
   "outputs": [],
   "execution_count": 119
  },
  {
   "cell_type": "code",
   "id": "bcf21bac",
   "metadata": {
    "ExecuteTime": {
     "end_time": "2024-09-24T14:19:21.033166Z",
     "start_time": "2024-09-24T14:19:21.026157Z"
    }
   },
   "source": [
    "print(t22)"
   ],
   "outputs": [
    {
     "name": "stdout",
     "output_type": "stream",
     "text": [
      "tensor([[1, 4],\n",
      "        [2, 5],\n",
      "        [3, 6]])\n"
     ]
    }
   ],
   "execution_count": 120
  },
  {
   "cell_type": "code",
   "id": "dd298317",
   "metadata": {
    "ExecuteTime": {
     "end_time": "2024-09-24T14:19:21.124951Z",
     "start_time": "2024-09-24T14:19:21.121262Z"
    }
   },
   "source": [
    "t23 = torch.t(t19)  # Shape becomes (3, 2)"
   ],
   "outputs": [],
   "execution_count": 121
  },
  {
   "cell_type": "code",
   "id": "bca20533",
   "metadata": {
    "ExecuteTime": {
     "end_time": "2024-09-24T14:19:21.214839Z",
     "start_time": "2024-09-24T14:19:21.209424Z"
    }
   },
   "source": [
    "print(t23)"
   ],
   "outputs": [
    {
     "name": "stdout",
     "output_type": "stream",
     "text": [
      "tensor([[1, 4],\n",
      "        [2, 5],\n",
      "        [3, 6]])\n"
     ]
    }
   ],
   "execution_count": 122
  },
  {
   "cell_type": "code",
   "id": "31b9cd66",
   "metadata": {
    "ExecuteTime": {
     "end_time": "2024-09-24T14:19:21.404610Z",
     "start_time": "2024-09-24T14:19:21.399540Z"
    }
   },
   "source": [
    "t1 = torch.zeros([2, 1, 3])\n",
    "t2 = torch.zeros([2, 3, 3])\n",
    "t3 = torch.zeros([2, 2, 3])"
   ],
   "outputs": [],
   "execution_count": 123
  },
  {
   "cell_type": "code",
   "id": "4e31c9df",
   "metadata": {
    "ExecuteTime": {
     "end_time": "2024-09-24T14:19:21.523305Z",
     "start_time": "2024-09-24T14:19:21.517723Z"
    }
   },
   "source": [
    "t4 = torch.cat([t1, t2, t3], dim=1)\n",
    "print(t4.shape)"
   ],
   "outputs": [
    {
     "name": "stdout",
     "output_type": "stream",
     "text": [
      "torch.Size([2, 6, 3])\n"
     ]
    }
   ],
   "execution_count": 124
  },
  {
   "cell_type": "code",
   "id": "bc0f9b4f",
   "metadata": {
    "ExecuteTime": {
     "end_time": "2024-09-24T14:19:21.717288Z",
     "start_time": "2024-09-24T14:19:21.712349Z"
    }
   },
   "source": [
    "print(\"#\" * 50, 1)"
   ],
   "outputs": [
    {
     "name": "stdout",
     "output_type": "stream",
     "text": [
      "################################################## 1\n"
     ]
    }
   ],
   "execution_count": 125
  },
  {
   "cell_type": "code",
   "id": "3f1df51b",
   "metadata": {
    "ExecuteTime": {
     "end_time": "2024-09-24T14:19:21.825537Z",
     "start_time": "2024-09-24T14:19:21.820911Z"
    }
   },
   "source": [
    "t5 = torch.arange(0, 3)  # tensor([0, 1, 2])\n",
    "t6 = torch.arange(3, 8)  # tensor([3, 4, 5, 6, 7])"
   ],
   "outputs": [],
   "execution_count": 126
  },
  {
   "cell_type": "code",
   "id": "e0a909f5",
   "metadata": {
    "ExecuteTime": {
     "end_time": "2024-09-24T14:19:21.929972Z",
     "start_time": "2024-09-24T14:19:21.923909Z"
    }
   },
   "source": [
    "t7 = torch.cat((t5, t6), dim=0)\n",
    "print(t7.shape)  # >>> torch.Size([8])\n",
    "print(t7)  # >>> tensor([0, 1, 2, 3, 4, 5, 6, 7])"
   ],
   "outputs": [
    {
     "name": "stdout",
     "output_type": "stream",
     "text": [
      "torch.Size([8])\n",
      "tensor([0, 1, 2, 3, 4, 5, 6, 7])\n"
     ]
    }
   ],
   "execution_count": 127
  },
  {
   "cell_type": "code",
   "id": "e957881e",
   "metadata": {
    "ExecuteTime": {
     "end_time": "2024-09-24T14:19:22.132523Z",
     "start_time": "2024-09-24T14:19:22.127544Z"
    }
   },
   "source": [
    "print(\"#\" * 50, 2)"
   ],
   "outputs": [
    {
     "name": "stdout",
     "output_type": "stream",
     "text": [
      "################################################## 2\n"
     ]
    }
   ],
   "execution_count": 128
  },
  {
   "cell_type": "code",
   "id": "7c60709a",
   "metadata": {
    "ExecuteTime": {
     "end_time": "2024-09-24T14:19:22.336383Z",
     "start_time": "2024-09-24T14:19:22.331523Z"
    }
   },
   "source": [
    "t8 = torch.arange(0, 6).reshape(2, 3)  # torch.Size([2, 3])\n",
    "t9 = torch.arange(6, 12).reshape(2, 3)  # torch.Size([2, 3])"
   ],
   "outputs": [],
   "execution_count": 129
  },
  {
   "cell_type": "code",
   "id": "7b36e6a3",
   "metadata": {
    "ExecuteTime": {
     "end_time": "2024-09-24T14:19:22.457041Z",
     "start_time": "2024-09-24T14:19:22.450098Z"
    }
   },
   "source": [
    "# 2차원 텐서간 병합\n",
    "t10 = torch.cat((t8, t9), dim=0)\n",
    "print(t10.size())  # >>> torch.Size([4, 3])\n",
    "print(t10)\n",
    "# >>> tensor([[ 0,  1,  2],\n",
    "#             [ 3,  4,  5],\n",
    "#             [ 6,  7,  8],\n",
    "#             [ 9, 10, 11]])"
   ],
   "outputs": [
    {
     "name": "stdout",
     "output_type": "stream",
     "text": [
      "torch.Size([4, 3])\n",
      "tensor([[ 0,  1,  2],\n",
      "        [ 3,  4,  5],\n",
      "        [ 6,  7,  8],\n",
      "        [ 9, 10, 11]])\n"
     ]
    }
   ],
   "execution_count": 130
  },
  {
   "cell_type": "code",
   "id": "31fd5e3a",
   "metadata": {
    "ExecuteTime": {
     "end_time": "2024-09-24T14:19:22.620897Z",
     "start_time": "2024-09-24T14:19:22.614370Z"
    }
   },
   "source": [
    "t11 = torch.cat((t8, t9), dim=1)\n",
    "print(t11.size())  # >>>torch.Size([2, 6])\n",
    "print(t11)\n",
    "# >>> tensor([[ 0,  1,  2,  6,  7,  8],\n",
    "#             [ 3,  4,  5,  9, 10, 11]])"
   ],
   "outputs": [
    {
     "name": "stdout",
     "output_type": "stream",
     "text": [
      "torch.Size([2, 6])\n",
      "tensor([[ 0,  1,  2,  6,  7,  8],\n",
      "        [ 3,  4,  5,  9, 10, 11]])\n"
     ]
    }
   ],
   "execution_count": 131
  },
  {
   "cell_type": "code",
   "id": "dffa4164",
   "metadata": {
    "ExecuteTime": {
     "end_time": "2024-09-24T14:19:22.861179Z",
     "start_time": "2024-09-24T14:19:22.856127Z"
    }
   },
   "source": [
    "print(\"#\" * 50, 3)"
   ],
   "outputs": [
    {
     "name": "stdout",
     "output_type": "stream",
     "text": [
      "################################################## 3\n"
     ]
    }
   ],
   "execution_count": 132
  },
  {
   "cell_type": "code",
   "id": "8de751d3",
   "metadata": {
    "ExecuteTime": {
     "end_time": "2024-09-24T14:19:23.136079Z",
     "start_time": "2024-09-24T14:19:23.131585Z"
    }
   },
   "source": [
    "t12 = torch.arange(0, 6).reshape(2, 3)  # torch.Size([2, 3])\n",
    "t13 = torch.arange(6, 12).reshape(2, 3)  # torch.Size([2, 3])\n",
    "t14 = torch.arange(12, 18).reshape(2, 3)  # torch.Size([2, 3])"
   ],
   "outputs": [],
   "execution_count": 133
  },
  {
   "cell_type": "code",
   "id": "c713c161",
   "metadata": {
    "ExecuteTime": {
     "end_time": "2024-09-24T14:19:23.283156Z",
     "start_time": "2024-09-24T14:19:23.275534Z"
    }
   },
   "source": [
    "t15 = torch.cat((t12, t13, t14), dim=0)\n",
    "print(t15.size())  # >>> torch.Size([6, 3])\n",
    "print(t15)\n",
    "# >>> tensor([[ 0,  1,  2],\n",
    "#             [ 3,  4,  5],\n",
    "#             [ 6,  7,  8],\n",
    "#             [ 9, 10, 11],\n",
    "#             [12, 13, 14],\n",
    "#             [15, 16, 17]])"
   ],
   "outputs": [
    {
     "name": "stdout",
     "output_type": "stream",
     "text": [
      "torch.Size([6, 3])\n",
      "tensor([[ 0,  1,  2],\n",
      "        [ 3,  4,  5],\n",
      "        [ 6,  7,  8],\n",
      "        [ 9, 10, 11],\n",
      "        [12, 13, 14],\n",
      "        [15, 16, 17]])\n"
     ]
    }
   ],
   "execution_count": 134
  },
  {
   "cell_type": "code",
   "id": "4dfdc413",
   "metadata": {
    "ExecuteTime": {
     "end_time": "2024-09-24T14:19:23.488180Z",
     "start_time": "2024-09-24T14:19:23.480420Z"
    }
   },
   "source": [
    "t16 = torch.cat((t12, t13, t14), dim=1)\n",
    "print(t16.size())  # >>> torch.Size([2, 9])\n",
    "print(t16)\n",
    "# >>> tensor([[ 0,  1,  2,  6,  7,  8, 12, 13, 14],\n",
    "#             [ 3,  4,  5,  9, 10, 11, 15, 16, 17]])"
   ],
   "outputs": [
    {
     "name": "stdout",
     "output_type": "stream",
     "text": [
      "torch.Size([2, 9])\n",
      "tensor([[ 0,  1,  2,  6,  7,  8, 12, 13, 14],\n",
      "        [ 3,  4,  5,  9, 10, 11, 15, 16, 17]])\n"
     ]
    }
   ],
   "execution_count": 135
  },
  {
   "cell_type": "code",
   "id": "754da99f",
   "metadata": {
    "ExecuteTime": {
     "end_time": "2024-09-24T14:19:23.639366Z",
     "start_time": "2024-09-24T14:19:23.634651Z"
    }
   },
   "source": [
    "print(\"#\" * 50, 4)"
   ],
   "outputs": [
    {
     "name": "stdout",
     "output_type": "stream",
     "text": [
      "################################################## 4\n"
     ]
    }
   ],
   "execution_count": 136
  },
  {
   "cell_type": "code",
   "id": "372479b1",
   "metadata": {
    "ExecuteTime": {
     "end_time": "2024-09-24T14:19:23.760245Z",
     "start_time": "2024-09-24T14:19:23.754792Z"
    }
   },
   "source": [
    "t17 = torch.arange(0, 6).reshape(1, 2, 3)  # torch.Size([1, 2, 3])\n",
    "t18 = torch.arange(6, 12).reshape(1, 2, 3)  # torch.Size([1, 2, 3])"
   ],
   "outputs": [],
   "execution_count": 137
  },
  {
   "cell_type": "code",
   "id": "41b80c67",
   "metadata": {
    "ExecuteTime": {
     "end_time": "2024-09-24T14:19:23.876670Z",
     "start_time": "2024-09-24T14:19:23.870118Z"
    }
   },
   "source": [
    "t19 = torch.cat((t17, t18), dim=0)\n",
    "print(t19.size())  # >>> torch.Size([2, 2, 3])\n",
    "print(t19)\n",
    "# >>> tensor([[[ 0,  1,  2],\n",
    "#              [ 3,  4,  5]],\n",
    "#             [[ 6,  7,  8],\n",
    "#              [ 9, 10, 11]]])"
   ],
   "outputs": [
    {
     "name": "stdout",
     "output_type": "stream",
     "text": [
      "torch.Size([2, 2, 3])\n",
      "tensor([[[ 0,  1,  2],\n",
      "         [ 3,  4,  5]],\n",
      "\n",
      "        [[ 6,  7,  8],\n",
      "         [ 9, 10, 11]]])\n"
     ]
    }
   ],
   "execution_count": 138
  },
  {
   "cell_type": "code",
   "id": "c652d686",
   "metadata": {
    "ExecuteTime": {
     "end_time": "2024-09-24T14:19:23.955392Z",
     "start_time": "2024-09-24T14:19:23.948506Z"
    }
   },
   "source": [
    "t20 = torch.cat((t17, t18), dim=1)\n",
    "print(t20.size())  # >>> torch.Size([1, 4, 3])\n",
    "print(t20)\n",
    "# >>> tensor([[[ 0,  1,  2],\n",
    "#              [ 3,  4,  5],\n",
    "#              [ 6,  7,  8],\n",
    "#              [ 9, 10, 11]]])"
   ],
   "outputs": [
    {
     "name": "stdout",
     "output_type": "stream",
     "text": [
      "torch.Size([1, 4, 3])\n",
      "tensor([[[ 0,  1,  2],\n",
      "         [ 3,  4,  5],\n",
      "         [ 6,  7,  8],\n",
      "         [ 9, 10, 11]]])\n"
     ]
    }
   ],
   "execution_count": 139
  },
  {
   "cell_type": "code",
   "id": "7494bea3",
   "metadata": {
    "ExecuteTime": {
     "end_time": "2024-09-24T14:19:24.140705Z",
     "start_time": "2024-09-24T14:19:24.134730Z"
    }
   },
   "source": [
    "t21 = torch.cat((t17, t18), dim=2)\n",
    "print(t21.size())  # >>> torch.Size([1, 2, 6])\n",
    "print(t21)\n",
    "# >>> tensor([[[ 0,  1,  2,  6,  7,  8],\n",
    "#              [ 3,  4,  5,  9, 10, 11]]])"
   ],
   "outputs": [
    {
     "name": "stdout",
     "output_type": "stream",
     "text": [
      "torch.Size([1, 2, 6])\n",
      "tensor([[[ 0,  1,  2,  6,  7,  8],\n",
      "         [ 3,  4,  5,  9, 10, 11]]])\n"
     ]
    }
   ],
   "execution_count": 140
  },
  {
   "cell_type": "code",
   "id": "b171689b",
   "metadata": {
    "ExecuteTime": {
     "end_time": "2024-09-24T14:19:24.338750Z",
     "start_time": "2024-09-24T14:19:24.332801Z"
    }
   },
   "source": [
    "t1 = torch.tensor([[1, 2, 3], [4, 5, 6]])\n",
    "t2 = torch.tensor([[7, 8, 9], [10, 11, 12]])"
   ],
   "outputs": [],
   "execution_count": 141
  },
  {
   "cell_type": "code",
   "id": "d2842be7",
   "metadata": {
    "ExecuteTime": {
     "end_time": "2024-09-24T14:19:24.483692Z",
     "start_time": "2024-09-24T14:19:24.476934Z"
    }
   },
   "source": [
    "t3 = torch.stack([t1, t2], dim=0)\n",
    "t4 = torch.cat([t1.unsqueeze(dim=0), t2.unsqueeze(dim=0)], dim=0)\n",
    "print(t3.shape, t3.equal(t4))"
   ],
   "outputs": [
    {
     "name": "stdout",
     "output_type": "stream",
     "text": [
      "torch.Size([2, 2, 3]) True\n"
     ]
    }
   ],
   "execution_count": 142
  },
  {
   "cell_type": "code",
   "id": "98e60b8d",
   "metadata": {
    "ExecuteTime": {
     "end_time": "2024-09-24T14:19:24.615249Z",
     "start_time": "2024-09-24T14:19:24.609614Z"
    }
   },
   "source": [
    "t5 = torch.stack([t1, t2], dim=1)\n",
    "t6 = torch.cat([t1.unsqueeze(dim=1), t2.unsqueeze(dim=1)], dim=1)\n",
    "print(t5.shape, t5.equal(t6))"
   ],
   "outputs": [
    {
     "name": "stdout",
     "output_type": "stream",
     "text": [
      "torch.Size([2, 2, 3]) True\n"
     ]
    }
   ],
   "execution_count": 143
  },
  {
   "cell_type": "code",
   "id": "9ef24e26",
   "metadata": {
    "ExecuteTime": {
     "end_time": "2024-09-24T14:19:24.788222Z",
     "start_time": "2024-09-24T14:19:24.782603Z"
    }
   },
   "source": [
    "t7 = torch.stack([t1, t2], dim=2)\n",
    "t8 = torch.cat([t1.unsqueeze(dim=2), t2.unsqueeze(dim=2)], dim=2)\n",
    "print(t7.shape, t7.equal(t8))"
   ],
   "outputs": [
    {
     "name": "stdout",
     "output_type": "stream",
     "text": [
      "torch.Size([2, 3, 2]) True\n"
     ]
    }
   ],
   "execution_count": 144
  },
  {
   "cell_type": "code",
   "id": "2702b2d0",
   "metadata": {
    "ExecuteTime": {
     "end_time": "2024-09-24T14:19:25.003803Z",
     "start_time": "2024-09-24T14:19:24.999515Z"
    }
   },
   "source": [
    "print(\"#\" * 50, 1)"
   ],
   "outputs": [
    {
     "name": "stdout",
     "output_type": "stream",
     "text": [
      "################################################## 1\n"
     ]
    }
   ],
   "execution_count": 145
  },
  {
   "cell_type": "code",
   "id": "795c6a1d",
   "metadata": {
    "ExecuteTime": {
     "end_time": "2024-09-24T14:19:25.234875Z",
     "start_time": "2024-09-24T14:19:25.230950Z"
    }
   },
   "source": [
    "t9 = torch.arange(0, 3)  # tensor([0, 1, 2])\n",
    "t10 = torch.arange(3, 6)  # tensor([3, 4, 5])"
   ],
   "outputs": [],
   "execution_count": 146
  },
  {
   "cell_type": "code",
   "id": "65f7e2a2",
   "metadata": {
    "ExecuteTime": {
     "end_time": "2024-09-24T14:19:25.326335Z",
     "start_time": "2024-09-24T14:19:25.321923Z"
    }
   },
   "source": [
    "print(t9.size(), t10.size())\n",
    "# >>> torch.Size([3]) torch.Size([3])"
   ],
   "outputs": [
    {
     "name": "stdout",
     "output_type": "stream",
     "text": [
      "torch.Size([3]) torch.Size([3])\n"
     ]
    }
   ],
   "execution_count": 147
  },
  {
   "cell_type": "code",
   "id": "73e171cf",
   "metadata": {
    "ExecuteTime": {
     "end_time": "2024-09-24T14:19:25.481004Z",
     "start_time": "2024-09-24T14:19:25.475090Z"
    }
   },
   "source": [
    "t11 = torch.stack((t9, t10), dim=0)\n",
    "print(t11.size())  # >>> torch.Size([2,3])\n",
    "print(t11)\n",
    "# >>> tensor([[0, 1, 2],\n",
    "#             [3, 4, 5]])"
   ],
   "outputs": [
    {
     "name": "stdout",
     "output_type": "stream",
     "text": [
      "torch.Size([2, 3])\n",
      "tensor([[0, 1, 2],\n",
      "        [3, 4, 5]])\n"
     ]
    }
   ],
   "execution_count": 148
  },
  {
   "cell_type": "code",
   "id": "fabe4219",
   "metadata": {
    "ExecuteTime": {
     "end_time": "2024-09-24T14:19:25.744129Z",
     "start_time": "2024-09-24T14:19:25.738816Z"
    }
   },
   "source": [
    "t12 = torch.cat((t9.unsqueeze(0), t10.unsqueeze(0)), dim=0)\n",
    "print(t11.equal(t12))\n",
    "# >>> True"
   ],
   "outputs": [
    {
     "name": "stdout",
     "output_type": "stream",
     "text": [
      "True\n"
     ]
    }
   ],
   "execution_count": 149
  },
  {
   "cell_type": "code",
   "id": "c2107f74",
   "metadata": {
    "ExecuteTime": {
     "end_time": "2024-09-24T14:19:25.913420Z",
     "start_time": "2024-09-24T14:19:25.908142Z"
    }
   },
   "source": [
    "t13 = torch.stack((t9, t10), dim=1)\n",
    "print(t13.size())  # >>> torch.Size([3,2])\n",
    "print(t13)\n",
    "# >>> tensor([[0, 3],\n",
    "#             [1, 4],\n",
    "#             [2, 5]])\n",
    "t14 = torch.cat((t9.unsqueeze(1), t10.unsqueeze(1)), dim=1)\n",
    "print(t13.equal(t14))\n",
    "# >>> True"
   ],
   "outputs": [
    {
     "name": "stdout",
     "output_type": "stream",
     "text": [
      "torch.Size([3, 2])\n",
      "tensor([[0, 3],\n",
      "        [1, 4],\n",
      "        [2, 5]])\n",
      "True\n"
     ]
    }
   ],
   "execution_count": 150
  },
  {
   "cell_type": "code",
   "id": "9cdedfde",
   "metadata": {
    "ExecuteTime": {
     "end_time": "2024-09-24T14:19:26.032114Z",
     "start_time": "2024-09-24T14:19:26.026193Z"
    }
   },
   "source": [
    "t1 = torch.tensor([1, 2, 3])\n",
    "t2 = torch.tensor([4, 5, 6])\n",
    "t3 = torch.vstack((t1, t2))\n",
    "print(t3)\n",
    "# >>> tensor([[1, 2, 3],\n",
    "#             [4, 5, 6]])"
   ],
   "outputs": [
    {
     "name": "stdout",
     "output_type": "stream",
     "text": [
      "tensor([[1, 2, 3],\n",
      "        [4, 5, 6]])\n"
     ]
    }
   ],
   "execution_count": 151
  },
  {
   "cell_type": "code",
   "id": "cb7beada",
   "metadata": {
    "ExecuteTime": {
     "end_time": "2024-09-24T14:19:26.271383Z",
     "start_time": "2024-09-24T14:19:26.266850Z"
    }
   },
   "source": [
    "t4 = torch.tensor([[1], [2], [3]])\n",
    "t5 = torch.tensor([[4], [5], [6]])\n",
    "t6 = torch.vstack((t4, t5))\n",
    "# >>> tensor([[1],\n",
    "#             [2],\n",
    "#             [3],\n",
    "#             [4],\n",
    "#             [5],\n",
    "#             [6]])"
   ],
   "outputs": [],
   "execution_count": 152
  },
  {
   "cell_type": "code",
   "id": "bf7135b5",
   "metadata": {
    "ExecuteTime": {
     "end_time": "2024-09-24T14:19:26.373700Z",
     "start_time": "2024-09-24T14:19:26.367707Z"
    }
   },
   "source": [
    "t7 = torch.tensor([\n",
    "  [[1, 2, 3], [4, 5, 6]],\n",
    "  [[7, 8, 9], [10, 11, 12]]\n",
    "])\n",
    "print(t7.shape)\n",
    "# >>> (2, 2, 3)"
   ],
   "outputs": [
    {
     "name": "stdout",
     "output_type": "stream",
     "text": [
      "torch.Size([2, 2, 3])\n"
     ]
    }
   ],
   "execution_count": 153
  },
  {
   "cell_type": "code",
   "id": "33802601",
   "metadata": {
    "ExecuteTime": {
     "end_time": "2024-09-24T14:19:26.550778Z",
     "start_time": "2024-09-24T14:19:26.546477Z"
    }
   },
   "source": [
    "t8 = torch.tensor([\n",
    "  [[13, 14, 15], [16, 17, 18]],\n",
    "  [[19, 20, 21], [22, 23, 24]]\n",
    "])\n",
    "print(t8.shape)\n",
    "# >>> (2, 2, 3)"
   ],
   "outputs": [
    {
     "name": "stdout",
     "output_type": "stream",
     "text": [
      "torch.Size([2, 2, 3])\n"
     ]
    }
   ],
   "execution_count": 154
  },
  {
   "cell_type": "code",
   "id": "3540817e",
   "metadata": {
    "ExecuteTime": {
     "end_time": "2024-09-24T14:19:26.686659Z",
     "start_time": "2024-09-24T14:19:26.681773Z"
    }
   },
   "source": [
    "t9 = torch.vstack([t7, t8])\n",
    "print(t9.shape)\n",
    "# >>> (4, 2, 3)"
   ],
   "outputs": [
    {
     "name": "stdout",
     "output_type": "stream",
     "text": [
      "torch.Size([4, 2, 3])\n"
     ]
    }
   ],
   "execution_count": 155
  },
  {
   "cell_type": "code",
   "id": "678aaa51",
   "metadata": {
    "ExecuteTime": {
     "end_time": "2024-09-24T14:19:26.864690Z",
     "start_time": "2024-09-24T14:19:26.859473Z"
    }
   },
   "source": [
    "print(t9)\n",
    "# >>> tensor([[[ 1,  2,  3],\n",
    "#              [ 4,  5,  6]],\n",
    "#             [[ 7,  8,  9],\n",
    "#              [10, 11, 12]],\n",
    "#             [[13, 14, 15],\n",
    "#              [16, 17, 18]],\n",
    "#             [[19, 20, 21],\n",
    "#              [22, 23, 24]]])"
   ],
   "outputs": [
    {
     "name": "stdout",
     "output_type": "stream",
     "text": [
      "tensor([[[ 1,  2,  3],\n",
      "         [ 4,  5,  6]],\n",
      "\n",
      "        [[ 7,  8,  9],\n",
      "         [10, 11, 12]],\n",
      "\n",
      "        [[13, 14, 15],\n",
      "         [16, 17, 18]],\n",
      "\n",
      "        [[19, 20, 21],\n",
      "         [22, 23, 24]]])\n"
     ]
    }
   ],
   "execution_count": 156
  },
  {
   "cell_type": "code",
   "id": "1118b93b",
   "metadata": {
    "ExecuteTime": {
     "end_time": "2024-09-24T14:19:27.045340Z",
     "start_time": "2024-09-24T14:19:27.040427Z"
    }
   },
   "source": [
    "print(\"#\" * 50, 1)"
   ],
   "outputs": [
    {
     "name": "stdout",
     "output_type": "stream",
     "text": [
      "################################################## 1\n"
     ]
    }
   ],
   "execution_count": 157
  },
  {
   "cell_type": "code",
   "id": "84922b66",
   "metadata": {
    "ExecuteTime": {
     "end_time": "2024-09-24T14:19:27.296372Z",
     "start_time": "2024-09-24T14:19:27.290039Z"
    }
   },
   "source": [
    "t10 = torch.tensor([1, 2, 3])\n",
    "t11 = torch.tensor([4, 5, 6])\n",
    "t12 = torch.hstack((t10, t11))\n",
    "print(t12)\n",
    "# >>> tensor([1, 2, 3, 4, 5, 6])"
   ],
   "outputs": [
    {
     "name": "stdout",
     "output_type": "stream",
     "text": [
      "tensor([1, 2, 3, 4, 5, 6])\n"
     ]
    }
   ],
   "execution_count": 158
  },
  {
   "cell_type": "code",
   "id": "49d2f70b",
   "metadata": {
    "ExecuteTime": {
     "end_time": "2024-09-24T14:19:27.521519Z",
     "start_time": "2024-09-24T14:19:27.514474Z"
    }
   },
   "source": [
    "t13 = torch.tensor([[1], [2], [3]])\n",
    "t14 = torch.tensor([[4], [5], [6]])\n",
    "t15 = torch.hstack((t13, t14))\n",
    "print(t15)\n",
    "# >>> tensor([[1, 4],\n",
    "#             [2, 5],\n",
    "#             [3, 6]])"
   ],
   "outputs": [
    {
     "name": "stdout",
     "output_type": "stream",
     "text": [
      "tensor([[1, 4],\n",
      "        [2, 5],\n",
      "        [3, 6]])\n"
     ]
    }
   ],
   "execution_count": 159
  },
  {
   "cell_type": "code",
   "id": "65faac7a",
   "metadata": {
    "ExecuteTime": {
     "end_time": "2024-09-24T14:19:27.648041Z",
     "start_time": "2024-09-24T14:19:27.642244Z"
    }
   },
   "source": [
    "t16 = torch.tensor([\n",
    "  [[1, 2, 3], [4, 5, 6]],\n",
    "  [[7, 8, 9], [10, 11, 12]]\n",
    "])\n",
    "print(t16.shape)\n",
    "# >>> (2, 2, 3)"
   ],
   "outputs": [
    {
     "name": "stdout",
     "output_type": "stream",
     "text": [
      "torch.Size([2, 2, 3])\n"
     ]
    }
   ],
   "execution_count": 160
  },
  {
   "cell_type": "code",
   "id": "21d66e5d",
   "metadata": {
    "ExecuteTime": {
     "end_time": "2024-09-24T14:19:28.002979Z",
     "start_time": "2024-09-24T14:19:27.997119Z"
    }
   },
   "source": [
    "t17 = torch.tensor([\n",
    "  [[13, 14, 15], [16, 17, 18]],\n",
    "  [[19, 20, 21], [22, 23, 24]]\n",
    "])\n",
    "print(t17.shape)\n",
    "# >>> (2, 2, 3)"
   ],
   "outputs": [
    {
     "name": "stdout",
     "output_type": "stream",
     "text": [
      "torch.Size([2, 2, 3])\n"
     ]
    }
   ],
   "execution_count": 161
  },
  {
   "cell_type": "code",
   "id": "56a2e81b",
   "metadata": {
    "ExecuteTime": {
     "end_time": "2024-09-24T14:19:28.327753Z",
     "start_time": "2024-09-24T14:19:28.322273Z"
    }
   },
   "source": [
    "t18 = torch.hstack([t16, t17])\n",
    "print(t18.shape)\n",
    "# >>> (2, 4, 3)"
   ],
   "outputs": [
    {
     "name": "stdout",
     "output_type": "stream",
     "text": [
      "torch.Size([2, 4, 3])\n"
     ]
    }
   ],
   "execution_count": 162
  },
  {
   "cell_type": "code",
   "id": "8e8202e3",
   "metadata": {
    "ExecuteTime": {
     "end_time": "2024-09-24T14:19:28.736954Z",
     "start_time": "2024-09-24T14:19:28.731867Z"
    }
   },
   "source": [
    "print(t18)\n",
    "# >>> tensor([[[ 1,  2,  3],\n",
    "#              [ 4,  5,  6],\n",
    "#              [13, 14, 15],\n",
    "#              [16, 17, 18]],\n",
    "#             [[ 7,  8,  9],\n",
    "#              [10, 11, 12],\n",
    "#              [19, 20, 21],\n",
    "#              [22, 23, 24]]])"
   ],
   "outputs": [
    {
     "name": "stdout",
     "output_type": "stream",
     "text": [
      "tensor([[[ 1,  2,  3],\n",
      "         [ 4,  5,  6],\n",
      "         [13, 14, 15],\n",
      "         [16, 17, 18]],\n",
      "\n",
      "        [[ 7,  8,  9],\n",
      "         [10, 11, 12],\n",
      "         [19, 20, 21],\n",
      "         [22, 23, 24]]])\n"
     ]
    }
   ],
   "execution_count": 163
  }
 ],
 "metadata": {
  "kernelspec": {
   "name": "python3",
   "language": "python",
   "display_name": "Python 3 (ipykernel)"
  }
 },
 "nbformat": 4,
 "nbformat_minor": 5
}
