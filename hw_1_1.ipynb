{
 "cells": [
  {
   "cell_type": "code",
   "id": "17936ffa",
   "metadata": {
    "ExecuteTime": {
     "end_time": "2024-09-23T16:15:22.833250Z",
     "start_time": "2024-09-23T16:15:22.825911Z"
    }
   },
   "source": [
    "import torch\n",
    "import numpy as np"
   ],
   "outputs": [],
   "execution_count": 52
  },
  {
   "cell_type": "code",
   "id": "fea9819b",
   "metadata": {
    "ExecuteTime": {
     "end_time": "2024-09-23T16:15:22.950467Z",
     "start_time": "2024-09-23T16:15:22.939229Z"
    }
   },
   "source": [
    "# torch.Tensor class\n",
    "t1 = torch.Tensor([1, 2, 3], device='cpu')\n",
    "print(t1.dtype)   # >>> torch.float32\n",
    "print(t1.device)  # >>> cpu\n",
    "print(t1.requires_grad)  # >>> False\n",
    "print(t1.size())  # torch.Size([3])\n",
    "print(t1.shape)   # torch.Size([3])"
   ],
   "outputs": [
    {
     "name": "stdout",
     "output_type": "stream",
     "text": [
      "torch.float32\n",
      "cpu\n",
      "False\n",
      "torch.Size([3])\n",
      "torch.Size([3])\n"
     ]
    }
   ],
   "execution_count": 53
  },
  {
   "cell_type": "code",
   "id": "ff5d7d64",
   "metadata": {
    "ExecuteTime": {
     "end_time": "2024-09-23T16:15:23.094041Z",
     "start_time": "2024-09-23T16:15:23.087811Z"
    }
   },
   "source": [
    "# if you have gpu device\n",
    "# t1_cuda = t1.to(torch.device('cuda'))\n",
    "# or you can use shorthand\n",
    "# t1_cuda = t1.cuda()\n",
    "t1_cpu = t1.cpu()\n",
    "\n",
    "print(\"#\" * 50, 1)"
   ],
   "outputs": [
    {
     "name": "stdout",
     "output_type": "stream",
     "text": [
      "################################################## 1\n"
     ]
    }
   ],
   "execution_count": 54
  },
  {
   "cell_type": "code",
   "id": "fccc1402",
   "metadata": {
    "ExecuteTime": {
     "end_time": "2024-09-23T16:15:23.308101Z",
     "start_time": "2024-09-23T16:15:23.300669Z"
    }
   },
   "source": [
    "# torch.tensor function\n",
    "t2 = torch.tensor([1, 2, 3], device='cpu')\n",
    "print(t2.dtype)  # >>> torch.int64\n",
    "print(t2.device)  # >>> cpu\n",
    "print(t2.requires_grad)  # >>> False\n",
    "print(t2.size())  # torch.Size([3])\n",
    "print(t2.shape)  # torch.Size([3])"
   ],
   "outputs": [
    {
     "name": "stdout",
     "output_type": "stream",
     "text": [
      "torch.int64\n",
      "cpu\n",
      "False\n",
      "torch.Size([3])\n",
      "torch.Size([3])\n"
     ]
    }
   ],
   "execution_count": 55
  },
  {
   "cell_type": "code",
   "id": "f37ca96e",
   "metadata": {
    "ExecuteTime": {
     "end_time": "2024-09-23T16:15:23.544873Z",
     "start_time": "2024-09-23T16:15:23.538449Z"
    }
   },
   "source": [
    "# if you have gpu device\n",
    "# t2_cuda = t2.to(torch.device('cuda'))\n",
    "# or you can use shorthand\n",
    "# t2_cuda = t2.cuda()\n",
    "t2_cpu = t2.cpu()\n",
    "\n",
    "print(\"#\" * 50, 2)"
   ],
   "outputs": [
    {
     "name": "stdout",
     "output_type": "stream",
     "text": [
      "################################################## 2\n"
     ]
    }
   ],
   "execution_count": 56
  },
  {
   "cell_type": "code",
   "id": "6f7dbccd",
   "metadata": {
    "ExecuteTime": {
     "end_time": "2024-09-23T16:15:23.730024Z",
     "start_time": "2024-09-23T16:15:23.723170Z"
    }
   },
   "source": [
    "a1 = torch.tensor(1)\t\t\t     # shape: torch.Size([]), ndims(=rank): 0\n",
    "print(a1.shape, a1.ndim)"
   ],
   "outputs": [
    {
     "name": "stdout",
     "output_type": "stream",
     "text": [
      "torch.Size([]) 0\n"
     ]
    }
   ],
   "execution_count": 57
  },
  {
   "cell_type": "code",
   "id": "56b42ff0",
   "metadata": {
    "ExecuteTime": {
     "end_time": "2024-09-23T16:15:23.916655Z",
     "start_time": "2024-09-23T16:15:23.910423Z"
    }
   },
   "source": [
    "a2 = torch.tensor([1])\t\t  \t     # shape: torch.Size([1]), ndims(=rank): 1\n",
    "print(a2.shape, a2.ndim)"
   ],
   "outputs": [
    {
     "name": "stdout",
     "output_type": "stream",
     "text": [
      "torch.Size([1]) 1\n"
     ]
    }
   ],
   "execution_count": 58
  },
  {
   "cell_type": "code",
   "id": "037ccb90",
   "metadata": {
    "ExecuteTime": {
     "end_time": "2024-09-23T16:15:24.130995Z",
     "start_time": "2024-09-23T16:15:24.123576Z"
    }
   },
   "source": [
    "a3 = torch.tensor([1, 2, 3, 4, 5])   # shape: torch.Size([5]), ndims(=rank): 1\n",
    "print(a3.shape, a3.ndim)"
   ],
   "outputs": [
    {
     "name": "stdout",
     "output_type": "stream",
     "text": [
      "torch.Size([5]) 1\n"
     ]
    }
   ],
   "execution_count": 59
  },
  {
   "cell_type": "code",
   "id": "70dae772",
   "metadata": {
    "ExecuteTime": {
     "end_time": "2024-09-23T16:15:24.333122Z",
     "start_time": "2024-09-23T16:15:24.325659Z"
    }
   },
   "source": [
    "a4 = torch.tensor([[1], [2], [3], [4], [5]])   # shape: torch.Size([5, 1]), ndims(=rank): 2\n",
    "print(a4.shape, a4.ndim)"
   ],
   "outputs": [
    {
     "name": "stdout",
     "output_type": "stream",
     "text": [
      "torch.Size([5, 1]) 2\n"
     ]
    }
   ],
   "execution_count": 60
  },
  {
   "cell_type": "code",
   "id": "c8e4ef86",
   "metadata": {
    "ExecuteTime": {
     "end_time": "2024-09-23T16:15:24.503650Z",
     "start_time": "2024-09-23T16:15:24.495832Z"
    }
   },
   "source": [
    "a5 = torch.tensor([                 # shape: torch.Size([3, 2]), ndims(=rank): 2\n",
    "    [1, 2],\n",
    "    [3, 4],\n",
    "    [5, 6]\n",
    "])\n",
    "print(a5.shape, a5.ndim)"
   ],
   "outputs": [
    {
     "name": "stdout",
     "output_type": "stream",
     "text": [
      "torch.Size([3, 2]) 2\n"
     ]
    }
   ],
   "execution_count": 61
  },
  {
   "cell_type": "code",
   "id": "04890d6a",
   "metadata": {
    "ExecuteTime": {
     "end_time": "2024-09-23T16:15:24.676432Z",
     "start_time": "2024-09-23T16:15:24.670107Z"
    }
   },
   "source": [
    "a6 = torch.tensor([                 # shape: torch.Size([3, 2, 1]), ndims(=rank): 3\n",
    "    [[1], [2]],\n",
    "    [[3], [4]],\n",
    "    [[5], [6]]\n",
    "])\n",
    "print(a6.shape, a6.ndim)"
   ],
   "outputs": [
    {
     "name": "stdout",
     "output_type": "stream",
     "text": [
      "torch.Size([3, 2, 1]) 3\n"
     ]
    }
   ],
   "execution_count": 62
  },
  {
   "cell_type": "code",
   "id": "67e02a9f",
   "metadata": {
    "ExecuteTime": {
     "end_time": "2024-09-23T16:15:24.862988Z",
     "start_time": "2024-09-23T16:15:24.856685Z"
    }
   },
   "source": [
    "a7 = torch.tensor([                 # shape: torch.Size([3, 1, 2, 1]), ndims(=rank): 4\n",
    "    [[[1], [2]]],\n",
    "    [[[3], [4]]],\n",
    "    [[[5], [6]]]\n",
    "])\n",
    "print(a7.shape, a7.ndim)"
   ],
   "outputs": [
    {
     "name": "stdout",
     "output_type": "stream",
     "text": [
      "torch.Size([3, 1, 2, 1]) 4\n"
     ]
    }
   ],
   "execution_count": 63
  },
  {
   "cell_type": "code",
   "id": "8a733b38",
   "metadata": {
    "ExecuteTime": {
     "end_time": "2024-09-23T16:15:25.014627Z",
     "start_time": "2024-09-23T16:15:25.006808Z"
    }
   },
   "source": [
    "a8 = torch.tensor([                 # shape: torch.Size([3, 1, 2, 3]), ndims(=rank): 4\n",
    "    [[[1, 2, 3], [2, 3, 4]]],\n",
    "    [[[3, 1, 1], [4, 4, 5]]],\n",
    "    [[[5, 6, 2], [6, 3, 1]]]\n",
    "])\n",
    "print(a8.shape, a8.ndim)"
   ],
   "outputs": [
    {
     "name": "stdout",
     "output_type": "stream",
     "text": [
      "torch.Size([3, 1, 2, 3]) 4\n"
     ]
    }
   ],
   "execution_count": 64
  },
  {
   "cell_type": "code",
   "id": "53a31fdf",
   "metadata": {
    "ExecuteTime": {
     "end_time": "2024-09-23T16:15:25.161917Z",
     "start_time": "2024-09-23T16:15:25.154120Z"
    }
   },
   "source": [
    "a9 = torch.tensor([                 # shape: torch.Size([3, 1, 2, 3, 1]), ndims(=rank): 5\n",
    "    [[[[1], [2], [3]], [[2], [3], [4]]]],\n",
    "    [[[[3], [1], [1]], [[4], [4], [5]]]],\n",
    "    [[[[5], [6], [2]], [[6], [3], [1]]]]\n",
    "])\n",
    "print(a9.shape, a9.ndim)"
   ],
   "outputs": [
    {
     "name": "stdout",
     "output_type": "stream",
     "text": [
      "torch.Size([3, 1, 2, 3, 1]) 5\n"
     ]
    }
   ],
   "execution_count": 65
  },
  {
   "cell_type": "code",
   "id": "6dbaabff",
   "metadata": {
    "ExecuteTime": {
     "end_time": "2024-09-23T16:15:25.354147Z",
     "start_time": "2024-09-23T16:15:25.347178Z"
    }
   },
   "source": [
    "a10 = torch.tensor([                 # shape: torch.Size([4, 5]), ndims(=rank): 2\n",
    "    [1, 2, 3, 4, 5],\n",
    "    [1, 2, 3, 4, 5],\n",
    "    [1, 2, 3, 4, 5],\n",
    "    [1, 2, 3, 4, 5],\n",
    "])\n",
    "print(a10.shape, a10.ndim)"
   ],
   "outputs": [
    {
     "name": "stdout",
     "output_type": "stream",
     "text": [
      "torch.Size([4, 5]) 2\n"
     ]
    }
   ],
   "execution_count": 66
  },
  {
   "cell_type": "code",
   "id": "210ba41c",
   "metadata": {
    "ExecuteTime": {
     "end_time": "2024-09-23T16:15:25.580244Z",
     "start_time": "2024-09-23T16:15:25.573911Z"
    }
   },
   "source": [
    "a10 = torch.tensor([                 # shape: torch.Size([4, 1, 5]), ndims(=rank): 3\n",
    "    [[1, 2, 3, 4, 5]],\n",
    "    [[1, 2, 3, 4, 5]],\n",
    "    [[1, 2, 3, 4, 5]],\n",
    "    [[1, 2, 3, 4, 5]],\n",
    "])\n",
    "print(a10.shape, a10.ndim)"
   ],
   "outputs": [
    {
     "name": "stdout",
     "output_type": "stream",
     "text": [
      "torch.Size([4, 1, 5]) 3\n"
     ]
    }
   ],
   "execution_count": 67
  },
  {
   "cell_type": "code",
   "id": "3a037df0",
   "metadata": {
    "ExecuteTime": {
     "end_time": "2024-09-23T16:15:25.767509Z",
     "start_time": "2024-09-23T16:15:25.732366Z"
    }
   },
   "source": [
    "a11 = torch.tensor([                 # ValueError: expected sequence of length 3 at dim 3 (got 2)\n",
    "    [[[1, 2, 3], [4, 5]]],\n",
    "    [[[1, 2, 3], [4, 5]]],\n",
    "    [[[1, 2, 3], [4, 5]]],\n",
    "    [[[1, 2, 3], [4, 5]]],\n",
    "])"
   ],
   "outputs": [
    {
     "ename": "ValueError",
     "evalue": "expected sequence of length 3 at dim 3 (got 2)",
     "output_type": "error",
     "traceback": [
      "\u001B[0;31m---------------------------------------------------------------------------\u001B[0m",
      "\u001B[0;31mValueError\u001B[0m                                Traceback (most recent call last)",
      "Cell \u001B[0;32mIn[68], line 1\u001B[0m\n\u001B[0;32m----> 1\u001B[0m a11 \u001B[38;5;241m=\u001B[39m \u001B[43mtorch\u001B[49m\u001B[38;5;241;43m.\u001B[39;49m\u001B[43mtensor\u001B[49m\u001B[43m(\u001B[49m\u001B[43m[\u001B[49m\u001B[43m                 \u001B[49m\u001B[38;5;66;43;03m# ValueError: expected sequence of length 3 at dim 3 (got 2)\u001B[39;49;00m\n\u001B[1;32m      2\u001B[0m \u001B[43m    \u001B[49m\u001B[43m[\u001B[49m\u001B[43m[\u001B[49m\u001B[43m[\u001B[49m\u001B[38;5;241;43m1\u001B[39;49m\u001B[43m,\u001B[49m\u001B[43m \u001B[49m\u001B[38;5;241;43m2\u001B[39;49m\u001B[43m,\u001B[49m\u001B[43m \u001B[49m\u001B[38;5;241;43m3\u001B[39;49m\u001B[43m]\u001B[49m\u001B[43m,\u001B[49m\u001B[43m \u001B[49m\u001B[43m[\u001B[49m\u001B[38;5;241;43m4\u001B[39;49m\u001B[43m,\u001B[49m\u001B[43m \u001B[49m\u001B[38;5;241;43m5\u001B[39;49m\u001B[43m]\u001B[49m\u001B[43m]\u001B[49m\u001B[43m]\u001B[49m\u001B[43m,\u001B[49m\n\u001B[1;32m      3\u001B[0m \u001B[43m    \u001B[49m\u001B[43m[\u001B[49m\u001B[43m[\u001B[49m\u001B[43m[\u001B[49m\u001B[38;5;241;43m1\u001B[39;49m\u001B[43m,\u001B[49m\u001B[43m \u001B[49m\u001B[38;5;241;43m2\u001B[39;49m\u001B[43m,\u001B[49m\u001B[43m \u001B[49m\u001B[38;5;241;43m3\u001B[39;49m\u001B[43m]\u001B[49m\u001B[43m,\u001B[49m\u001B[43m \u001B[49m\u001B[43m[\u001B[49m\u001B[38;5;241;43m4\u001B[39;49m\u001B[43m,\u001B[49m\u001B[43m \u001B[49m\u001B[38;5;241;43m5\u001B[39;49m\u001B[43m]\u001B[49m\u001B[43m]\u001B[49m\u001B[43m]\u001B[49m\u001B[43m,\u001B[49m\n\u001B[1;32m      4\u001B[0m \u001B[43m    \u001B[49m\u001B[43m[\u001B[49m\u001B[43m[\u001B[49m\u001B[43m[\u001B[49m\u001B[38;5;241;43m1\u001B[39;49m\u001B[43m,\u001B[49m\u001B[43m \u001B[49m\u001B[38;5;241;43m2\u001B[39;49m\u001B[43m,\u001B[49m\u001B[43m \u001B[49m\u001B[38;5;241;43m3\u001B[39;49m\u001B[43m]\u001B[49m\u001B[43m,\u001B[49m\u001B[43m \u001B[49m\u001B[43m[\u001B[49m\u001B[38;5;241;43m4\u001B[39;49m\u001B[43m,\u001B[49m\u001B[43m \u001B[49m\u001B[38;5;241;43m5\u001B[39;49m\u001B[43m]\u001B[49m\u001B[43m]\u001B[49m\u001B[43m]\u001B[49m\u001B[43m,\u001B[49m\n\u001B[1;32m      5\u001B[0m \u001B[43m    \u001B[49m\u001B[43m[\u001B[49m\u001B[43m[\u001B[49m\u001B[43m[\u001B[49m\u001B[38;5;241;43m1\u001B[39;49m\u001B[43m,\u001B[49m\u001B[43m \u001B[49m\u001B[38;5;241;43m2\u001B[39;49m\u001B[43m,\u001B[49m\u001B[43m \u001B[49m\u001B[38;5;241;43m3\u001B[39;49m\u001B[43m]\u001B[49m\u001B[43m,\u001B[49m\u001B[43m \u001B[49m\u001B[43m[\u001B[49m\u001B[38;5;241;43m4\u001B[39;49m\u001B[43m,\u001B[49m\u001B[43m \u001B[49m\u001B[38;5;241;43m5\u001B[39;49m\u001B[43m]\u001B[49m\u001B[43m]\u001B[49m\u001B[43m]\u001B[49m\u001B[43m,\u001B[49m\n\u001B[1;32m      6\u001B[0m \u001B[43m]\u001B[49m\u001B[43m)\u001B[49m\n",
      "\u001B[0;31mValueError\u001B[0m: expected sequence of length 3 at dim 3 (got 2)"
     ]
    }
   ],
   "execution_count": 68
  },
  {
   "cell_type": "code",
   "id": "d17d0f5f",
   "metadata": {
    "ExecuteTime": {
     "end_time": "2024-09-23T16:15:31.061275Z",
     "start_time": "2024-09-23T16:15:31.052854Z"
    }
   },
   "source": [
    "# torch.Tensor class\n",
    "t1 = torch.Tensor([1, 2, 3], device='cpu')\n",
    "print(t1.dtype)   # >>> torch.float32\n",
    "print(t1.device)  # >>> cpu\n",
    "print(t1.requires_grad)  # >>> False\n",
    "print(t1.size())  # torch.Size([3])\n",
    "print(t1.shape)   # torch.Size([3])\n",
    "\n",
    "# if you have gpu device\n",
    "# t1_cuda = t1.to(torch.device('cuda'))\n",
    "# or you can use shorthand\n",
    "# t1_cuda = t1.cuda()\n",
    "t1_cpu = t1.cpu()\n",
    "print(\"#\" * 50, 1)"
   ],
   "outputs": [
    {
     "name": "stdout",
     "output_type": "stream",
     "text": [
      "torch.float32\n",
      "cpu\n",
      "False\n",
      "torch.Size([3])\n",
      "torch.Size([3])\n",
      "################################################## 1\n"
     ]
    }
   ],
   "execution_count": 70
  },
  {
   "cell_type": "code",
   "id": "2e4dbd73",
   "metadata": {
    "ExecuteTime": {
     "end_time": "2024-09-23T16:15:33.248388Z",
     "start_time": "2024-09-23T16:15:33.238117Z"
    }
   },
   "source": [
    "# torch.tensor function\n",
    "t2 = torch.tensor([1, 2, 3], device='cpu')\n",
    "print(t2.dtype)  # >>> torch.int64\n",
    "print(t2.device)  # >>> cpu\n",
    "print(t2.requires_grad)  # >>> False\n",
    "print(t2.size())  # torch.Size([3])\n",
    "print(t2.shape)  # torch.Size([3])\n",
    "\n",
    "# if you have gpu device\n",
    "# t2_cuda = t2.to(torch.device('cuda'))\n",
    "# or you can use shorthand\n",
    "# t2_cuda = t2.cuda()\n",
    "t2_cpu = t2.cpu()\n",
    "print(\"#\" * 50, 2)"
   ],
   "outputs": [
    {
     "name": "stdout",
     "output_type": "stream",
     "text": [
      "torch.int64\n",
      "cpu\n",
      "False\n",
      "torch.Size([3])\n",
      "torch.Size([3])\n",
      "################################################## 2\n"
     ]
    }
   ],
   "execution_count": 71
  },
  {
   "cell_type": "code",
   "id": "f8d5f795",
   "metadata": {
    "ExecuteTime": {
     "end_time": "2024-09-23T16:15:35.130293Z",
     "start_time": "2024-09-23T16:15:35.122001Z"
    }
   },
   "source": [
    "a1 = torch.tensor(1)\t\t\t     # shape: torch.Size([]), ndims(=rank): 0\n",
    "print(a1.shape, a1.ndim)"
   ],
   "outputs": [
    {
     "name": "stdout",
     "output_type": "stream",
     "text": [
      "torch.Size([]) 0\n"
     ]
    }
   ],
   "execution_count": 72
  },
  {
   "cell_type": "code",
   "id": "96f85a13",
   "metadata": {
    "ExecuteTime": {
     "end_time": "2024-09-23T16:15:35.701981Z",
     "start_time": "2024-09-23T16:15:35.693315Z"
    }
   },
   "source": [
    "a2 = torch.tensor([1])\t\t  \t     # shape: torch.Size([1]), ndims(=rank): 1\n",
    "print(a2.shape, a2.ndim)"
   ],
   "outputs": [
    {
     "name": "stdout",
     "output_type": "stream",
     "text": [
      "torch.Size([1]) 1\n"
     ]
    }
   ],
   "execution_count": 73
  },
  {
   "cell_type": "code",
   "id": "2c6f5b73",
   "metadata": {
    "ExecuteTime": {
     "end_time": "2024-09-23T16:15:36.306981Z",
     "start_time": "2024-09-23T16:15:36.299489Z"
    }
   },
   "source": [
    "a3 = torch.tensor([1, 2, 3, 4, 5])   # shape: torch.Size([5]), ndims(=rank): 1\n",
    "print(a3.shape, a3.ndim)"
   ],
   "outputs": [
    {
     "name": "stdout",
     "output_type": "stream",
     "text": [
      "torch.Size([5]) 1\n"
     ]
    }
   ],
   "execution_count": 74
  },
  {
   "cell_type": "code",
   "id": "36eb4d6f",
   "metadata": {
    "ExecuteTime": {
     "end_time": "2024-09-23T16:15:36.858229Z",
     "start_time": "2024-09-23T16:15:36.849456Z"
    }
   },
   "source": [
    "a4 = torch.tensor([[1], [2], [3], [4], [5]])   # shape: torch.Size([5, 1]), ndims(=rank): 2\n",
    "print(a4.shape, a4.ndim)"
   ],
   "outputs": [
    {
     "name": "stdout",
     "output_type": "stream",
     "text": [
      "torch.Size([5, 1]) 2\n"
     ]
    }
   ],
   "execution_count": 75
  },
  {
   "cell_type": "code",
   "id": "4687c20d",
   "metadata": {
    "ExecuteTime": {
     "end_time": "2024-09-23T16:15:37.395095Z",
     "start_time": "2024-09-23T16:15:37.387484Z"
    }
   },
   "source": [
    "a5 = torch.tensor([                 # shape: torch.Size([3, 2]), ndims(=rank): 2\n",
    "    [1, 2],\n",
    "    [3, 4],\n",
    "    [5, 6]\n",
    "])\n",
    "print(a5.shape, a5.ndim)"
   ],
   "outputs": [
    {
     "name": "stdout",
     "output_type": "stream",
     "text": [
      "torch.Size([3, 2]) 2\n"
     ]
    }
   ],
   "execution_count": 76
  },
  {
   "cell_type": "code",
   "id": "d7975b0b",
   "metadata": {
    "ExecuteTime": {
     "end_time": "2024-09-23T16:15:37.885024Z",
     "start_time": "2024-09-23T16:15:37.872971Z"
    }
   },
   "source": [
    "a6 = torch.tensor([                 # shape: torch.Size([3, 2, 1]), ndims(=rank): 3\n",
    "    [[1], [2]],\n",
    "    [[3], [4]],\n",
    "    [[5], [6]]\n",
    "])\n",
    "print(a6.shape, a6.ndim)"
   ],
   "outputs": [
    {
     "name": "stdout",
     "output_type": "stream",
     "text": [
      "torch.Size([3, 2, 1]) 3\n"
     ]
    }
   ],
   "execution_count": 77
  },
  {
   "cell_type": "code",
   "id": "6f26a44a",
   "metadata": {
    "ExecuteTime": {
     "end_time": "2024-09-23T16:15:38.360721Z",
     "start_time": "2024-09-23T16:15:38.348540Z"
    }
   },
   "source": [
    "a7 = torch.tensor([                 # shape: torch.Size([3, 1, 2, 1]), ndims(=rank): 4\n",
    "    [[[1], [2]]],\n",
    "    [[[3], [4]]],\n",
    "    [[[5], [6]]]\n",
    "])\n",
    "print(a7.shape, a7.ndim)"
   ],
   "outputs": [
    {
     "name": "stdout",
     "output_type": "stream",
     "text": [
      "torch.Size([3, 1, 2, 1]) 4\n"
     ]
    }
   ],
   "execution_count": 78
  },
  {
   "cell_type": "code",
   "id": "fb4e51eb",
   "metadata": {
    "ExecuteTime": {
     "end_time": "2024-09-23T16:15:38.778034Z",
     "start_time": "2024-09-23T16:15:38.767739Z"
    }
   },
   "source": [
    "a8 = torch.tensor([                 # shape: torch.Size([3, 1, 2, 3]), ndims(=rank): 4\n",
    "    [[[1, 2, 3], [2, 3, 4]]],\n",
    "    [[[3, 1, 1], [4, 4, 5]]],\n",
    "    [[[5, 6, 2], [6, 3, 1]]]\n",
    "])\n",
    "print(a8.shape, a8.ndim)"
   ],
   "outputs": [
    {
     "name": "stdout",
     "output_type": "stream",
     "text": [
      "torch.Size([3, 1, 2, 3]) 4\n"
     ]
    }
   ],
   "execution_count": 79
  },
  {
   "cell_type": "code",
   "id": "254ac2ce",
   "metadata": {
    "ExecuteTime": {
     "end_time": "2024-09-23T16:15:39.130014Z",
     "start_time": "2024-09-23T16:15:39.121594Z"
    }
   },
   "source": [
    "\n",
    "a9 = torch.tensor([                 # shape: torch.Size([3, 1, 2, 3, 1]), ndims(=rank): 5\n",
    "    [[[[1], [2], [3]], [[2], [3], [4]]]],\n",
    "    [[[[3], [1], [1]], [[4], [4], [5]]]],\n",
    "    [[[[5], [6], [2]], [[6], [3], [1]]]]\n",
    "])\n",
    "print(a9.shape, a9.ndim)"
   ],
   "outputs": [
    {
     "name": "stdout",
     "output_type": "stream",
     "text": [
      "torch.Size([3, 1, 2, 3, 1]) 5\n"
     ]
    }
   ],
   "execution_count": 80
  },
  {
   "cell_type": "code",
   "id": "5b456b86",
   "metadata": {
    "ExecuteTime": {
     "end_time": "2024-09-23T16:15:39.369617Z",
     "start_time": "2024-09-23T16:15:39.362106Z"
    }
   },
   "source": [
    "a10 = torch.tensor([                 # shape: torch.Size([4, 5]), ndims(=rank): 2\n",
    "    [1, 2, 3, 4, 5],\n",
    "    [1, 2, 3, 4, 5],\n",
    "    [1, 2, 3, 4, 5],\n",
    "    [1, 2, 3, 4, 5],\n",
    "])\n",
    "print(a10.shape, a10.ndim)"
   ],
   "outputs": [
    {
     "name": "stdout",
     "output_type": "stream",
     "text": [
      "torch.Size([4, 5]) 2\n"
     ]
    }
   ],
   "execution_count": 81
  },
  {
   "cell_type": "code",
   "id": "146e4021",
   "metadata": {
    "ExecuteTime": {
     "end_time": "2024-09-23T16:15:39.576758Z",
     "start_time": "2024-09-23T16:15:39.567118Z"
    }
   },
   "source": [
    "a10 = torch.tensor([                 # shape: torch.Size([4, 1, 5]), ndims(=rank): 3\n",
    "    [[1, 2, 3, 4, 5]],\n",
    "    [[1, 2, 3, 4, 5]],\n",
    "    [[1, 2, 3, 4, 5]],\n",
    "    [[1, 2, 3, 4, 5]],\n",
    "])\n",
    "print(a10.shape, a10.ndim)"
   ],
   "outputs": [
    {
     "name": "stdout",
     "output_type": "stream",
     "text": [
      "torch.Size([4, 1, 5]) 3\n"
     ]
    }
   ],
   "execution_count": 82
  },
  {
   "cell_type": "code",
   "id": "44c10fef",
   "metadata": {
    "ExecuteTime": {
     "end_time": "2024-09-23T16:15:39.843055Z",
     "start_time": "2024-09-23T16:15:39.808779Z"
    }
   },
   "source": [
    "a11 = torch.tensor([                 # ValueError: expected sequence of length 3 at dim 3 (got 2)\n",
    "    [[[1, 2, 3], [4, 5]]],\n",
    "    [[[1, 2, 3], [4, 5]]],\n",
    "    [[[1, 2, 3], [4, 5]]],\n",
    "    [[[1, 2, 3], [4, 5]]],\n",
    "])"
   ],
   "outputs": [
    {
     "ename": "ValueError",
     "evalue": "expected sequence of length 3 at dim 3 (got 2)",
     "output_type": "error",
     "traceback": [
      "\u001B[0;31m---------------------------------------------------------------------------\u001B[0m",
      "\u001B[0;31mValueError\u001B[0m                                Traceback (most recent call last)",
      "Cell \u001B[0;32mIn[83], line 1\u001B[0m\n\u001B[0;32m----> 1\u001B[0m a11 \u001B[38;5;241m=\u001B[39m \u001B[43mtorch\u001B[49m\u001B[38;5;241;43m.\u001B[39;49m\u001B[43mtensor\u001B[49m\u001B[43m(\u001B[49m\u001B[43m[\u001B[49m\u001B[43m                 \u001B[49m\u001B[38;5;66;43;03m# ValueError: expected sequence of length 3 at dim 3 (got 2)\u001B[39;49;00m\n\u001B[1;32m      2\u001B[0m \u001B[43m    \u001B[49m\u001B[43m[\u001B[49m\u001B[43m[\u001B[49m\u001B[43m[\u001B[49m\u001B[38;5;241;43m1\u001B[39;49m\u001B[43m,\u001B[49m\u001B[43m \u001B[49m\u001B[38;5;241;43m2\u001B[39;49m\u001B[43m,\u001B[49m\u001B[43m \u001B[49m\u001B[38;5;241;43m3\u001B[39;49m\u001B[43m]\u001B[49m\u001B[43m,\u001B[49m\u001B[43m \u001B[49m\u001B[43m[\u001B[49m\u001B[38;5;241;43m4\u001B[39;49m\u001B[43m,\u001B[49m\u001B[43m \u001B[49m\u001B[38;5;241;43m5\u001B[39;49m\u001B[43m]\u001B[49m\u001B[43m]\u001B[49m\u001B[43m]\u001B[49m\u001B[43m,\u001B[49m\n\u001B[1;32m      3\u001B[0m \u001B[43m    \u001B[49m\u001B[43m[\u001B[49m\u001B[43m[\u001B[49m\u001B[43m[\u001B[49m\u001B[38;5;241;43m1\u001B[39;49m\u001B[43m,\u001B[49m\u001B[43m \u001B[49m\u001B[38;5;241;43m2\u001B[39;49m\u001B[43m,\u001B[49m\u001B[43m \u001B[49m\u001B[38;5;241;43m3\u001B[39;49m\u001B[43m]\u001B[49m\u001B[43m,\u001B[49m\u001B[43m \u001B[49m\u001B[43m[\u001B[49m\u001B[38;5;241;43m4\u001B[39;49m\u001B[43m,\u001B[49m\u001B[43m \u001B[49m\u001B[38;5;241;43m5\u001B[39;49m\u001B[43m]\u001B[49m\u001B[43m]\u001B[49m\u001B[43m]\u001B[49m\u001B[43m,\u001B[49m\n\u001B[1;32m      4\u001B[0m \u001B[43m    \u001B[49m\u001B[43m[\u001B[49m\u001B[43m[\u001B[49m\u001B[43m[\u001B[49m\u001B[38;5;241;43m1\u001B[39;49m\u001B[43m,\u001B[49m\u001B[43m \u001B[49m\u001B[38;5;241;43m2\u001B[39;49m\u001B[43m,\u001B[49m\u001B[43m \u001B[49m\u001B[38;5;241;43m3\u001B[39;49m\u001B[43m]\u001B[49m\u001B[43m,\u001B[49m\u001B[43m \u001B[49m\u001B[43m[\u001B[49m\u001B[38;5;241;43m4\u001B[39;49m\u001B[43m,\u001B[49m\u001B[43m \u001B[49m\u001B[38;5;241;43m5\u001B[39;49m\u001B[43m]\u001B[49m\u001B[43m]\u001B[49m\u001B[43m]\u001B[49m\u001B[43m,\u001B[49m\n\u001B[1;32m      5\u001B[0m \u001B[43m    \u001B[49m\u001B[43m[\u001B[49m\u001B[43m[\u001B[49m\u001B[43m[\u001B[49m\u001B[38;5;241;43m1\u001B[39;49m\u001B[43m,\u001B[49m\u001B[43m \u001B[49m\u001B[38;5;241;43m2\u001B[39;49m\u001B[43m,\u001B[49m\u001B[43m \u001B[49m\u001B[38;5;241;43m3\u001B[39;49m\u001B[43m]\u001B[49m\u001B[43m,\u001B[49m\u001B[43m \u001B[49m\u001B[43m[\u001B[49m\u001B[38;5;241;43m4\u001B[39;49m\u001B[43m,\u001B[49m\u001B[43m \u001B[49m\u001B[38;5;241;43m5\u001B[39;49m\u001B[43m]\u001B[49m\u001B[43m]\u001B[49m\u001B[43m]\u001B[49m\u001B[43m,\u001B[49m\n\u001B[1;32m      6\u001B[0m \u001B[43m]\u001B[49m\u001B[43m)\u001B[49m\n",
      "\u001B[0;31mValueError\u001B[0m: expected sequence of length 3 at dim 3 (got 2)"
     ]
    }
   ],
   "execution_count": 83
  },
  {
   "cell_type": "code",
   "id": "bd1c6eaf",
   "metadata": {
    "ExecuteTime": {
     "end_time": "2024-09-23T16:17:22.676643Z",
     "start_time": "2024-09-23T16:17:22.660331Z"
    }
   },
   "source": [
    "l1 = [1, 2, 3]\n",
    "t1 = torch.Tensor(l1)\n",
    "l2 = [1, 2, 3]\n",
    "t2 = torch.tensor(l2)\n",
    "l3 = [1, 2, 3]\n",
    "t3 = torch.as_tensor(l3)\n",
    "\n",
    "l1[0] = 100\n",
    "l2[0] = 100\n",
    "l3[0] = 100\n",
    "\n",
    "print(t1)\n",
    "print(t2)\n",
    "print(t3)\n",
    "\n",
    "print(\"#\" * 100)"
   ],
   "outputs": [
    {
     "name": "stdout",
     "output_type": "stream",
     "text": [
      "tensor([1., 2., 3.])\n",
      "tensor([1, 2, 3])\n",
      "tensor([1, 2, 3])\n",
      "####################################################################################################\n"
     ]
    }
   ],
   "execution_count": 232
  },
  {
   "cell_type": "code",
   "id": "8741a9d0",
   "metadata": {
    "ExecuteTime": {
     "end_time": "2024-09-23T16:15:40.893221Z",
     "start_time": "2024-09-23T16:15:40.885987Z"
    }
   },
   "source": [
    "l4 = np.array([1, 2, 3])\n",
    "t4 = torch.Tensor(l4)\n",
    "l5 = np.array([1, 2, 3])\n",
    "t5 = torch.tensor(l5)\n",
    "l6 = np.array([1, 2, 3])\n",
    "t6 = torch.as_tensor(l6)\n",
    "l4[0] = 100\n",
    "l5[0] = 100\n",
    "l6[0] = 100\n",
    "\n",
    "print(t4)\n",
    "print(t5)\n",
    "print(t6)"
   ],
   "outputs": [],
   "execution_count": 86
  },
  {
   "cell_type": "code",
   "id": "83c67adc",
   "metadata": {
    "ExecuteTime": {
     "end_time": "2024-09-23T16:15:41.718345Z",
     "start_time": "2024-09-23T16:15:41.703175Z"
    }
   },
   "source": [
    "t1 = torch.ones(size=(5,))  # or torch.ones(5)\n",
    "t1_like = torch.ones_like(input=t1)\n",
    "print(t1)  # >>> tensor([1., 1., 1., 1., 1.])\n",
    "print(t1_like)  # >>> tensor([1., 1., 1., 1., 1.])"
   ],
   "outputs": [
    {
     "name": "stdout",
     "output_type": "stream",
     "text": [
      "tensor([1., 1., 1., 1., 1.])\n",
      "tensor([1., 1., 1., 1., 1.])\n"
     ]
    }
   ],
   "execution_count": 91
  },
  {
   "cell_type": "code",
   "id": "ef2ff18e",
   "metadata": {
    "ExecuteTime": {
     "end_time": "2024-09-23T16:15:41.939310Z",
     "start_time": "2024-09-23T16:15:41.927876Z"
    }
   },
   "source": [
    "t2 = torch.zeros(size=(6,))  # or torch.zeros(6)\n",
    "t2_like = torch.zeros_like(input=t2)\n",
    "print(t2)  # >>> tensor([0., 0., 0., 0., 0., 0.])\n",
    "print(t2_like)  # >>> tensor([0., 0., 0., 0., 0., 0.])"
   ],
   "outputs": [
    {
     "name": "stdout",
     "output_type": "stream",
     "text": [
      "tensor([0., 0., 0., 0., 0., 0.])\n",
      "tensor([0., 0., 0., 0., 0., 0.])\n"
     ]
    }
   ],
   "execution_count": 92
  },
  {
   "cell_type": "code",
   "id": "3eb66ae0",
   "metadata": {
    "ExecuteTime": {
     "end_time": "2024-09-23T16:15:42.220515Z",
     "start_time": "2024-09-23T16:15:42.210577Z"
    }
   },
   "source": [
    "t3 = torch.empty(size=(4,))  # or torch.zeros(4)\n",
    "t3_like = torch.empty_like(input=t3)\n",
    "print(t3)  # >>> tensor([0., 0., 0., 0.])\n",
    "print(t3_like)  # >>> tensor([0., 0., 0., 0.])"
   ],
   "outputs": [
    {
     "name": "stdout",
     "output_type": "stream",
     "text": [
      "tensor([-1.3466e+36,  4.2200e-41,  5.7907e-35,  0.0000e+00])\n",
      "tensor([7.2994e-35, 0.0000e+00, 7.9325e-35, 0.0000e+00])\n"
     ]
    }
   ],
   "execution_count": 93
  },
  {
   "cell_type": "code",
   "id": "127985fa",
   "metadata": {
    "ExecuteTime": {
     "end_time": "2024-09-23T16:15:42.556810Z",
     "start_time": "2024-09-23T16:15:42.549637Z"
    }
   },
   "source": [
    "t4 = torch.eye(n=3)\n",
    "print(t4)"
   ],
   "outputs": [
    {
     "name": "stdout",
     "output_type": "stream",
     "text": [
      "tensor([[1., 0., 0.],\n",
      "        [0., 1., 0.],\n",
      "        [0., 0., 1.]])\n"
     ]
    }
   ],
   "execution_count": 94
  },
  {
   "cell_type": "code",
   "id": "74414b9f",
   "metadata": {
    "ExecuteTime": {
     "end_time": "2024-09-23T16:15:42.819440Z",
     "start_time": "2024-09-23T16:15:42.811734Z"
    }
   },
   "source": [
    "t1 = torch.randint(low=10, high=20, size=(1, 2))\n",
    "print(t1)"
   ],
   "outputs": [
    {
     "name": "stdout",
     "output_type": "stream",
     "text": [
      "tensor([[17, 19]])\n"
     ]
    }
   ],
   "execution_count": 95
  },
  {
   "cell_type": "code",
   "id": "f8cff813",
   "metadata": {
    "ExecuteTime": {
     "end_time": "2024-09-23T16:15:42.936361Z",
     "start_time": "2024-09-23T16:15:42.929732Z"
    }
   },
   "source": [
    "t2 = torch.rand(size=(1, 3))\n",
    "print(t2)"
   ],
   "outputs": [
    {
     "name": "stdout",
     "output_type": "stream",
     "text": [
      "tensor([[0.0677, 0.2783, 0.8937]])\n"
     ]
    }
   ],
   "execution_count": 96
  },
  {
   "cell_type": "code",
   "id": "f290b908",
   "metadata": {
    "ExecuteTime": {
     "end_time": "2024-09-23T16:15:43.165800Z",
     "start_time": "2024-09-23T16:15:43.159480Z"
    }
   },
   "source": [
    "t3 = torch.randn(size=(1, 3))\n",
    "print(t3)"
   ],
   "outputs": [
    {
     "name": "stdout",
     "output_type": "stream",
     "text": [
      "tensor([[ 0.5278, -0.7181,  0.0412]])\n"
     ]
    }
   ],
   "execution_count": 97
  },
  {
   "cell_type": "code",
   "id": "a4bfd41f",
   "metadata": {
    "ExecuteTime": {
     "end_time": "2024-09-23T16:15:43.402259Z",
     "start_time": "2024-09-23T16:15:43.394418Z"
    }
   },
   "source": [
    "t4 = torch.normal(mean=10.0, std=1.0, size=(3, 2))\n",
    "print(t4)"
   ],
   "outputs": [
    {
     "name": "stdout",
     "output_type": "stream",
     "text": [
      "tensor([[ 8.4890,  9.1010],\n",
      "        [10.5908,  9.3295],\n",
      "        [ 8.0257, 10.3902]])\n"
     ]
    }
   ],
   "execution_count": 98
  },
  {
   "cell_type": "code",
   "id": "44ff8667",
   "metadata": {
    "ExecuteTime": {
     "end_time": "2024-09-23T16:15:43.626124Z",
     "start_time": "2024-09-23T16:15:43.616951Z"
    }
   },
   "source": [
    "t5 = torch.linspace(start=0.0, end=5.0, steps=3)\n",
    "print(t5)"
   ],
   "outputs": [
    {
     "name": "stdout",
     "output_type": "stream",
     "text": [
      "tensor([0.0000, 2.5000, 5.0000])\n"
     ]
    }
   ],
   "execution_count": 99
  },
  {
   "cell_type": "code",
   "id": "fc9ea72d",
   "metadata": {
    "ExecuteTime": {
     "end_time": "2024-09-23T16:15:43.783833Z",
     "start_time": "2024-09-23T16:15:43.777642Z"
    }
   },
   "source": [
    "t6 = torch.arange(5)\n",
    "print(t6)"
   ],
   "outputs": [
    {
     "name": "stdout",
     "output_type": "stream",
     "text": [
      "tensor([0, 1, 2, 3, 4])\n"
     ]
    }
   ],
   "execution_count": 100
  },
  {
   "cell_type": "code",
   "id": "c8c4e237",
   "metadata": {
    "ExecuteTime": {
     "end_time": "2024-09-23T16:15:43.969590Z",
     "start_time": "2024-09-23T16:15:43.963759Z"
    }
   },
   "source": [
    "print(\"#\" * 30)"
   ],
   "outputs": [
    {
     "name": "stdout",
     "output_type": "stream",
     "text": [
      "##############################\n"
     ]
    }
   ],
   "execution_count": 101
  },
  {
   "cell_type": "code",
   "id": "85665bca",
   "metadata": {
    "ExecuteTime": {
     "end_time": "2024-09-23T16:15:44.244604Z",
     "start_time": "2024-09-23T16:15:44.229034Z"
    }
   },
   "source": [
    "torch.manual_seed(1729)\n",
    "random1 = torch.rand(2, 3)\n",
    "print(random1)"
   ],
   "outputs": [
    {
     "name": "stdout",
     "output_type": "stream",
     "text": [
      "tensor([[0.3126, 0.3791, 0.3087],\n",
      "        [0.0736, 0.4216, 0.0691]])\n"
     ]
    }
   ],
   "execution_count": 102
  },
  {
   "cell_type": "code",
   "id": "4d9e61dc",
   "metadata": {
    "ExecuteTime": {
     "end_time": "2024-09-23T16:15:44.496404Z",
     "start_time": "2024-09-23T16:15:44.488898Z"
    }
   },
   "source": [
    "random2 = torch.rand(2, 3)\n",
    "print(random2)"
   ],
   "outputs": [
    {
     "name": "stdout",
     "output_type": "stream",
     "text": [
      "tensor([[0.2332, 0.4047, 0.2162],\n",
      "        [0.9927, 0.4128, 0.5938]])\n"
     ]
    }
   ],
   "execution_count": 103
  },
  {
   "cell_type": "code",
   "id": "b95d0d95",
   "metadata": {
    "ExecuteTime": {
     "end_time": "2024-09-23T16:15:44.804707Z",
     "start_time": "2024-09-23T16:15:44.798971Z"
    }
   },
   "source": [
    "print()"
   ],
   "outputs": [
    {
     "name": "stdout",
     "output_type": "stream",
     "text": [
      "\n"
     ]
    }
   ],
   "execution_count": 104
  },
  {
   "cell_type": "code",
   "id": "51b4660c",
   "metadata": {
    "ExecuteTime": {
     "end_time": "2024-09-23T16:15:45.119043Z",
     "start_time": "2024-09-23T16:15:45.106272Z"
    }
   },
   "source": [
    "torch.manual_seed(1729)\n",
    "random3 = torch.rand(2, 3)\n",
    "print(random3)"
   ],
   "outputs": [
    {
     "name": "stdout",
     "output_type": "stream",
     "text": [
      "tensor([[0.3126, 0.3791, 0.3087],\n",
      "        [0.0736, 0.4216, 0.0691]])\n"
     ]
    }
   ],
   "execution_count": 105
  },
  {
   "cell_type": "code",
   "id": "be5b23b9",
   "metadata": {
    "ExecuteTime": {
     "end_time": "2024-09-23T16:15:45.292567Z",
     "start_time": "2024-09-23T16:15:45.283051Z"
    }
   },
   "source": [
    "random4 = torch.rand(2, 3)\n",
    "print(random4)"
   ],
   "outputs": [
    {
     "name": "stdout",
     "output_type": "stream",
     "text": [
      "tensor([[0.2332, 0.4047, 0.2162],\n",
      "        [0.9927, 0.4128, 0.5938]])\n"
     ]
    }
   ],
   "execution_count": 106
  },
  {
   "cell_type": "code",
   "id": "38d910d8",
   "metadata": {
    "ExecuteTime": {
     "end_time": "2024-09-23T16:15:45.502030Z",
     "start_time": "2024-09-23T16:15:45.494854Z"
    }
   },
   "source": [
    "a = torch.ones((2, 3))\n",
    "print(a.dtype)"
   ],
   "outputs": [
    {
     "name": "stdout",
     "output_type": "stream",
     "text": [
      "torch.float32\n"
     ]
    }
   ],
   "execution_count": 107
  },
  {
   "cell_type": "code",
   "id": "b15b9d15",
   "metadata": {
    "ExecuteTime": {
     "end_time": "2024-09-23T16:15:45.640304Z",
     "start_time": "2024-09-23T16:15:45.632881Z"
    }
   },
   "source": [
    "b = torch.ones((2, 3), dtype=torch.int16)\n",
    "print(b)"
   ],
   "outputs": [
    {
     "name": "stdout",
     "output_type": "stream",
     "text": [
      "tensor([[1, 1, 1],\n",
      "        [1, 1, 1]], dtype=torch.int16)\n"
     ]
    }
   ],
   "execution_count": 108
  },
  {
   "cell_type": "code",
   "id": "827d60eb",
   "metadata": {
    "ExecuteTime": {
     "end_time": "2024-09-23T16:15:45.810037Z",
     "start_time": "2024-09-23T16:15:45.802889Z"
    }
   },
   "source": [
    "c = torch.rand((2, 3), dtype=torch.float64) * 20.\n",
    "print(c)"
   ],
   "outputs": [
    {
     "name": "stdout",
     "output_type": "stream",
     "text": [
      "tensor([[18.0429,  7.2532, 19.6519],\n",
      "        [10.8626,  2.1505, 19.6913]], dtype=torch.float64)\n"
     ]
    }
   ],
   "execution_count": 109
  },
  {
   "cell_type": "code",
   "id": "2671cf93",
   "metadata": {
    "ExecuteTime": {
     "end_time": "2024-09-23T16:15:46.048631Z",
     "start_time": "2024-09-23T16:15:46.041436Z"
    }
   },
   "source": [
    "d = b.to(torch.int32)\n",
    "print(d)"
   ],
   "outputs": [
    {
     "name": "stdout",
     "output_type": "stream",
     "text": [
      "tensor([[1, 1, 1],\n",
      "        [1, 1, 1]], dtype=torch.int32)\n"
     ]
    }
   ],
   "execution_count": 110
  },
  {
   "cell_type": "code",
   "id": "0a9f83b2",
   "metadata": {
    "ExecuteTime": {
     "end_time": "2024-09-23T16:15:46.199876Z",
     "start_time": "2024-09-23T16:15:46.190932Z"
    }
   },
   "source": [
    "double_d = torch.ones(10, 2, dtype=torch.double)\n",
    "short_e = torch.tensor([[1, 2]], dtype=torch.short)\n",
    "double_d = torch.zeros(10, 2).double()\n",
    "short_e = torch.ones(10, 2).short()\n",
    "double_d = torch.zeros(10, 2).to(torch.double)\n",
    "short_e = torch.ones(10, 2).to(dtype=torch.short)\n",
    "double_d = torch.zeros(10, 2).type(torch.double)\n",
    "short_e = torch.ones(10, 2). type(dtype=torch.short)\n",
    "print(double_d.dtype)\n",
    "print(short_e.dtype)\n",
    "\n",
    "double_f = torch.rand(5, dtype=torch.double)\n",
    "short_g = double_f.to(torch.short)\n",
    "print((double_f * short_g).dtype)"
   ],
   "outputs": [],
   "execution_count": 111
  },
  {
   "cell_type": "code",
   "id": "7268fee0",
   "metadata": {
    "ExecuteTime": {
     "end_time": "2024-09-23T16:15:46.971893Z",
     "start_time": "2024-09-23T16:15:46.955953Z"
    }
   },
   "source": [
    "t1 = torch.ones(size=(2, 3))\n",
    "t2 = torch.ones(size=(2, 3))\n",
    "t3 = torch.add(t1, t2)\n",
    "t4 = t1 + t2\n",
    "print(t3)\n",
    "print(t4)\n",
    "print(\"#\" * 30)"
   ],
   "outputs": [
    {
     "name": "stdout",
     "output_type": "stream",
     "text": [
      "tensor([[2., 2., 2.],\n",
      "        [2., 2., 2.]])\n",
      "tensor([[2., 2., 2.],\n",
      "        [2., 2., 2.]])\n"
     ]
    }
   ],
   "execution_count": 117
  },
  {
   "metadata": {
    "ExecuteTime": {
     "end_time": "2024-09-23T16:15:47.481294Z",
     "start_time": "2024-09-23T16:15:47.473194Z"
    }
   },
   "cell_type": "code",
   "outputs": [
    {
     "name": "stdout",
     "output_type": "stream",
     "text": [
      "tensor([[0., 0., 0.],\n",
      "        [0., 0., 0.]])\n",
      "tensor([[0., 0., 0.],\n",
      "        [0., 0., 0.]])\n"
     ]
    }
   ],
   "execution_count": 119,
   "source": [
    "t5 = torch.sub(t1, t2)\n",
    "t6 = t1 - t2\n",
    "print(t5)\n",
    "print(t6)"
   ],
   "id": "784df048"
  },
  {
   "cell_type": "code",
   "id": "1f893da9",
   "metadata": {
    "ExecuteTime": {
     "end_time": "2024-09-23T16:15:47.706986Z",
     "start_time": "2024-09-23T16:15:47.699830Z"
    }
   },
   "source": [
    "print(\"#\" * 30)"
   ],
   "outputs": [
    {
     "name": "stdout",
     "output_type": "stream",
     "text": [
      "##############################\n"
     ]
    }
   ],
   "execution_count": 120
  },
  {
   "cell_type": "code",
   "id": "1a7a234a",
   "metadata": {
    "ExecuteTime": {
     "end_time": "2024-09-23T16:15:47.865738Z",
     "start_time": "2024-09-23T16:15:47.854846Z"
    }
   },
   "source": [
    "t7 = torch.mul(t1, t2)\n",
    "t8 = t1 * t2\n",
    "print(t7)\n",
    "print(t8)"
   ],
   "outputs": [
    {
     "name": "stdout",
     "output_type": "stream",
     "text": [
      "tensor([[1., 1., 1.],\n",
      "        [1., 1., 1.]])\n",
      "tensor([[1., 1., 1.],\n",
      "        [1., 1., 1.]])\n"
     ]
    }
   ],
   "execution_count": 121
  },
  {
   "cell_type": "code",
   "id": "6439af1f",
   "metadata": {
    "ExecuteTime": {
     "end_time": "2024-09-23T16:15:48.084821Z",
     "start_time": "2024-09-23T16:15:48.078098Z"
    }
   },
   "source": [
    "print(\"#\" * 30)"
   ],
   "outputs": [
    {
     "name": "stdout",
     "output_type": "stream",
     "text": [
      "##############################\n"
     ]
    }
   ],
   "execution_count": 122
  },
  {
   "cell_type": "code",
   "id": "3155b9b6",
   "metadata": {
    "ExecuteTime": {
     "end_time": "2024-09-23T16:15:48.247660Z",
     "start_time": "2024-09-23T16:15:48.238332Z"
    }
   },
   "source": [
    "t9 = torch.div(t1, t2)\n",
    "t10 = t1 / t2\n",
    "print(t9)\n",
    "print(t10)"
   ],
   "outputs": [
    {
     "name": "stdout",
     "output_type": "stream",
     "text": [
      "tensor([[1., 1., 1.],\n",
      "        [1., 1., 1.]])\n",
      "tensor([[1., 1., 1.],\n",
      "        [1., 1., 1.]])\n"
     ]
    }
   ],
   "execution_count": 123
  },
  {
   "cell_type": "code",
   "id": "58fb4955",
   "metadata": {
    "ExecuteTime": {
     "end_time": "2024-09-23T16:15:48.414108Z",
     "start_time": "2024-09-23T16:15:48.405731Z"
    }
   },
   "source": [
    "t1 = torch.dot(\n",
    "  torch.tensor([2, 3]), torch.tensor([2, 1])\n",
    ")\n",
    "print(t1, t1.size())"
   ],
   "outputs": [
    {
     "name": "stdout",
     "output_type": "stream",
     "text": [
      "tensor(7) torch.Size([])\n"
     ]
    }
   ],
   "execution_count": 124
  },
  {
   "cell_type": "code",
   "id": "23bb850d",
   "metadata": {
    "ExecuteTime": {
     "end_time": "2024-09-23T16:15:48.543325Z",
     "start_time": "2024-09-23T16:15:48.535513Z"
    }
   },
   "source": [
    "t2 = torch.randn(2, 3)\n",
    "t3 = torch.randn(3, 2)\n",
    "t4 = torch.mm(t2, t3)\n",
    "print(t4, t4.size())"
   ],
   "outputs": [
    {
     "name": "stdout",
     "output_type": "stream",
     "text": [
      "tensor([[1.6750, 2.2840],\n",
      "        [0.0956, 1.0294]]) torch.Size([2, 2])\n"
     ]
    }
   ],
   "execution_count": 125
  },
  {
   "cell_type": "code",
   "id": "87f10438",
   "metadata": {
    "ExecuteTime": {
     "end_time": "2024-09-23T16:15:48.724661Z",
     "start_time": "2024-09-23T16:15:48.715939Z"
    }
   },
   "source": [
    "t5 = torch.randn(10, 3, 4)\n",
    "t6 = torch.randn(10, 4, 5)\n",
    "t7 = torch.bmm(t5, t6)\n",
    "print(t7.size())"
   ],
   "outputs": [
    {
     "name": "stdout",
     "output_type": "stream",
     "text": [
      "torch.Size([10, 3, 5])\n"
     ]
    }
   ],
   "execution_count": 126
  },
  {
   "cell_type": "code",
   "id": "50be4671",
   "metadata": {
    "ExecuteTime": {
     "end_time": "2024-09-23T16:15:48.899202Z",
     "start_time": "2024-09-23T16:15:48.889406Z"
    }
   },
   "source": [
    "# vector x vector: dot product\n",
    "t1 = torch.randn(3)\n",
    "t2 = torch.randn(3)\n",
    "print(torch.matmul(t1, t2).size())  # torch.Size([])"
   ],
   "outputs": [
    {
     "name": "stdout",
     "output_type": "stream",
     "text": [
      "torch.Size([])\n"
     ]
    }
   ],
   "execution_count": 127
  },
  {
   "cell_type": "code",
   "id": "0167e556",
   "metadata": {
    "ExecuteTime": {
     "end_time": "2024-09-23T16:15:49.067695Z",
     "start_time": "2024-09-23T16:15:49.057470Z"
    }
   },
   "source": [
    "# matrix x vector: broadcasted dot\n",
    "t3 = torch.randn(3, 4)\n",
    "t4 = torch.randn(4)\n",
    "print(torch.matmul(t3, t4).size())  # torch.Size([3])"
   ],
   "outputs": [
    {
     "name": "stdout",
     "output_type": "stream",
     "text": [
      "torch.Size([3])\n"
     ]
    }
   ],
   "execution_count": 128
  },
  {
   "cell_type": "code",
   "id": "a23f9965",
   "metadata": {
    "ExecuteTime": {
     "end_time": "2024-09-23T16:15:49.257556Z",
     "start_time": "2024-09-23T16:15:49.248015Z"
    }
   },
   "source": [
    "# batched matrix x vector: broadcasted dot\n",
    "t5 = torch.randn(10, 3, 4)\n",
    "t6 = torch.randn(4)\n",
    "print(torch.matmul(t5, t6).size())  # torch.Size([10, 3])"
   ],
   "outputs": [
    {
     "name": "stdout",
     "output_type": "stream",
     "text": [
      "torch.Size([10, 3])\n"
     ]
    }
   ],
   "execution_count": 129
  },
  {
   "cell_type": "code",
   "id": "53fe2d49",
   "metadata": {
    "ExecuteTime": {
     "end_time": "2024-09-23T16:15:49.455910Z",
     "start_time": "2024-09-23T16:15:49.447078Z"
    }
   },
   "source": [
    "# batched matrix x batched matrix: bmm\n",
    "t7 = torch.randn(10, 3, 4)\n",
    "t8 = torch.randn(10, 4, 5)\n",
    "print(torch.matmul(t7, t8).size())  # torch.Size([10, 3, 5])"
   ],
   "outputs": [
    {
     "name": "stdout",
     "output_type": "stream",
     "text": [
      "torch.Size([10, 3, 5])\n"
     ]
    }
   ],
   "execution_count": 130
  },
  {
   "cell_type": "code",
   "id": "65f51b9a",
   "metadata": {
    "ExecuteTime": {
     "end_time": "2024-09-23T16:15:49.673126Z",
     "start_time": "2024-09-23T16:15:49.662838Z"
    }
   },
   "source": [
    "# batched matrix x matrix: bmm\n",
    "t9 = torch.randn(10, 3, 4)\n",
    "t10 = torch.randn(4, 5)\n",
    "print(torch.matmul(t9, t10).size())  # torch.Size([10, 3, 5])"
   ],
   "outputs": [
    {
     "name": "stdout",
     "output_type": "stream",
     "text": [
      "torch.Size([10, 3, 5])\n"
     ]
    }
   ],
   "execution_count": 131
  },
  {
   "cell_type": "code",
   "id": "658f7f48",
   "metadata": {
    "ExecuteTime": {
     "end_time": "2024-09-23T16:15:49.848557Z",
     "start_time": "2024-09-23T16:15:49.839136Z"
    }
   },
   "source": [
    "t1 = torch.tensor([1.0, 2.0, 3.0])\n",
    "t2 = 2.0\n",
    "print(t1 * t2)"
   ],
   "outputs": [
    {
     "name": "stdout",
     "output_type": "stream",
     "text": [
      "tensor([2., 4., 6.])\n"
     ]
    }
   ],
   "execution_count": 132
  },
  {
   "cell_type": "code",
   "id": "c55339be",
   "metadata": {
    "ExecuteTime": {
     "end_time": "2024-09-23T16:15:49.985209Z",
     "start_time": "2024-09-23T16:15:49.979415Z"
    }
   },
   "source": [
    "print(\"#\" * 50, 1)"
   ],
   "outputs": [
    {
     "name": "stdout",
     "output_type": "stream",
     "text": [
      "################################################## 1\n"
     ]
    }
   ],
   "execution_count": 133
  },
  {
   "cell_type": "code",
   "id": "a1b75caf",
   "metadata": {
    "ExecuteTime": {
     "end_time": "2024-09-23T16:15:50.171909Z",
     "start_time": "2024-09-23T16:15:50.161079Z"
    }
   },
   "source": [
    "t3 = torch.tensor([[0, 1], [2, 4], [10, 10]])\n",
    "t4 = torch.tensor([4, 5])\n",
    "print(t3 - t4)"
   ],
   "outputs": [
    {
     "name": "stdout",
     "output_type": "stream",
     "text": [
      "tensor([[-4, -4],\n",
      "        [-2, -1],\n",
      "        [ 6,  5]])\n"
     ]
    }
   ],
   "execution_count": 134
  },
  {
   "cell_type": "code",
   "id": "e4a6f0da",
   "metadata": {
    "ExecuteTime": {
     "end_time": "2024-09-23T16:15:50.381670Z",
     "start_time": "2024-09-23T16:15:50.373647Z"
    }
   },
   "source": [
    "print(\"#\" * 50, 2)"
   ],
   "outputs": [
    {
     "name": "stdout",
     "output_type": "stream",
     "text": [
      "################################################## 2\n"
     ]
    }
   ],
   "execution_count": 135
  },
  {
   "cell_type": "code",
   "id": "faffe0a4",
   "metadata": {
    "ExecuteTime": {
     "end_time": "2024-09-23T16:15:50.603845Z",
     "start_time": "2024-09-23T16:15:50.591206Z"
    }
   },
   "source": [
    "t5 = torch.tensor([[1., 2.], [3., 4.]])\n",
    "print(t5 + 2.0)  # t5.add(2.0)\n",
    "print(t5 - 2.0)  # t5.sub(2.0)\n",
    "print(t5 * 2.0)  # t5.mul(2.0)\n",
    "print(t5 / 2.0)  # t5.div(2.0)"
   ],
   "outputs": [
    {
     "name": "stdout",
     "output_type": "stream",
     "text": [
      "tensor([[3., 4.],\n",
      "        [5., 6.]])\n",
      "tensor([[-1.,  0.],\n",
      "        [ 1.,  2.]])\n",
      "tensor([[2., 4.],\n",
      "        [6., 8.]])\n",
      "tensor([[0.5000, 1.0000],\n",
      "        [1.5000, 2.0000]])\n"
     ]
    }
   ],
   "execution_count": 136
  },
  {
   "cell_type": "code",
   "id": "b83929ed",
   "metadata": {
    "ExecuteTime": {
     "end_time": "2024-09-23T16:15:50.736095Z",
     "start_time": "2024-09-23T16:15:50.730475Z"
    }
   },
   "source": [
    "print(\"#\" * 50, 3)"
   ],
   "outputs": [
    {
     "name": "stdout",
     "output_type": "stream",
     "text": [
      "################################################## 3\n"
     ]
    }
   ],
   "execution_count": 137
  },
  {
   "cell_type": "code",
   "id": "e3e0ab0e",
   "metadata": {
    "ExecuteTime": {
     "end_time": "2024-09-23T16:15:50.946084Z",
     "start_time": "2024-09-23T16:15:50.939638Z"
    }
   },
   "source": [
    "\n",
    "def normalize(x):\n",
    "  return x / 255"
   ],
   "outputs": [],
   "execution_count": 138
  },
  {
   "cell_type": "code",
   "id": "fee29007",
   "metadata": {
    "ExecuteTime": {
     "end_time": "2024-09-23T16:15:51.068867Z",
     "start_time": "2024-09-23T16:15:51.059632Z"
    }
   },
   "source": [
    "\n",
    "t6 = torch.randn(3, 28, 28)\n",
    "print(normalize(t6).size())"
   ],
   "outputs": [
    {
     "name": "stdout",
     "output_type": "stream",
     "text": [
      "torch.Size([3, 28, 28])\n"
     ]
    }
   ],
   "execution_count": 139
  },
  {
   "cell_type": "code",
   "id": "c83a0c5d",
   "metadata": {
    "ExecuteTime": {
     "end_time": "2024-09-23T16:15:51.183752Z",
     "start_time": "2024-09-23T16:15:51.178412Z"
    }
   },
   "source": [
    "print(\"#\" * 50, 4)"
   ],
   "outputs": [
    {
     "name": "stdout",
     "output_type": "stream",
     "text": [
      "################################################## 4\n"
     ]
    }
   ],
   "execution_count": 140
  },
  {
   "cell_type": "code",
   "id": "8e60c426",
   "metadata": {
    "ExecuteTime": {
     "end_time": "2024-09-23T16:15:51.314575Z",
     "start_time": "2024-09-23T16:15:51.303534Z"
    }
   },
   "source": [
    "t7 = torch.tensor([[1, 2], [0, 3]])  # torch.Size([2, 2])\n",
    "t8 = torch.tensor([[3, 1]])  # torch.Size([1, 2])\n",
    "t9 = torch.tensor([[5], [2]])  # torch.Size([2, 1])\n",
    "t10 = torch.tensor([7])  # torch.Size([1])\n",
    "print(t7 + t8)   # >>> tensor([[4, 3], [3, 4]])\n",
    "print(t7 + t9)   # >>> tensor([[6, 7], [2, 5]])\n",
    "print(t8 + t9)   # >>> tensor([[8, 6], [5, 3]])\n",
    "print(t7 + t10)  # >>> tensor([[ 8, 9], [ 7, 10]])"
   ],
   "outputs": [
    {
     "name": "stdout",
     "output_type": "stream",
     "text": [
      "tensor([[4, 3],\n",
      "        [3, 4]])\n",
      "tensor([[6, 7],\n",
      "        [2, 5]])\n",
      "tensor([[8, 6],\n",
      "        [5, 3]])\n",
      "tensor([[ 8,  9],\n",
      "        [ 7, 10]])\n"
     ]
    }
   ],
   "execution_count": 141
  },
  {
   "cell_type": "code",
   "id": "cc134092",
   "metadata": {
    "ExecuteTime": {
     "end_time": "2024-09-23T16:15:51.546407Z",
     "start_time": "2024-09-23T16:15:51.540521Z"
    }
   },
   "source": [
    "print(\"#\" * 50, 5)"
   ],
   "outputs": [
    {
     "name": "stdout",
     "output_type": "stream",
     "text": [
      "################################################## 5\n"
     ]
    }
   ],
   "execution_count": 142
  },
  {
   "cell_type": "code",
   "id": "d4e1e04a",
   "metadata": {
    "ExecuteTime": {
     "end_time": "2024-09-23T16:15:51.708416Z",
     "start_time": "2024-09-23T16:15:51.701961Z"
    }
   },
   "source": [
    "t11 = torch.ones(4, 3, 2)\n",
    "t12 = t11 * torch.rand(3, 2)  # 3rd & 2nd dims identical to t11, dim 0 absent\n",
    "print(t12.shape)"
   ],
   "outputs": [
    {
     "name": "stdout",
     "output_type": "stream",
     "text": [
      "torch.Size([4, 3, 2])\n"
     ]
    }
   ],
   "execution_count": 143
  },
  {
   "cell_type": "code",
   "id": "92c74252",
   "metadata": {
    "ExecuteTime": {
     "end_time": "2024-09-23T16:15:51.854821Z",
     "start_time": "2024-09-23T16:15:51.845817Z"
    }
   },
   "source": [
    "t13 = torch.ones(4, 3, 2)\n",
    "t14 = t13 * torch.rand(3, 1)  # 3rd dim = 1, 2nd dim is identical to t13\n",
    "print(t14.shape)"
   ],
   "outputs": [
    {
     "name": "stdout",
     "output_type": "stream",
     "text": [
      "torch.Size([4, 3, 2])\n"
     ]
    }
   ],
   "execution_count": 144
  },
  {
   "cell_type": "code",
   "id": "ea5cfb2d",
   "metadata": {
    "ExecuteTime": {
     "end_time": "2024-09-23T16:15:51.994407Z",
     "start_time": "2024-09-23T16:15:51.987441Z"
    }
   },
   "source": [
    "t15 = torch.ones(4, 3, 2)\n",
    "t16 = t15 * torch.rand(1, 2)  # 3rd dim is identical to t15, 2nd dim is 1\n",
    "print(t16.shape)"
   ],
   "outputs": [
    {
     "name": "stdout",
     "output_type": "stream",
     "text": [
      "torch.Size([4, 3, 2])\n"
     ]
    }
   ],
   "execution_count": 145
  },
  {
   "cell_type": "code",
   "id": "f10741ad",
   "metadata": {
    "ExecuteTime": {
     "end_time": "2024-09-23T16:15:52.173482Z",
     "start_time": "2024-09-23T16:15:52.165860Z"
    }
   },
   "source": [
    "t17 = torch.ones(5, 3, 4, 1)\n",
    "t18 = torch.rand(3, 1, 1)  # 2nd dim is identical to t17, 3rd and 4th dims are 1\n",
    "print((t17 + t18).size())"
   ],
   "outputs": [
    {
     "name": "stdout",
     "output_type": "stream",
     "text": [
      "torch.Size([5, 3, 4, 1])\n"
     ]
    }
   ],
   "execution_count": 146
  },
  {
   "cell_type": "code",
   "id": "ee4e4ecd",
   "metadata": {
    "ExecuteTime": {
     "end_time": "2024-09-23T16:15:52.333072Z",
     "start_time": "2024-09-23T16:15:52.327647Z"
    }
   },
   "source": [
    "print(\"#\" * 50, 6)"
   ],
   "outputs": [
    {
     "name": "stdout",
     "output_type": "stream",
     "text": [
      "################################################## 6\n"
     ]
    }
   ],
   "execution_count": 147
  },
  {
   "cell_type": "code",
   "id": "70dd6763",
   "metadata": {
    "ExecuteTime": {
     "end_time": "2024-09-23T16:15:52.500984Z",
     "start_time": "2024-09-23T16:15:52.493453Z"
    }
   },
   "source": [
    "t19 = torch.empty(5, 1, 4, 1)\n",
    "t20 = torch.empty(3, 1, 1)\n",
    "print((t19 + t20).size())  # torch.Size([5, 3, 4, 1])"
   ],
   "outputs": [
    {
     "name": "stdout",
     "output_type": "stream",
     "text": [
      "torch.Size([5, 3, 4, 1])\n"
     ]
    }
   ],
   "execution_count": 148
  },
  {
   "cell_type": "code",
   "id": "d28d3d29",
   "metadata": {
    "ExecuteTime": {
     "end_time": "2024-09-23T16:15:52.693828Z",
     "start_time": "2024-09-23T16:15:52.687712Z"
    }
   },
   "source": [
    "t21 = torch.empty(1)\n",
    "t22 = torch.empty(3, 1, 7)\n",
    "print((t21 + t22).size())  # torch.Size([3, 1, 7])"
   ],
   "outputs": [
    {
     "name": "stdout",
     "output_type": "stream",
     "text": [
      "torch.Size([3, 1, 7])\n"
     ]
    }
   ],
   "execution_count": 149
  },
  {
   "cell_type": "code",
   "id": "33dc20f2",
   "metadata": {
    "ExecuteTime": {
     "end_time": "2024-09-23T16:15:52.835813Z",
     "start_time": "2024-09-23T16:15:52.829070Z"
    }
   },
   "source": [
    "t23 = torch.ones(3, 3, 3)\n",
    "t24 = torch.ones(3, 1, 3)\n",
    "print((t23 + t24).size())  # torch.Size([3, 3, 3])"
   ],
   "outputs": [
    {
     "name": "stdout",
     "output_type": "stream",
     "text": [
      "torch.Size([3, 3, 3])\n"
     ]
    }
   ],
   "execution_count": 150
  },
  {
   "cell_type": "code",
   "id": "42785070",
   "metadata": {
    "ExecuteTime": {
     "end_time": "2024-09-23T16:15:53.000437Z",
     "start_time": "2024-09-23T16:15:52.995318Z"
    }
   },
   "source": [
    "# t25 = torch.empty(5, 2, 4, 1)\n",
    "# t26 = torch.empty(3, 1, 1)\n",
    "# print((t25 + t26).size())\n",
    "# RuntimeError: The size of tensor a (2) must match\n",
    "# the size of tensor b (3) at non-singleton dimension 1"
   ],
   "outputs": [],
   "execution_count": 151
  },
  {
   "cell_type": "code",
   "id": "40621881",
   "metadata": {
    "ExecuteTime": {
     "end_time": "2024-09-23T16:15:53.102210Z",
     "start_time": "2024-09-23T16:15:53.096460Z"
    }
   },
   "source": [
    "print(\"#\" * 50, 7)"
   ],
   "outputs": [
    {
     "name": "stdout",
     "output_type": "stream",
     "text": [
      "################################################## 7\n"
     ]
    }
   ],
   "execution_count": 152
  },
  {
   "cell_type": "code",
   "id": "f05cab46",
   "metadata": {
    "ExecuteTime": {
     "end_time": "2024-09-23T16:15:53.215724Z",
     "start_time": "2024-09-23T16:15:53.207428Z"
    }
   },
   "source": [
    "t27 = torch.ones(4) * 5\n",
    "print(t27)  # >>> tensor([ 5, 5, 5, 5])"
   ],
   "outputs": [
    {
     "name": "stdout",
     "output_type": "stream",
     "text": [
      "tensor([5., 5., 5., 5.])\n"
     ]
    }
   ],
   "execution_count": 153
  },
  {
   "cell_type": "code",
   "id": "1556c87e",
   "metadata": {
    "ExecuteTime": {
     "end_time": "2024-09-23T16:15:53.492183Z",
     "start_time": "2024-09-23T16:15:53.482759Z"
    }
   },
   "source": [
    "t28 = torch.pow(t27, 2)\n",
    "print(t28)  # >>> tensor([ 25, 25, 25, 25])"
   ],
   "outputs": [
    {
     "name": "stdout",
     "output_type": "stream",
     "text": [
      "tensor([25., 25., 25., 25.])\n"
     ]
    }
   ],
   "execution_count": 154
  },
  {
   "cell_type": "code",
   "id": "a1b5e41b",
   "metadata": {
    "ExecuteTime": {
     "end_time": "2024-09-23T16:15:53.699685Z",
     "start_time": "2024-09-23T16:15:53.688038Z"
    }
   },
   "source": [
    "exp = torch.arange(1., 5.)  # tensor([ 1.,  2.,  3.,  4.])\n",
    "a = torch.arange(1., 5.)  # tensor([ 1.,  2.,  3.,  4.])\n",
    "t29 = torch.pow(a, exp)\n",
    "print(t29)  # >>> tensor([   1.,    4.,   27.,  256.])"
   ],
   "outputs": [
    {
     "name": "stdout",
     "output_type": "stream",
     "text": [
      "tensor([  1.,   4.,  27., 256.])\n"
     ]
    }
   ],
   "execution_count": 155
  },
  {
   "cell_type": "code",
   "id": "9b3362f1",
   "metadata": {
    "ExecuteTime": {
     "end_time": "2024-09-23T16:15:53.921143Z",
     "start_time": "2024-09-23T16:15:53.914709Z"
    }
   },
   "source": [
    "x = torch.tensor(\n",
    "  [[0, 1, 2, 3, 4],\n",
    "   [5, 6, 7, 8, 9],\n",
    "   [10, 11, 12, 13, 14]]\n",
    ")"
   ],
   "outputs": [],
   "execution_count": 156
  },
  {
   "cell_type": "code",
   "id": "6c4eee5e",
   "metadata": {
    "ExecuteTime": {
     "end_time": "2024-09-23T16:15:54.086223Z",
     "start_time": "2024-09-23T16:15:54.074429Z"
    }
   },
   "source": [
    "print(x[1])  # >>> tensor([5, 6, 7, 8, 9])\n",
    "print(x[:, 1])  # >>> tensor([1, 6, 11])\n",
    "print(x[1, 2])  # >>> tensor(7)\n",
    "print(x[:, -1])  # >>> tensor([4, 9, 14)"
   ],
   "outputs": [
    {
     "name": "stdout",
     "output_type": "stream",
     "text": [
      "tensor([5, 6, 7, 8, 9])\n",
      "tensor([ 1,  6, 11])\n",
      "tensor(7)\n",
      "tensor([ 4,  9, 14])\n"
     ]
    }
   ],
   "execution_count": 157
  },
  {
   "cell_type": "code",
   "id": "c7aeae01",
   "metadata": {
    "ExecuteTime": {
     "end_time": "2024-09-23T16:15:54.227960Z",
     "start_time": "2024-09-23T16:15:54.220295Z"
    }
   },
   "source": [
    "print(\"#\" * 50, 1)"
   ],
   "outputs": [
    {
     "name": "stdout",
     "output_type": "stream",
     "text": [
      "################################################## 1\n"
     ]
    }
   ],
   "execution_count": 158
  },
  {
   "cell_type": "code",
   "id": "cf5fadd0",
   "metadata": {
    "ExecuteTime": {
     "end_time": "2024-09-23T16:15:54.390419Z",
     "start_time": "2024-09-23T16:15:54.382059Z"
    }
   },
   "source": [
    "print(x[1:])  # >>> tensor([[ 5,  6,  7,  8,  9], [10, 11, 12, 13, 14]])\n",
    "print(x[1:, 3:])  # >>> tensor([[ 8,  9], [13, 14]])"
   ],
   "outputs": [
    {
     "name": "stdout",
     "output_type": "stream",
     "text": [
      "tensor([[ 5,  6,  7,  8,  9],\n",
      "        [10, 11, 12, 13, 14]])\n",
      "tensor([[ 8,  9],\n",
      "        [13, 14]])\n"
     ]
    }
   ],
   "execution_count": 159
  },
  {
   "cell_type": "code",
   "id": "2d49a7a2",
   "metadata": {
    "ExecuteTime": {
     "end_time": "2024-09-23T16:15:54.566400Z",
     "start_time": "2024-09-23T16:15:54.560974Z"
    }
   },
   "source": [
    "print(\"#\" * 50, 2)"
   ],
   "outputs": [
    {
     "name": "stdout",
     "output_type": "stream",
     "text": [
      "################################################## 2\n"
     ]
    }
   ],
   "execution_count": 160
  },
  {
   "cell_type": "code",
   "id": "4d235ed5",
   "metadata": {
    "ExecuteTime": {
     "end_time": "2024-09-23T16:15:54.725195Z",
     "start_time": "2024-09-23T16:15:54.716016Z"
    }
   },
   "source": [
    "y = torch.zeros((6, 6))\n",
    "y[1:4, 2] = 1\n",
    "print(y)"
   ],
   "outputs": [
    {
     "name": "stdout",
     "output_type": "stream",
     "text": [
      "tensor([[0., 0., 0., 0., 0., 0.],\n",
      "        [0., 0., 1., 0., 0., 0.],\n",
      "        [0., 0., 1., 0., 0., 0.],\n",
      "        [0., 0., 1., 0., 0., 0.],\n",
      "        [0., 0., 0., 0., 0., 0.],\n",
      "        [0., 0., 0., 0., 0., 0.]])\n"
     ]
    }
   ],
   "execution_count": 161
  },
  {
   "cell_type": "code",
   "id": "3b872572",
   "metadata": {
    "ExecuteTime": {
     "end_time": "2024-09-23T16:15:54.867756Z",
     "start_time": "2024-09-23T16:15:54.859261Z"
    }
   },
   "source": [
    "print(y[1:4, 1:4])"
   ],
   "outputs": [
    {
     "name": "stdout",
     "output_type": "stream",
     "text": [
      "tensor([[0., 1., 0.],\n",
      "        [0., 1., 0.],\n",
      "        [0., 1., 0.]])\n"
     ]
    }
   ],
   "execution_count": 162
  },
  {
   "cell_type": "code",
   "id": "77af4348",
   "metadata": {
    "ExecuteTime": {
     "end_time": "2024-09-23T16:15:55.004795Z",
     "start_time": "2024-09-23T16:15:54.998103Z"
    }
   },
   "source": [
    "print(\"#\" * 50, 3)"
   ],
   "outputs": [
    {
     "name": "stdout",
     "output_type": "stream",
     "text": [
      "################################################## 3\n"
     ]
    }
   ],
   "execution_count": 163
  },
  {
   "cell_type": "code",
   "id": "da925707",
   "metadata": {
    "ExecuteTime": {
     "end_time": "2024-09-23T16:15:55.162838Z",
     "start_time": "2024-09-23T16:15:55.152943Z"
    }
   },
   "source": [
    "z = torch.tensor(\n",
    "  [[1, 2, 3, 4],\n",
    "   [2, 3, 4, 5],\n",
    "   [5, 6, 7, 8]]\n",
    ")\n",
    "print(z[:2])\n",
    "print(z[1:, 1:3])\n",
    "print(z[:, 1:])"
   ],
   "outputs": [
    {
     "name": "stdout",
     "output_type": "stream",
     "text": [
      "tensor([[1, 2, 3, 4],\n",
      "        [2, 3, 4, 5]])\n",
      "tensor([[3, 4],\n",
      "        [6, 7]])\n",
      "tensor([[2, 3, 4],\n",
      "        [3, 4, 5],\n",
      "        [6, 7, 8]])\n"
     ]
    }
   ],
   "execution_count": 164
  },
  {
   "cell_type": "code",
   "id": "72b069db",
   "metadata": {
    "ExecuteTime": {
     "end_time": "2024-09-23T16:15:55.301805Z",
     "start_time": "2024-09-23T16:15:55.295991Z"
    }
   },
   "source": [
    "z[1:, 1:3] = 0\n",
    "print(z)"
   ],
   "outputs": [
    {
     "name": "stdout",
     "output_type": "stream",
     "text": [
      "tensor([[1, 2, 3, 4],\n",
      "        [2, 0, 0, 5],\n",
      "        [5, 0, 0, 8]])\n"
     ]
    }
   ],
   "execution_count": 165
  },
  {
   "cell_type": "code",
   "id": "6c0f2cd8",
   "metadata": {
    "ExecuteTime": {
     "end_time": "2024-09-23T16:15:55.451244Z",
     "start_time": "2024-09-23T16:15:55.443649Z"
    }
   },
   "source": [
    "t1 = torch.tensor([[1, 2, 3], [4, 5, 6]])\n",
    "t2 = t1.view(3, 2)  # Shape becomes (3, 2)\n",
    "t3 = t1.reshape(1, 6)  # Shape becomes (1, 6)\n",
    "print(t2)\n",
    "print(t3)"
   ],
   "outputs": [
    {
     "name": "stdout",
     "output_type": "stream",
     "text": [
      "tensor([[1, 2],\n",
      "        [3, 4],\n",
      "        [5, 6]])\n",
      "tensor([[1, 2, 3, 4, 5, 6]])\n"
     ]
    }
   ],
   "execution_count": 166
  },
  {
   "cell_type": "code",
   "id": "c6936f55",
   "metadata": {
    "ExecuteTime": {
     "end_time": "2024-09-23T16:15:55.634497Z",
     "start_time": "2024-09-23T16:15:55.625524Z"
    }
   },
   "source": [
    "t4 = torch.arange(8).view(2, 4)  # Shape becomes (2, 4)\n",
    "t5 = torch.arange(6).view(2, 3)  # Shape becomes (2, 3)\n",
    "print(t4)\n",
    "print(t5)"
   ],
   "outputs": [
    {
     "name": "stdout",
     "output_type": "stream",
     "text": [
      "tensor([[0, 1, 2, 3],\n",
      "        [4, 5, 6, 7]])\n",
      "tensor([[0, 1, 2],\n",
      "        [3, 4, 5]])\n"
     ]
    }
   ],
   "execution_count": 167
  },
  {
   "cell_type": "code",
   "id": "ac572292",
   "metadata": {
    "ExecuteTime": {
     "end_time": "2024-09-23T16:15:55.763957Z",
     "start_time": "2024-09-23T16:15:55.758312Z"
    }
   },
   "source": [
    "print(\"#\" * 50, 1)"
   ],
   "outputs": [
    {
     "name": "stdout",
     "output_type": "stream",
     "text": [
      "################################################## 1\n"
     ]
    }
   ],
   "execution_count": 168
  },
  {
   "cell_type": "code",
   "id": "cfcdb93f",
   "metadata": {
    "ExecuteTime": {
     "end_time": "2024-09-23T16:15:55.956910Z",
     "start_time": "2024-09-23T16:15:55.951477Z"
    }
   },
   "source": [
    "# Original tensor with shape (1, 3, 1)\n",
    "t6 = torch.tensor([[[1], [2], [3]]])"
   ],
   "outputs": [],
   "execution_count": 169
  },
  {
   "cell_type": "code",
   "id": "bcd3555d",
   "metadata": {
    "ExecuteTime": {
     "end_time": "2024-09-23T16:15:56.118476Z",
     "start_time": "2024-09-23T16:15:56.112746Z"
    }
   },
   "source": [
    "# Remove all dimensions of size 1\n",
    "t7 = t6.squeeze()  # Shape becomes (3,)"
   ],
   "outputs": [],
   "execution_count": 170
  },
  {
   "cell_type": "code",
   "id": "810727a5",
   "metadata": {
    "ExecuteTime": {
     "end_time": "2024-09-23T16:15:56.238329Z",
     "start_time": "2024-09-23T16:15:56.227121Z"
    }
   },
   "source": [
    "# Remove dimension at position 0\n",
    "t8 = t6.squeeze(0)  # Shape becomes (3, 1)\n",
    "print(t7)\n",
    "print(t8)"
   ],
   "outputs": [
    {
     "name": "stdout",
     "output_type": "stream",
     "text": [
      "tensor([1, 2, 3])\n",
      "tensor([[1],\n",
      "        [2],\n",
      "        [3]])\n"
     ]
    }
   ],
   "execution_count": 171
  },
  {
   "cell_type": "code",
   "id": "21d40047",
   "metadata": {
    "ExecuteTime": {
     "end_time": "2024-09-23T16:15:56.368251Z",
     "start_time": "2024-09-23T16:15:56.362769Z"
    }
   },
   "source": [
    "print(\"#\" * 50, 2)"
   ],
   "outputs": [
    {
     "name": "stdout",
     "output_type": "stream",
     "text": [
      "################################################## 2\n"
     ]
    }
   ],
   "execution_count": 172
  },
  {
   "cell_type": "code",
   "id": "5eb321f2",
   "metadata": {
    "ExecuteTime": {
     "end_time": "2024-09-23T16:15:56.549226Z",
     "start_time": "2024-09-23T16:15:56.543623Z"
    }
   },
   "source": [
    "# Original tensor with shape (3,)\n",
    "t9 = torch.tensor([1, 2, 3])"
   ],
   "outputs": [],
   "execution_count": 173
  },
  {
   "cell_type": "code",
   "id": "bc86306a",
   "metadata": {
    "ExecuteTime": {
     "end_time": "2024-09-23T16:15:56.756123Z",
     "start_time": "2024-09-23T16:15:56.745348Z"
    }
   },
   "source": [
    "# Add a new dimension at position 1\n",
    "t10 = t9.unsqueeze(1)  # Shape becomes (3, 1)\n",
    "print(t10)"
   ],
   "outputs": [
    {
     "name": "stdout",
     "output_type": "stream",
     "text": [
      "tensor([[1],\n",
      "        [2],\n",
      "        [3]])\n"
     ]
    }
   ],
   "execution_count": 174
  },
  {
   "cell_type": "code",
   "id": "d80a6549",
   "metadata": {
    "ExecuteTime": {
     "end_time": "2024-09-23T16:15:56.856947Z",
     "start_time": "2024-09-23T16:15:56.849979Z"
    }
   },
   "source": [
    "t11 = torch.tensor(\n",
    "  [[1, 2, 3],\n",
    "   [4, 5, 6]]\n",
    ")\n",
    "t12 = t11.unsqueeze(1)  # Shape becomes (2, 1, 3)\n",
    "print(t12, t12.shape)"
   ],
   "outputs": [
    {
     "name": "stdout",
     "output_type": "stream",
     "text": [
      "tensor([[[1, 2, 3]],\n",
      "\n",
      "        [[4, 5, 6]]]) torch.Size([2, 1, 3])\n"
     ]
    }
   ],
   "execution_count": 175
  },
  {
   "cell_type": "code",
   "id": "7566dbce",
   "metadata": {
    "ExecuteTime": {
     "end_time": "2024-09-23T16:15:57.057226Z",
     "start_time": "2024-09-23T16:15:57.051248Z"
    }
   },
   "source": [
    "print(\"#\" * 50, 3)"
   ],
   "outputs": [
    {
     "name": "stdout",
     "output_type": "stream",
     "text": [
      "################################################## 3\n"
     ]
    }
   ],
   "execution_count": 176
  },
  {
   "cell_type": "code",
   "id": "3c13fb73",
   "metadata": {
    "ExecuteTime": {
     "end_time": "2024-09-23T16:15:57.243584Z",
     "start_time": "2024-09-23T16:15:57.236297Z"
    }
   },
   "source": [
    "# Original tensor with shape (2, 3)\n",
    "t13 = torch.tensor([[1, 2, 3], [4, 5, 6]])"
   ],
   "outputs": [],
   "execution_count": 177
  },
  {
   "cell_type": "code",
   "id": "39f566c7",
   "metadata": {
    "ExecuteTime": {
     "end_time": "2024-09-23T16:15:57.339Z",
     "start_time": "2024-09-23T16:15:57.333921Z"
    }
   },
   "source": [
    "# Flatten the tensor\n",
    "t14 = t13.flatten()  # Shape becomes (6,)"
   ],
   "outputs": [],
   "execution_count": 178
  },
  {
   "cell_type": "code",
   "id": "a99d01ce",
   "metadata": {
    "ExecuteTime": {
     "end_time": "2024-09-23T16:15:57.443509Z",
     "start_time": "2024-09-23T16:15:57.436999Z"
    }
   },
   "source": [
    "print(t14)"
   ],
   "outputs": [
    {
     "name": "stdout",
     "output_type": "stream",
     "text": [
      "tensor([1, 2, 3, 4, 5, 6])\n"
     ]
    }
   ],
   "execution_count": 179
  },
  {
   "cell_type": "code",
   "id": "75bb0d6b",
   "metadata": {
    "ExecuteTime": {
     "end_time": "2024-09-23T16:15:57.547674Z",
     "start_time": "2024-09-23T16:15:57.541195Z"
    }
   },
   "source": [
    "# Original tensor with shape (2, 2, 2)\n",
    "t15 = torch.tensor([[[1, 2],\n",
    "                     [3, 4]],\n",
    "                    [[5, 6],\n",
    "                     [7, 8]]])\n",
    "t16 = torch.flatten(t15)"
   ],
   "outputs": [],
   "execution_count": 180
  },
  {
   "cell_type": "code",
   "id": "ec44e7b6",
   "metadata": {
    "ExecuteTime": {
     "end_time": "2024-09-23T16:15:57.686878Z",
     "start_time": "2024-09-23T16:15:57.680686Z"
    }
   },
   "source": [
    "t17 = torch.flatten(t15, start_dim=1)"
   ],
   "outputs": [],
   "execution_count": 181
  },
  {
   "cell_type": "code",
   "id": "21f2699c",
   "metadata": {
    "ExecuteTime": {
     "end_time": "2024-09-23T16:15:57.749895Z",
     "start_time": "2024-09-23T16:15:57.742597Z"
    }
   },
   "source": [
    "print(t16)\n",
    "print(t17)"
   ],
   "outputs": [
    {
     "name": "stdout",
     "output_type": "stream",
     "text": [
      "tensor([1, 2, 3, 4, 5, 6, 7, 8])\n",
      "tensor([[1, 2, 3, 4],\n",
      "        [5, 6, 7, 8]])\n"
     ]
    }
   ],
   "execution_count": 182
  },
  {
   "cell_type": "code",
   "id": "053d047b",
   "metadata": {
    "ExecuteTime": {
     "end_time": "2024-09-23T16:15:57.889188Z",
     "start_time": "2024-09-23T16:15:57.882715Z"
    }
   },
   "source": [
    "print(\"#\" * 50, 4)"
   ],
   "outputs": [
    {
     "name": "stdout",
     "output_type": "stream",
     "text": [
      "################################################## 4\n"
     ]
    }
   ],
   "execution_count": 183
  },
  {
   "cell_type": "code",
   "id": "f884e94e",
   "metadata": {
    "ExecuteTime": {
     "end_time": "2024-09-23T16:15:58.023224Z",
     "start_time": "2024-09-23T16:15:58.017291Z"
    }
   },
   "source": [
    "t18 = torch.randn(2, 3, 5)\n",
    "print(t18.shape)  # >>> torch.Size([2, 3, 5])\n",
    "print(torch.permute(t18, (2, 0, 1)).size())  # >>> torch.Size([5, 2, 3])"
   ],
   "outputs": [
    {
     "name": "stdout",
     "output_type": "stream",
     "text": [
      "torch.Size([2, 3, 5])\n",
      "torch.Size([5, 2, 3])\n"
     ]
    }
   ],
   "execution_count": 184
  },
  {
   "cell_type": "code",
   "id": "2924f453",
   "metadata": {
    "ExecuteTime": {
     "end_time": "2024-09-23T16:15:58.191372Z",
     "start_time": "2024-09-23T16:15:58.185151Z"
    }
   },
   "source": [
    "# Original tensor with shape (2, 3)\n",
    "t19 = torch.tensor([[1, 2, 3], [4, 5, 6]])"
   ],
   "outputs": [],
   "execution_count": 185
  },
  {
   "cell_type": "code",
   "id": "96e44ed4",
   "metadata": {
    "ExecuteTime": {
     "end_time": "2024-09-23T16:15:58.287072Z",
     "start_time": "2024-09-23T16:15:58.278768Z"
    }
   },
   "source": [
    "# Permute the dimensions\n",
    "t20 = torch.permute(t19, dims=(0, 1))  # Shape becomes (2, 3) still\n",
    "t21 = torch.permute(t19, dims=(1, 0))  # Shape becomes (3, 2)\n",
    "print(t20)\n",
    "print(t21)"
   ],
   "outputs": [
    {
     "name": "stdout",
     "output_type": "stream",
     "text": [
      "tensor([[1, 2, 3],\n",
      "        [4, 5, 6]])\n",
      "tensor([[1, 4],\n",
      "        [2, 5],\n",
      "        [3, 6]])\n"
     ]
    }
   ],
   "execution_count": 186
  },
  {
   "cell_type": "code",
   "id": "fa3382aa",
   "metadata": {
    "ExecuteTime": {
     "end_time": "2024-09-23T16:15:58.415722Z",
     "start_time": "2024-09-23T16:15:58.410257Z"
    }
   },
   "source": [
    "# Transpose the tensor\n",
    "t22 = torch.transpose(t19, 0, 1)  # Shape becomes (3, 2)"
   ],
   "outputs": [],
   "execution_count": 187
  },
  {
   "cell_type": "code",
   "id": "bcf21bac",
   "metadata": {
    "ExecuteTime": {
     "end_time": "2024-09-23T16:15:58.561799Z",
     "start_time": "2024-09-23T16:15:58.553651Z"
    }
   },
   "source": [
    "print(t22)"
   ],
   "outputs": [
    {
     "name": "stdout",
     "output_type": "stream",
     "text": [
      "tensor([[1, 4],\n",
      "        [2, 5],\n",
      "        [3, 6]])\n"
     ]
    }
   ],
   "execution_count": 188
  },
  {
   "cell_type": "code",
   "id": "dd298317",
   "metadata": {
    "ExecuteTime": {
     "end_time": "2024-09-23T16:15:58.662862Z",
     "start_time": "2024-09-23T16:15:58.658309Z"
    }
   },
   "source": [
    "t23 = torch.t(t19)  # Shape becomes (3, 2)"
   ],
   "outputs": [],
   "execution_count": 189
  },
  {
   "cell_type": "code",
   "id": "bca20533",
   "metadata": {
    "ExecuteTime": {
     "end_time": "2024-09-23T16:15:58.809177Z",
     "start_time": "2024-09-23T16:15:58.801656Z"
    }
   },
   "source": [
    "print(t23)"
   ],
   "outputs": [
    {
     "name": "stdout",
     "output_type": "stream",
     "text": [
      "tensor([[1, 4],\n",
      "        [2, 5],\n",
      "        [3, 6]])\n"
     ]
    }
   ],
   "execution_count": 190
  },
  {
   "cell_type": "code",
   "id": "31b9cd66",
   "metadata": {
    "ExecuteTime": {
     "end_time": "2024-09-23T16:15:58.911560Z",
     "start_time": "2024-09-23T16:15:58.905453Z"
    }
   },
   "source": [
    "t1 = torch.zeros([2, 1, 3])\n",
    "t2 = torch.zeros([2, 3, 3])\n",
    "t3 = torch.zeros([2, 2, 3])"
   ],
   "outputs": [],
   "execution_count": 191
  },
  {
   "cell_type": "code",
   "id": "4e31c9df",
   "metadata": {
    "ExecuteTime": {
     "end_time": "2024-09-23T16:15:59.013098Z",
     "start_time": "2024-09-23T16:15:59.006252Z"
    }
   },
   "source": [
    "t4 = torch.cat([t1, t2, t3], dim=1)\n",
    "print(t4.shape)"
   ],
   "outputs": [
    {
     "name": "stdout",
     "output_type": "stream",
     "text": [
      "torch.Size([2, 6, 3])\n"
     ]
    }
   ],
   "execution_count": 192
  },
  {
   "cell_type": "code",
   "id": "bc0f9b4f",
   "metadata": {
    "ExecuteTime": {
     "end_time": "2024-09-23T16:15:59.224903Z",
     "start_time": "2024-09-23T16:15:59.216038Z"
    }
   },
   "source": [
    "print(\"#\" * 50, 1)"
   ],
   "outputs": [
    {
     "name": "stdout",
     "output_type": "stream",
     "text": [
      "################################################## 1\n"
     ]
    }
   ],
   "execution_count": 193
  },
  {
   "cell_type": "code",
   "id": "3f1df51b",
   "metadata": {
    "ExecuteTime": {
     "end_time": "2024-09-23T16:15:59.380906Z",
     "start_time": "2024-09-23T16:15:59.374957Z"
    }
   },
   "source": [
    "t5 = torch.arange(0, 3)  # tensor([0, 1, 2])\n",
    "t6 = torch.arange(3, 8)  # tensor([3, 4, 5, 6, 7])"
   ],
   "outputs": [],
   "execution_count": 194
  },
  {
   "cell_type": "code",
   "id": "e0a909f5",
   "metadata": {
    "ExecuteTime": {
     "end_time": "2024-09-23T16:15:59.501925Z",
     "start_time": "2024-09-23T16:15:59.493060Z"
    }
   },
   "source": [
    "t7 = torch.cat((t5, t6), dim=0)\n",
    "print(t7.shape)  # >>> torch.Size([8])\n",
    "print(t7)  # >>> tensor([0, 1, 2, 3, 4, 5, 6, 7])"
   ],
   "outputs": [
    {
     "name": "stdout",
     "output_type": "stream",
     "text": [
      "torch.Size([8])\n",
      "tensor([0, 1, 2, 3, 4, 5, 6, 7])\n"
     ]
    }
   ],
   "execution_count": 195
  },
  {
   "cell_type": "code",
   "id": "e957881e",
   "metadata": {
    "ExecuteTime": {
     "end_time": "2024-09-23T16:15:59.628684Z",
     "start_time": "2024-09-23T16:15:59.622111Z"
    }
   },
   "source": [
    "print(\"#\" * 50, 2)"
   ],
   "outputs": [
    {
     "name": "stdout",
     "output_type": "stream",
     "text": [
      "################################################## 2\n"
     ]
    }
   ],
   "execution_count": 196
  },
  {
   "cell_type": "code",
   "id": "7c60709a",
   "metadata": {
    "ExecuteTime": {
     "end_time": "2024-09-23T16:15:59.890073Z",
     "start_time": "2024-09-23T16:15:59.884121Z"
    }
   },
   "source": [
    "t8 = torch.arange(0, 6).reshape(2, 3)  # torch.Size([2, 3])\n",
    "t9 = torch.arange(6, 12).reshape(2, 3)  # torch.Size([2, 3])"
   ],
   "outputs": [],
   "execution_count": 197
  },
  {
   "cell_type": "code",
   "id": "7b36e6a3",
   "metadata": {
    "ExecuteTime": {
     "end_time": "2024-09-23T16:16:00.043042Z",
     "start_time": "2024-09-23T16:16:00.032931Z"
    }
   },
   "source": [
    "# 2차원 텐서간 병합\n",
    "t10 = torch.cat((t8, t9), dim=0)\n",
    "print(t10.size())  # >>> torch.Size([4, 3])\n",
    "print(t10)\n",
    "# >>> tensor([[ 0,  1,  2],\n",
    "#             [ 3,  4,  5],\n",
    "#             [ 6,  7,  8],\n",
    "#             [ 9, 10, 11]])"
   ],
   "outputs": [
    {
     "name": "stdout",
     "output_type": "stream",
     "text": [
      "torch.Size([4, 3])\n",
      "tensor([[ 0,  1,  2],\n",
      "        [ 3,  4,  5],\n",
      "        [ 6,  7,  8],\n",
      "        [ 9, 10, 11]])\n"
     ]
    }
   ],
   "execution_count": 198
  },
  {
   "cell_type": "code",
   "id": "31fd5e3a",
   "metadata": {
    "ExecuteTime": {
     "end_time": "2024-09-23T16:16:00.220468Z",
     "start_time": "2024-09-23T16:16:00.211562Z"
    }
   },
   "source": [
    "t11 = torch.cat((t8, t9), dim=1)\n",
    "print(t11.size())  # >>>torch.Size([2, 6])\n",
    "print(t11)\n",
    "# >>> tensor([[ 0,  1,  2,  6,  7,  8],\n",
    "#             [ 3,  4,  5,  9, 10, 11]])"
   ],
   "outputs": [
    {
     "name": "stdout",
     "output_type": "stream",
     "text": [
      "torch.Size([2, 6])\n",
      "tensor([[ 0,  1,  2,  6,  7,  8],\n",
      "        [ 3,  4,  5,  9, 10, 11]])\n"
     ]
    }
   ],
   "execution_count": 199
  },
  {
   "cell_type": "code",
   "id": "dffa4164",
   "metadata": {
    "ExecuteTime": {
     "end_time": "2024-09-23T16:16:00.377578Z",
     "start_time": "2024-09-23T16:16:00.371128Z"
    }
   },
   "source": [
    "print(\"#\" * 50, 3)"
   ],
   "outputs": [
    {
     "name": "stdout",
     "output_type": "stream",
     "text": [
      "################################################## 3\n"
     ]
    }
   ],
   "execution_count": 200
  },
  {
   "cell_type": "code",
   "id": "8de751d3",
   "metadata": {
    "ExecuteTime": {
     "end_time": "2024-09-23T16:16:00.521503Z",
     "start_time": "2024-09-23T16:16:00.513723Z"
    }
   },
   "source": [
    "t12 = torch.arange(0, 6).reshape(2, 3)  # torch.Size([2, 3])\n",
    "t13 = torch.arange(6, 12).reshape(2, 3)  # torch.Size([2, 3])\n",
    "t14 = torch.arange(12, 18).reshape(2, 3)  # torch.Size([2, 3])"
   ],
   "outputs": [],
   "execution_count": 201
  },
  {
   "cell_type": "code",
   "id": "c713c161",
   "metadata": {
    "ExecuteTime": {
     "end_time": "2024-09-23T16:16:00.647146Z",
     "start_time": "2024-09-23T16:16:00.639139Z"
    }
   },
   "source": [
    "t15 = torch.cat((t12, t13, t14), dim=0)\n",
    "print(t15.size())  # >>> torch.Size([6, 3])\n",
    "print(t15)\n",
    "# >>> tensor([[ 0,  1,  2],\n",
    "#             [ 3,  4,  5],\n",
    "#             [ 6,  7,  8],\n",
    "#             [ 9, 10, 11],\n",
    "#             [12, 13, 14],\n",
    "#             [15, 16, 17]])"
   ],
   "outputs": [
    {
     "name": "stdout",
     "output_type": "stream",
     "text": [
      "torch.Size([6, 3])\n",
      "tensor([[ 0,  1,  2],\n",
      "        [ 3,  4,  5],\n",
      "        [ 6,  7,  8],\n",
      "        [ 9, 10, 11],\n",
      "        [12, 13, 14],\n",
      "        [15, 16, 17]])\n"
     ]
    }
   ],
   "execution_count": 202
  },
  {
   "cell_type": "code",
   "id": "4dfdc413",
   "metadata": {
    "ExecuteTime": {
     "end_time": "2024-09-23T16:16:00.771807Z",
     "start_time": "2024-09-23T16:16:00.764096Z"
    }
   },
   "source": [
    "t16 = torch.cat((t12, t13, t14), dim=1)\n",
    "print(t16.size())  # >>> torch.Size([2, 9])\n",
    "print(t16)\n",
    "# >>> tensor([[ 0,  1,  2,  6,  7,  8, 12, 13, 14],\n",
    "#             [ 3,  4,  5,  9, 10, 11, 15, 16, 17]])"
   ],
   "outputs": [
    {
     "name": "stdout",
     "output_type": "stream",
     "text": [
      "torch.Size([2, 9])\n",
      "tensor([[ 0,  1,  2,  6,  7,  8, 12, 13, 14],\n",
      "        [ 3,  4,  5,  9, 10, 11, 15, 16, 17]])\n"
     ]
    }
   ],
   "execution_count": 203
  },
  {
   "cell_type": "code",
   "id": "754da99f",
   "metadata": {
    "ExecuteTime": {
     "end_time": "2024-09-23T16:16:00.907398Z",
     "start_time": "2024-09-23T16:16:00.899916Z"
    }
   },
   "source": [
    "print(\"#\" * 50, 4)"
   ],
   "outputs": [
    {
     "name": "stdout",
     "output_type": "stream",
     "text": [
      "################################################## 4\n"
     ]
    }
   ],
   "execution_count": 204
  },
  {
   "cell_type": "code",
   "id": "372479b1",
   "metadata": {
    "ExecuteTime": {
     "end_time": "2024-09-23T16:16:01.087747Z",
     "start_time": "2024-09-23T16:16:01.081991Z"
    }
   },
   "source": [
    "t17 = torch.arange(0, 6).reshape(1, 2, 3)  # torch.Size([1, 2, 3])\n",
    "t18 = torch.arange(6, 12).reshape(1, 2, 3)  # torch.Size([1, 2, 3])"
   ],
   "outputs": [],
   "execution_count": 205
  },
  {
   "cell_type": "code",
   "id": "41b80c67",
   "metadata": {
    "ExecuteTime": {
     "end_time": "2024-09-23T16:16:01.204687Z",
     "start_time": "2024-09-23T16:16:01.196684Z"
    }
   },
   "source": [
    "t19 = torch.cat((t17, t18), dim=0)\n",
    "print(t19.size())  # >>> torch.Size([2, 2, 3])\n",
    "print(t19)\n",
    "# >>> tensor([[[ 0,  1,  2],\n",
    "#              [ 3,  4,  5]],\n",
    "#             [[ 6,  7,  8],\n",
    "#              [ 9, 10, 11]]])"
   ],
   "outputs": [
    {
     "name": "stdout",
     "output_type": "stream",
     "text": [
      "torch.Size([2, 2, 3])\n",
      "tensor([[[ 0,  1,  2],\n",
      "         [ 3,  4,  5]],\n",
      "\n",
      "        [[ 6,  7,  8],\n",
      "         [ 9, 10, 11]]])\n"
     ]
    }
   ],
   "execution_count": 206
  },
  {
   "cell_type": "code",
   "id": "c652d686",
   "metadata": {
    "ExecuteTime": {
     "end_time": "2024-09-23T16:16:01.357315Z",
     "start_time": "2024-09-23T16:16:01.349941Z"
    }
   },
   "source": [
    "t20 = torch.cat((t17, t18), dim=1)\n",
    "print(t20.size())  # >>> torch.Size([1, 4, 3])\n",
    "print(t20)\n",
    "# >>> tensor([[[ 0,  1,  2],\n",
    "#              [ 3,  4,  5],\n",
    "#              [ 6,  7,  8],\n",
    "#              [ 9, 10, 11]]])"
   ],
   "outputs": [
    {
     "name": "stdout",
     "output_type": "stream",
     "text": [
      "torch.Size([1, 4, 3])\n",
      "tensor([[[ 0,  1,  2],\n",
      "         [ 3,  4,  5],\n",
      "         [ 6,  7,  8],\n",
      "         [ 9, 10, 11]]])\n"
     ]
    }
   ],
   "execution_count": 207
  },
  {
   "cell_type": "code",
   "id": "7494bea3",
   "metadata": {
    "ExecuteTime": {
     "end_time": "2024-09-23T16:16:01.543609Z",
     "start_time": "2024-09-23T16:16:01.531432Z"
    }
   },
   "source": [
    "t21 = torch.cat((t17, t18), dim=2)\n",
    "print(t21.size())  # >>> torch.Size([1, 2, 6])\n",
    "print(t21)\n",
    "# >>> tensor([[[ 0,  1,  2,  6,  7,  8],\n",
    "#              [ 3,  4,  5,  9, 10, 11]]])"
   ],
   "outputs": [
    {
     "name": "stdout",
     "output_type": "stream",
     "text": [
      "torch.Size([1, 2, 6])\n",
      "tensor([[[ 0,  1,  2,  6,  7,  8],\n",
      "         [ 3,  4,  5,  9, 10, 11]]])\n"
     ]
    }
   ],
   "execution_count": 208
  },
  {
   "cell_type": "code",
   "id": "b171689b",
   "metadata": {
    "ExecuteTime": {
     "end_time": "2024-09-23T16:16:01.720651Z",
     "start_time": "2024-09-23T16:16:01.711526Z"
    }
   },
   "source": [
    "t1 = torch.tensor([[1, 2, 3], [4, 5, 6]])\n",
    "t2 = torch.tensor([[7, 8, 9], [10, 11, 12]])"
   ],
   "outputs": [],
   "execution_count": 209
  },
  {
   "cell_type": "code",
   "id": "d2842be7",
   "metadata": {
    "ExecuteTime": {
     "end_time": "2024-09-23T16:16:01.841538Z",
     "start_time": "2024-09-23T16:16:01.830745Z"
    }
   },
   "source": [
    "t3 = torch.stack([t1, t2], dim=0)\n",
    "t4 = torch.cat([t1.unsqueeze(dim=0), t2.unsqueeze(dim=0)], dim=0)\n",
    "print(t3.shape, t3.equal(t4))"
   ],
   "outputs": [
    {
     "name": "stdout",
     "output_type": "stream",
     "text": [
      "torch.Size([2, 2, 3]) True\n"
     ]
    }
   ],
   "execution_count": 210
  },
  {
   "cell_type": "code",
   "id": "98e60b8d",
   "metadata": {
    "ExecuteTime": {
     "end_time": "2024-09-23T16:16:02.057377Z",
     "start_time": "2024-09-23T16:16:02.049341Z"
    }
   },
   "source": [
    "t5 = torch.stack([t1, t2], dim=1)\n",
    "t6 = torch.cat([t1.unsqueeze(dim=1), t2.unsqueeze(dim=1)], dim=1)\n",
    "print(t5.shape, t5.equal(t6))"
   ],
   "outputs": [
    {
     "name": "stdout",
     "output_type": "stream",
     "text": [
      "torch.Size([2, 2, 3]) True\n"
     ]
    }
   ],
   "execution_count": 211
  },
  {
   "cell_type": "code",
   "id": "9ef24e26",
   "metadata": {
    "ExecuteTime": {
     "end_time": "2024-09-23T16:16:02.229436Z",
     "start_time": "2024-09-23T16:16:02.222096Z"
    }
   },
   "source": [
    "t7 = torch.stack([t1, t2], dim=2)\n",
    "t8 = torch.cat([t1.unsqueeze(dim=2), t2.unsqueeze(dim=2)], dim=2)\n",
    "print(t7.shape, t7.equal(t8))"
   ],
   "outputs": [
    {
     "name": "stdout",
     "output_type": "stream",
     "text": [
      "torch.Size([2, 3, 2]) True\n"
     ]
    }
   ],
   "execution_count": 212
  },
  {
   "cell_type": "code",
   "id": "2702b2d0",
   "metadata": {
    "ExecuteTime": {
     "end_time": "2024-09-23T16:16:02.435071Z",
     "start_time": "2024-09-23T16:16:02.429622Z"
    }
   },
   "source": [
    "print(\"#\" * 50, 1)"
   ],
   "outputs": [
    {
     "name": "stdout",
     "output_type": "stream",
     "text": [
      "################################################## 1\n"
     ]
    }
   ],
   "execution_count": 213
  },
  {
   "cell_type": "code",
   "id": "795c6a1d",
   "metadata": {
    "ExecuteTime": {
     "end_time": "2024-09-23T16:16:02.638779Z",
     "start_time": "2024-09-23T16:16:02.632996Z"
    }
   },
   "source": [
    "t9 = torch.arange(0, 3)  # tensor([0, 1, 2])\n",
    "t10 = torch.arange(3, 6)  # tensor([3, 4, 5])"
   ],
   "outputs": [],
   "execution_count": 214
  },
  {
   "cell_type": "code",
   "id": "65f7e2a2",
   "metadata": {
    "ExecuteTime": {
     "end_time": "2024-09-23T16:16:02.785787Z",
     "start_time": "2024-09-23T16:16:02.779862Z"
    }
   },
   "source": [
    "print(t9.size(), t10.size())\n",
    "# >>> torch.Size([3]) torch.Size([3])"
   ],
   "outputs": [
    {
     "name": "stdout",
     "output_type": "stream",
     "text": [
      "torch.Size([3]) torch.Size([3])\n"
     ]
    }
   ],
   "execution_count": 215
  },
  {
   "cell_type": "code",
   "id": "73e171cf",
   "metadata": {
    "ExecuteTime": {
     "end_time": "2024-09-23T16:16:02.963441Z",
     "start_time": "2024-09-23T16:16:02.953890Z"
    }
   },
   "source": [
    "t11 = torch.stack((t9, t10), dim=0)\n",
    "print(t11.size())  # >>> torch.Size([2,3])\n",
    "print(t11)\n",
    "# >>> tensor([[0, 1, 2],\n",
    "#             [3, 4, 5]])"
   ],
   "outputs": [
    {
     "name": "stdout",
     "output_type": "stream",
     "text": [
      "torch.Size([2, 3])\n",
      "tensor([[0, 1, 2],\n",
      "        [3, 4, 5]])\n"
     ]
    }
   ],
   "execution_count": 216
  },
  {
   "cell_type": "code",
   "id": "fabe4219",
   "metadata": {
    "ExecuteTime": {
     "end_time": "2024-09-23T16:16:03.171198Z",
     "start_time": "2024-09-23T16:16:03.163931Z"
    }
   },
   "source": [
    "t12 = torch.cat((t9.unsqueeze(0), t10.unsqueeze(0)), dim=0)\n",
    "print(t11.equal(t12))\n",
    "# >>> True"
   ],
   "outputs": [
    {
     "name": "stdout",
     "output_type": "stream",
     "text": [
      "True\n"
     ]
    }
   ],
   "execution_count": 217
  },
  {
   "cell_type": "code",
   "id": "c2107f74",
   "metadata": {
    "ExecuteTime": {
     "end_time": "2024-09-23T16:16:03.338985Z",
     "start_time": "2024-09-23T16:16:03.330240Z"
    }
   },
   "source": [
    "t13 = torch.stack((t9, t10), dim=1)\n",
    "print(t13.size())  # >>> torch.Size([3,2])\n",
    "print(t13)\n",
    "# >>> tensor([[0, 3],\n",
    "#             [1, 4],\n",
    "#             [2, 5]])\n",
    "t14 = torch.cat((t9.unsqueeze(1), t10.unsqueeze(1)), dim=1)\n",
    "print(t13.equal(t14))\n",
    "# >>> True"
   ],
   "outputs": [
    {
     "name": "stdout",
     "output_type": "stream",
     "text": [
      "torch.Size([3, 2])\n",
      "tensor([[0, 3],\n",
      "        [1, 4],\n",
      "        [2, 5]])\n",
      "True\n"
     ]
    }
   ],
   "execution_count": 218
  },
  {
   "cell_type": "code",
   "id": "9cdedfde",
   "metadata": {
    "ExecuteTime": {
     "end_time": "2024-09-23T16:16:03.517223Z",
     "start_time": "2024-09-23T16:16:03.507980Z"
    }
   },
   "source": [
    "t1 = torch.tensor([1, 2, 3])\n",
    "t2 = torch.tensor([4, 5, 6])\n",
    "t3 = torch.vstack((t1, t2))\n",
    "print(t3)\n",
    "# >>> tensor([[1, 2, 3],\n",
    "#             [4, 5, 6]])"
   ],
   "outputs": [
    {
     "name": "stdout",
     "output_type": "stream",
     "text": [
      "tensor([[1, 2, 3],\n",
      "        [4, 5, 6]])\n"
     ]
    }
   ],
   "execution_count": 219
  },
  {
   "cell_type": "code",
   "id": "cb7beada",
   "metadata": {
    "ExecuteTime": {
     "end_time": "2024-09-23T16:16:03.933995Z",
     "start_time": "2024-09-23T16:16:03.926370Z"
    }
   },
   "source": [
    "t4 = torch.tensor([[1], [2], [3]])\n",
    "t5 = torch.tensor([[4], [5], [6]])\n",
    "t6 = torch.vstack((t4, t5))\n",
    "# >>> tensor([[1],\n",
    "#             [2],\n",
    "#             [3],\n",
    "#             [4],\n",
    "#             [5],\n",
    "#             [6]])"
   ],
   "outputs": [],
   "execution_count": 220
  },
  {
   "cell_type": "code",
   "id": "bf7135b5",
   "metadata": {
    "ExecuteTime": {
     "end_time": "2024-09-23T16:16:04.449497Z",
     "start_time": "2024-09-23T16:16:04.440989Z"
    }
   },
   "source": [
    "t7 = torch.tensor([\n",
    "  [[1, 2, 3], [4, 5, 6]],\n",
    "  [[7, 8, 9], [10, 11, 12]]\n",
    "])\n",
    "print(t7.shape)\n",
    "# >>> (2, 2, 3)"
   ],
   "outputs": [
    {
     "name": "stdout",
     "output_type": "stream",
     "text": [
      "torch.Size([2, 2, 3])\n"
     ]
    }
   ],
   "execution_count": 221
  },
  {
   "cell_type": "code",
   "id": "33802601",
   "metadata": {
    "ExecuteTime": {
     "end_time": "2024-09-23T16:16:04.544176Z",
     "start_time": "2024-09-23T16:16:04.533934Z"
    }
   },
   "source": [
    "t8 = torch.tensor([\n",
    "  [[13, 14, 15], [16, 17, 18]],\n",
    "  [[19, 20, 21], [22, 23, 24]]\n",
    "])\n",
    "print(t8.shape)\n",
    "# >>> (2, 2, 3)"
   ],
   "outputs": [
    {
     "name": "stdout",
     "output_type": "stream",
     "text": [
      "torch.Size([2, 2, 3])\n"
     ]
    }
   ],
   "execution_count": 222
  },
  {
   "cell_type": "code",
   "id": "3540817e",
   "metadata": {
    "ExecuteTime": {
     "end_time": "2024-09-23T16:16:04.779471Z",
     "start_time": "2024-09-23T16:16:04.769694Z"
    }
   },
   "source": [
    "t9 = torch.vstack([t7, t8])\n",
    "print(t9.shape)\n",
    "# >>> (4, 2, 3)"
   ],
   "outputs": [
    {
     "name": "stdout",
     "output_type": "stream",
     "text": [
      "torch.Size([4, 2, 3])\n"
     ]
    }
   ],
   "execution_count": 223
  },
  {
   "cell_type": "code",
   "id": "678aaa51",
   "metadata": {
    "ExecuteTime": {
     "end_time": "2024-09-23T16:16:04.932123Z",
     "start_time": "2024-09-23T16:16:04.922644Z"
    }
   },
   "source": [
    "print(t9)\n",
    "# >>> tensor([[[ 1,  2,  3],\n",
    "#              [ 4,  5,  6]],\n",
    "#             [[ 7,  8,  9],\n",
    "#              [10, 11, 12]],\n",
    "#             [[13, 14, 15],\n",
    "#              [16, 17, 18]],\n",
    "#             [[19, 20, 21],\n",
    "#              [22, 23, 24]]])"
   ],
   "outputs": [
    {
     "name": "stdout",
     "output_type": "stream",
     "text": [
      "tensor([[[ 1,  2,  3],\n",
      "         [ 4,  5,  6]],\n",
      "\n",
      "        [[ 7,  8,  9],\n",
      "         [10, 11, 12]],\n",
      "\n",
      "        [[13, 14, 15],\n",
      "         [16, 17, 18]],\n",
      "\n",
      "        [[19, 20, 21],\n",
      "         [22, 23, 24]]])\n"
     ]
    }
   ],
   "execution_count": 224
  },
  {
   "cell_type": "code",
   "id": "1118b93b",
   "metadata": {
    "ExecuteTime": {
     "end_time": "2024-09-23T16:16:05.134366Z",
     "start_time": "2024-09-23T16:16:05.125926Z"
    }
   },
   "source": [
    "print(\"#\" * 50, 1)"
   ],
   "outputs": [
    {
     "name": "stdout",
     "output_type": "stream",
     "text": [
      "################################################## 1\n"
     ]
    }
   ],
   "execution_count": 225
  },
  {
   "cell_type": "code",
   "id": "84922b66",
   "metadata": {
    "ExecuteTime": {
     "end_time": "2024-09-23T16:16:05.307971Z",
     "start_time": "2024-09-23T16:16:05.296097Z"
    }
   },
   "source": [
    "t10 = torch.tensor([1, 2, 3])\n",
    "t11 = torch.tensor([4, 5, 6])\n",
    "t12 = torch.hstack((t10, t11))\n",
    "print(t12)\n",
    "# >>> tensor([1, 2, 3, 4, 5, 6])"
   ],
   "outputs": [
    {
     "name": "stdout",
     "output_type": "stream",
     "text": [
      "tensor([1, 2, 3, 4, 5, 6])\n"
     ]
    }
   ],
   "execution_count": 226
  },
  {
   "cell_type": "code",
   "id": "49d2f70b",
   "metadata": {
    "ExecuteTime": {
     "end_time": "2024-09-23T16:16:05.480719Z",
     "start_time": "2024-09-23T16:16:05.468299Z"
    }
   },
   "source": [
    "t13 = torch.tensor([[1], [2], [3]])\n",
    "t14 = torch.tensor([[4], [5], [6]])\n",
    "t15 = torch.hstack((t13, t14))\n",
    "print(t15)\n",
    "# >>> tensor([[1, 4],\n",
    "#             [2, 5],\n",
    "#             [3, 6]])"
   ],
   "outputs": [
    {
     "name": "stdout",
     "output_type": "stream",
     "text": [
      "tensor([[1, 4],\n",
      "        [2, 5],\n",
      "        [3, 6]])\n"
     ]
    }
   ],
   "execution_count": 227
  },
  {
   "cell_type": "code",
   "id": "65faac7a",
   "metadata": {
    "ExecuteTime": {
     "end_time": "2024-09-23T16:16:05.638539Z",
     "start_time": "2024-09-23T16:16:05.629510Z"
    }
   },
   "source": [
    "t16 = torch.tensor([\n",
    "  [[1, 2, 3], [4, 5, 6]],\n",
    "  [[7, 8, 9], [10, 11, 12]]\n",
    "])\n",
    "print(t16.shape)\n",
    "# >>> (2, 2, 3)"
   ],
   "outputs": [
    {
     "name": "stdout",
     "output_type": "stream",
     "text": [
      "torch.Size([2, 2, 3])\n"
     ]
    }
   ],
   "execution_count": 228
  },
  {
   "cell_type": "code",
   "id": "21d66e5d",
   "metadata": {
    "ExecuteTime": {
     "end_time": "2024-09-23T16:16:05.743331Z",
     "start_time": "2024-09-23T16:16:05.733555Z"
    }
   },
   "source": [
    "t17 = torch.tensor([\n",
    "  [[13, 14, 15], [16, 17, 18]],\n",
    "  [[19, 20, 21], [22, 23, 24]]\n",
    "])\n",
    "print(t17.shape)\n",
    "# >>> (2, 2, 3)"
   ],
   "outputs": [
    {
     "name": "stdout",
     "output_type": "stream",
     "text": [
      "torch.Size([2, 2, 3])\n"
     ]
    }
   ],
   "execution_count": 229
  },
  {
   "cell_type": "code",
   "id": "56a2e81b",
   "metadata": {
    "ExecuteTime": {
     "end_time": "2024-09-23T16:16:05.904522Z",
     "start_time": "2024-09-23T16:16:05.897452Z"
    }
   },
   "source": [
    "t18 = torch.hstack([t16, t17])\n",
    "print(t18.shape)\n",
    "# >>> (2, 4, 3)"
   ],
   "outputs": [
    {
     "name": "stdout",
     "output_type": "stream",
     "text": [
      "torch.Size([2, 4, 3])\n"
     ]
    }
   ],
   "execution_count": 230
  },
  {
   "cell_type": "code",
   "id": "8e8202e3",
   "metadata": {
    "ExecuteTime": {
     "end_time": "2024-09-23T16:16:06.061962Z",
     "start_time": "2024-09-23T16:16:06.054052Z"
    }
   },
   "source": [
    "print(t18)\n",
    "# >>> tensor([[[ 1,  2,  3],\n",
    "#              [ 4,  5,  6],\n",
    "#              [13, 14, 15],\n",
    "#              [16, 17, 18]],\n",
    "#             [[ 7,  8,  9],\n",
    "#              [10, 11, 12],\n",
    "#              [19, 20, 21],\n",
    "#              [22, 23, 24]]])"
   ],
   "outputs": [
    {
     "name": "stdout",
     "output_type": "stream",
     "text": [
      "tensor([[[ 1,  2,  3],\n",
      "         [ 4,  5,  6],\n",
      "         [13, 14, 15],\n",
      "         [16, 17, 18]],\n",
      "\n",
      "        [[ 7,  8,  9],\n",
      "         [10, 11, 12],\n",
      "         [19, 20, 21],\n",
      "         [22, 23, 24]]])\n"
     ]
    }
   ],
   "execution_count": 231
  }
 ],
 "metadata": {
  "kernelspec": {
   "name": "python3",
   "language": "python",
   "display_name": "Python 3 (ipykernel)"
  }
 },
 "nbformat": 4,
 "nbformat_minor": 5
}
